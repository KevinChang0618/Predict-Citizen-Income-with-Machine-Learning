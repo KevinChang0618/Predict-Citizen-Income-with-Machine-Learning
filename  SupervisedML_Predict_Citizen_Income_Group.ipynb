{
 "cells": [
  {
   "cell_type": "markdown",
   "metadata": {},
   "source": [
    "# Predict Citizen Income Group"
   ]
  },
  {
   "cell_type": "markdown",
   "metadata": {},
   "source": [
    "## Use 5 different classification models to compare which one have the best performance. (Logitsic Regression, LDA, KNN, Classification Tree, Random Forest)"
   ]
  },
  {
   "cell_type": "markdown",
   "metadata": {},
   "source": [
    "## Data preprocessing"
   ]
  },
  {
   "cell_type": "markdown",
   "metadata": {},
   "source": [
    "- Load the data and check data distribution.\n",
    "- Because we are doing classification problem, we don't focus on normal distribution with predictors.\n",
    "- We found the most of capital gain are small. Only few outliers above them, so does capital loss.\n",
    "- The mode for hours per week is 40."
   ]
  },
  {
   "cell_type": "code",
   "execution_count": 14,
   "metadata": {},
   "outputs": [
    {
     "data": {
      "text/html": [
       "<table class=\"dataframe\">\n",
       "<caption>A data.frame: 6 × 15</caption>\n",
       "<thead>\n",
       "\t<tr><th></th><th scope=col>age</th><th scope=col>workclass</th><th scope=col>fnlwgt</th><th scope=col>eduaction</th><th scope=col>education_num</th><th scope=col>marital_status</th><th scope=col>occupation</th><th scope=col>relationship</th><th scope=col>race</th><th scope=col>sex</th><th scope=col>capital_gain</th><th scope=col>capital_loss</th><th scope=col>hours_per_week</th><th scope=col>native_country</th><th scope=col>income</th></tr>\n",
       "\t<tr><th></th><th scope=col>&lt;int&gt;</th><th scope=col>&lt;chr&gt;</th><th scope=col>&lt;int&gt;</th><th scope=col>&lt;chr&gt;</th><th scope=col>&lt;int&gt;</th><th scope=col>&lt;chr&gt;</th><th scope=col>&lt;chr&gt;</th><th scope=col>&lt;chr&gt;</th><th scope=col>&lt;chr&gt;</th><th scope=col>&lt;chr&gt;</th><th scope=col>&lt;int&gt;</th><th scope=col>&lt;int&gt;</th><th scope=col>&lt;int&gt;</th><th scope=col>&lt;chr&gt;</th><th scope=col>&lt;chr&gt;</th></tr>\n",
       "</thead>\n",
       "<tbody>\n",
       "\t<tr><th scope=row>1</th><td>39</td><td><span style=white-space:pre-wrap> State-gov       </span></td><td> 77516</td><td> Bachelors</td><td>13</td><td><span style=white-space:pre-wrap> Never-married     </span></td><td><span style=white-space:pre-wrap> Adm-clerical     </span></td><td> Not-in-family</td><td> White</td><td><span style=white-space:pre-wrap> Male  </span></td><td>2174</td><td>0</td><td>40</td><td> United-States</td><td> &lt;=50K</td></tr>\n",
       "\t<tr><th scope=row>2</th><td>50</td><td> Self-emp-not-inc</td><td> 83311</td><td> Bachelors</td><td>13</td><td> Married-civ-spouse</td><td><span style=white-space:pre-wrap> Exec-managerial  </span></td><td><span style=white-space:pre-wrap> Husband      </span></td><td> White</td><td><span style=white-space:pre-wrap> Male  </span></td><td><span style=white-space:pre-wrap>   0</span></td><td>0</td><td>13</td><td> United-States</td><td> &lt;=50K</td></tr>\n",
       "\t<tr><th scope=row>3</th><td>38</td><td><span style=white-space:pre-wrap> Private         </span></td><td>215646</td><td><span style=white-space:pre-wrap> HS-grad  </span></td><td> 9</td><td><span style=white-space:pre-wrap> Divorced          </span></td><td> Handlers-cleaners</td><td> Not-in-family</td><td> White</td><td><span style=white-space:pre-wrap> Male  </span></td><td><span style=white-space:pre-wrap>   0</span></td><td>0</td><td>40</td><td> United-States</td><td> &lt;=50K</td></tr>\n",
       "\t<tr><th scope=row>4</th><td>53</td><td><span style=white-space:pre-wrap> Private         </span></td><td>234721</td><td><span style=white-space:pre-wrap> 11th     </span></td><td> 7</td><td> Married-civ-spouse</td><td> Handlers-cleaners</td><td><span style=white-space:pre-wrap> Husband      </span></td><td> Black</td><td><span style=white-space:pre-wrap> Male  </span></td><td><span style=white-space:pre-wrap>   0</span></td><td>0</td><td>40</td><td> United-States</td><td> &lt;=50K</td></tr>\n",
       "\t<tr><th scope=row>5</th><td>28</td><td><span style=white-space:pre-wrap> Private         </span></td><td>338409</td><td> Bachelors</td><td>13</td><td> Married-civ-spouse</td><td><span style=white-space:pre-wrap> Prof-specialty   </span></td><td><span style=white-space:pre-wrap> Wife         </span></td><td> Black</td><td> Female</td><td><span style=white-space:pre-wrap>   0</span></td><td>0</td><td>40</td><td><span style=white-space:pre-wrap> Cuba         </span></td><td> &lt;=50K</td></tr>\n",
       "\t<tr><th scope=row>6</th><td>37</td><td><span style=white-space:pre-wrap> Private         </span></td><td>284582</td><td><span style=white-space:pre-wrap> Masters  </span></td><td>14</td><td> Married-civ-spouse</td><td><span style=white-space:pre-wrap> Exec-managerial  </span></td><td><span style=white-space:pre-wrap> Wife         </span></td><td> White</td><td> Female</td><td><span style=white-space:pre-wrap>   0</span></td><td>0</td><td>40</td><td> United-States</td><td> &lt;=50K</td></tr>\n",
       "</tbody>\n",
       "</table>\n"
      ],
      "text/latex": [
       "A data.frame: 6 × 15\n",
       "\\begin{tabular}{r|lllllllllllllll}\n",
       "  & age & workclass & fnlwgt & eduaction & education\\_num & marital\\_status & occupation & relationship & race & sex & capital\\_gain & capital\\_loss & hours\\_per\\_week & native\\_country & income\\\\\n",
       "  & <int> & <chr> & <int> & <chr> & <int> & <chr> & <chr> & <chr> & <chr> & <chr> & <int> & <int> & <int> & <chr> & <chr>\\\\\n",
       "\\hline\n",
       "\t1 & 39 &  State-gov        &  77516 &  Bachelors & 13 &  Never-married      &  Adm-clerical      &  Not-in-family &  White &  Male   & 2174 & 0 & 40 &  United-States &  <=50K\\\\\n",
       "\t2 & 50 &  Self-emp-not-inc &  83311 &  Bachelors & 13 &  Married-civ-spouse &  Exec-managerial   &  Husband       &  White &  Male   &    0 & 0 & 13 &  United-States &  <=50K\\\\\n",
       "\t3 & 38 &  Private          & 215646 &  HS-grad   &  9 &  Divorced           &  Handlers-cleaners &  Not-in-family &  White &  Male   &    0 & 0 & 40 &  United-States &  <=50K\\\\\n",
       "\t4 & 53 &  Private          & 234721 &  11th      &  7 &  Married-civ-spouse &  Handlers-cleaners &  Husband       &  Black &  Male   &    0 & 0 & 40 &  United-States &  <=50K\\\\\n",
       "\t5 & 28 &  Private          & 338409 &  Bachelors & 13 &  Married-civ-spouse &  Prof-specialty    &  Wife          &  Black &  Female &    0 & 0 & 40 &  Cuba          &  <=50K\\\\\n",
       "\t6 & 37 &  Private          & 284582 &  Masters   & 14 &  Married-civ-spouse &  Exec-managerial   &  Wife          &  White &  Female &    0 & 0 & 40 &  United-States &  <=50K\\\\\n",
       "\\end{tabular}\n"
      ],
      "text/markdown": [
       "\n",
       "A data.frame: 6 × 15\n",
       "\n",
       "| <!--/--> | age &lt;int&gt; | workclass &lt;chr&gt; | fnlwgt &lt;int&gt; | eduaction &lt;chr&gt; | education_num &lt;int&gt; | marital_status &lt;chr&gt; | occupation &lt;chr&gt; | relationship &lt;chr&gt; | race &lt;chr&gt; | sex &lt;chr&gt; | capital_gain &lt;int&gt; | capital_loss &lt;int&gt; | hours_per_week &lt;int&gt; | native_country &lt;chr&gt; | income &lt;chr&gt; |\n",
       "|---|---|---|---|---|---|---|---|---|---|---|---|---|---|---|---|\n",
       "| 1 | 39 |  State-gov        |  77516 |  Bachelors | 13 |  Never-married      |  Adm-clerical      |  Not-in-family |  White |  Male   | 2174 | 0 | 40 |  United-States |  &lt;=50K |\n",
       "| 2 | 50 |  Self-emp-not-inc |  83311 |  Bachelors | 13 |  Married-civ-spouse |  Exec-managerial   |  Husband       |  White |  Male   |    0 | 0 | 13 |  United-States |  &lt;=50K |\n",
       "| 3 | 38 |  Private          | 215646 |  HS-grad   |  9 |  Divorced           |  Handlers-cleaners |  Not-in-family |  White |  Male   |    0 | 0 | 40 |  United-States |  &lt;=50K |\n",
       "| 4 | 53 |  Private          | 234721 |  11th      |  7 |  Married-civ-spouse |  Handlers-cleaners |  Husband       |  Black |  Male   |    0 | 0 | 40 |  United-States |  &lt;=50K |\n",
       "| 5 | 28 |  Private          | 338409 |  Bachelors | 13 |  Married-civ-spouse |  Prof-specialty    |  Wife          |  Black |  Female |    0 | 0 | 40 |  Cuba          |  &lt;=50K |\n",
       "| 6 | 37 |  Private          | 284582 |  Masters   | 14 |  Married-civ-spouse |  Exec-managerial   |  Wife          |  White |  Female |    0 | 0 | 40 |  United-States |  &lt;=50K |\n",
       "\n"
      ],
      "text/plain": [
       "  age workclass         fnlwgt eduaction  education_num marital_status     \n",
       "1 39   State-gov         77516  Bachelors 13             Never-married     \n",
       "2 50   Self-emp-not-inc  83311  Bachelors 13             Married-civ-spouse\n",
       "3 38   Private          215646  HS-grad    9             Divorced          \n",
       "4 53   Private          234721  11th       7             Married-civ-spouse\n",
       "5 28   Private          338409  Bachelors 13             Married-civ-spouse\n",
       "6 37   Private          284582  Masters   14             Married-civ-spouse\n",
       "  occupation         relationship   race   sex     capital_gain capital_loss\n",
       "1  Adm-clerical       Not-in-family  White  Male   2174         0           \n",
       "2  Exec-managerial    Husband        White  Male      0         0           \n",
       "3  Handlers-cleaners  Not-in-family  White  Male      0         0           \n",
       "4  Handlers-cleaners  Husband        Black  Male      0         0           \n",
       "5  Prof-specialty     Wife           Black  Female    0         0           \n",
       "6  Exec-managerial    Wife           White  Female    0         0           \n",
       "  hours_per_week native_country income\n",
       "1 40              United-States  <=50K\n",
       "2 13              United-States  <=50K\n",
       "3 40              United-States  <=50K\n",
       "4 40              United-States  <=50K\n",
       "5 40              Cuba           <=50K\n",
       "6 40              United-States  <=50K"
      ]
     },
     "metadata": {},
     "output_type": "display_data"
    }
   ],
   "source": [
    "library(tidyverse)\n",
    "adult<-read.table(\"adult.data\", sep=\",\", stringsAsFactors = F, na.strings = \"?\")\n",
    "colnames(adult)<-c(\"age\",\"workclass\",\"fnlwgt\",\"eduaction\",\"education_num\",\"marital_status\",\"occupation\",\n",
    "                   \"relationship\",\"race\",\"sex\",\"capital_gain\",\"capital_loss\",\"hours_per_week\",\"native_country\",\"income\")\n",
    "head(adult)"
   ]
  },
  {
   "cell_type": "code",
   "execution_count": 12,
   "metadata": {},
   "outputs": [
    {
     "data": {
      "image/png": "[encoded data removed]",
      "text/plain": [
       "Plot with title \"Histogram of adult$hours_per_week\""
      ]
     },
     "metadata": {
      "image/png": {
       "height": 420,
       "width": 420
      }
     },
     "output_type": "display_data"
    }
   ],
   "source": [
    "par(mfrow = c(2,3))\n",
    "hist(adult$age)\n",
    "hist(adult$fnlwgt)\n",
    "hist(adult$capital_gain)\n",
    "hist(adult$capital_loss)\n",
    "hist(adult$hours_per_week)"
   ]
  },
  {
   "cell_type": "markdown",
   "metadata": {},
   "source": [
    "- Check every observations having missing value or not. If there have missing value, we would remove the observation. (Because there only have 7% observations missing, we choose to omit them. However, if we have more missing value such as 30% missing values, I would choose to use mean/ median/ mode to predict them or I can use KNN model to predict them.)"
   ]
  },
  {
   "cell_type": "code",
   "execution_count": 15,
   "metadata": {},
   "outputs": [
    {
     "data": {
      "text/html": [
       "<table class=\"dataframe\">\n",
       "<caption>A data.frame: 6 × 15</caption>\n",
       "<thead>\n",
       "\t<tr><th></th><th scope=col>age</th><th scope=col>workclass</th><th scope=col>fnlwgt</th><th scope=col>eduaction</th><th scope=col>education_num</th><th scope=col>marital_status</th><th scope=col>occupation</th><th scope=col>relationship</th><th scope=col>race</th><th scope=col>sex</th><th scope=col>capital_gain</th><th scope=col>capital_loss</th><th scope=col>hours_per_week</th><th scope=col>native_country</th><th scope=col>income</th></tr>\n",
       "\t<tr><th></th><th scope=col>&lt;int&gt;</th><th scope=col>&lt;chr&gt;</th><th scope=col>&lt;int&gt;</th><th scope=col>&lt;chr&gt;</th><th scope=col>&lt;int&gt;</th><th scope=col>&lt;chr&gt;</th><th scope=col>&lt;chr&gt;</th><th scope=col>&lt;chr&gt;</th><th scope=col>&lt;chr&gt;</th><th scope=col>&lt;chr&gt;</th><th scope=col>&lt;int&gt;</th><th scope=col>&lt;int&gt;</th><th scope=col>&lt;int&gt;</th><th scope=col>&lt;chr&gt;</th><th scope=col>&lt;dbl&gt;</th></tr>\n",
       "</thead>\n",
       "<tbody>\n",
       "\t<tr><th scope=row>1</th><td>39</td><td> State-gov       </td><td> 77516</td><td> Bachelors</td><td>13</td><td> Never-married     </td><td> Adm-clerical     </td><td> Not-in-family</td><td> White</td><td> Male  </td><td>2174</td><td>0</td><td>40</td><td> United-States</td><td>1</td></tr>\n",
       "\t<tr><th scope=row>2</th><td>50</td><td> Self-emp-not-inc</td><td> 83311</td><td> Bachelors</td><td>13</td><td> Married-civ-spouse</td><td> Exec-managerial  </td><td> Husband      </td><td> White</td><td> Male  </td><td>   0</td><td>0</td><td>13</td><td> United-States</td><td>1</td></tr>\n",
       "\t<tr><th scope=row>3</th><td>38</td><td> Private         </td><td>215646</td><td> HS-grad  </td><td> 9</td><td> Divorced          </td><td> Handlers-cleaners</td><td> Not-in-family</td><td> White</td><td> Male  </td><td>   0</td><td>0</td><td>40</td><td> United-States</td><td>1</td></tr>\n",
       "\t<tr><th scope=row>4</th><td>53</td><td> Private         </td><td>234721</td><td> 11th     </td><td> 7</td><td> Married-civ-spouse</td><td> Handlers-cleaners</td><td> Husband      </td><td> Black</td><td> Male  </td><td>   0</td><td>0</td><td>40</td><td> United-States</td><td>1</td></tr>\n",
       "\t<tr><th scope=row>5</th><td>28</td><td> Private         </td><td>338409</td><td> Bachelors</td><td>13</td><td> Married-civ-spouse</td><td> Prof-specialty   </td><td> Wife         </td><td> Black</td><td> Female</td><td>   0</td><td>0</td><td>40</td><td> Cuba         </td><td>1</td></tr>\n",
       "\t<tr><th scope=row>6</th><td>37</td><td> Private         </td><td>284582</td><td> Masters  </td><td>14</td><td> Married-civ-spouse</td><td> Exec-managerial  </td><td> Wife         </td><td> White</td><td> Female</td><td>   0</td><td>0</td><td>40</td><td> United-States</td><td>1</td></tr>\n",
       "</tbody>\n",
       "</table>\n"
      ],
      "text/latex": [
       "A data.frame: 6 × 15\n",
       "\\begin{tabular}{r|lllllllllllllll}\n",
       "  & age & workclass & fnlwgt & eduaction & education\\_num & marital\\_status & occupation & relationship & race & sex & capital\\_gain & capital\\_loss & hours\\_per\\_week & native\\_country & income\\\\\n",
       "  & <int> & <chr> & <int> & <chr> & <int> & <chr> & <chr> & <chr> & <chr> & <chr> & <int> & <int> & <int> & <chr> & <dbl>\\\\\n",
       "\\hline\n",
       "\t1 & 39 &  State-gov        &  77516 &  Bachelors & 13 &  Never-married      &  Adm-clerical      &  Not-in-family &  White &  Male   & 2174 & 0 & 40 &  United-States & 1\\\\\n",
       "\t2 & 50 &  Self-emp-not-inc &  83311 &  Bachelors & 13 &  Married-civ-spouse &  Exec-managerial   &  Husband       &  White &  Male   &    0 & 0 & 13 &  United-States & 1\\\\\n",
       "\t3 & 38 &  Private          & 215646 &  HS-grad   &  9 &  Divorced           &  Handlers-cleaners &  Not-in-family &  White &  Male   &    0 & 0 & 40 &  United-States & 1\\\\\n",
       "\t4 & 53 &  Private          & 234721 &  11th      &  7 &  Married-civ-spouse &  Handlers-cleaners &  Husband       &  Black &  Male   &    0 & 0 & 40 &  United-States & 1\\\\\n",
       "\t5 & 28 &  Private          & 338409 &  Bachelors & 13 &  Married-civ-spouse &  Prof-specialty    &  Wife          &  Black &  Female &    0 & 0 & 40 &  Cuba          & 1\\\\\n",
       "\t6 & 37 &  Private          & 284582 &  Masters   & 14 &  Married-civ-spouse &  Exec-managerial   &  Wife          &  White &  Female &    0 & 0 & 40 &  United-States & 1\\\\\n",
       "\\end{tabular}\n"
      ],
      "text/markdown": [
       "\n",
       "A data.frame: 6 × 15\n",
       "\n",
       "| <!--/--> | age &lt;int&gt; | workclass &lt;chr&gt; | fnlwgt &lt;int&gt; | eduaction &lt;chr&gt; | education_num &lt;int&gt; | marital_status &lt;chr&gt; | occupation &lt;chr&gt; | relationship &lt;chr&gt; | race &lt;chr&gt; | sex &lt;chr&gt; | capital_gain &lt;int&gt; | capital_loss &lt;int&gt; | hours_per_week &lt;int&gt; | native_country &lt;chr&gt; | income &lt;dbl&gt; |\n",
       "|---|---|---|---|---|---|---|---|---|---|---|---|---|---|---|---|\n",
       "| 1 | 39 |  State-gov        |  77516 |  Bachelors | 13 |  Never-married      |  Adm-clerical      |  Not-in-family |  White |  Male   | 2174 | 0 | 40 |  United-States | 1 |\n",
       "| 2 | 50 |  Self-emp-not-inc |  83311 |  Bachelors | 13 |  Married-civ-spouse |  Exec-managerial   |  Husband       |  White |  Male   |    0 | 0 | 13 |  United-States | 1 |\n",
       "| 3 | 38 |  Private          | 215646 |  HS-grad   |  9 |  Divorced           |  Handlers-cleaners |  Not-in-family |  White |  Male   |    0 | 0 | 40 |  United-States | 1 |\n",
       "| 4 | 53 |  Private          | 234721 |  11th      |  7 |  Married-civ-spouse |  Handlers-cleaners |  Husband       |  Black |  Male   |    0 | 0 | 40 |  United-States | 1 |\n",
       "| 5 | 28 |  Private          | 338409 |  Bachelors | 13 |  Married-civ-spouse |  Prof-specialty    |  Wife          |  Black |  Female |    0 | 0 | 40 |  Cuba          | 1 |\n",
       "| 6 | 37 |  Private          | 284582 |  Masters   | 14 |  Married-civ-spouse |  Exec-managerial   |  Wife          |  White |  Female |    0 | 0 | 40 |  United-States | 1 |\n",
       "\n"
      ],
      "text/plain": [
       "  age workclass         fnlwgt eduaction  education_num marital_status     \n",
       "1 39   State-gov         77516  Bachelors 13             Never-married     \n",
       "2 50   Self-emp-not-inc  83311  Bachelors 13             Married-civ-spouse\n",
       "3 38   Private          215646  HS-grad    9             Divorced          \n",
       "4 53   Private          234721  11th       7             Married-civ-spouse\n",
       "5 28   Private          338409  Bachelors 13             Married-civ-spouse\n",
       "6 37   Private          284582  Masters   14             Married-civ-spouse\n",
       "  occupation         relationship   race   sex     capital_gain capital_loss\n",
       "1  Adm-clerical       Not-in-family  White  Male   2174         0           \n",
       "2  Exec-managerial    Husband        White  Male      0         0           \n",
       "3  Handlers-cleaners  Not-in-family  White  Male      0         0           \n",
       "4  Handlers-cleaners  Husband        Black  Male      0         0           \n",
       "5  Prof-specialty     Wife           Black  Female    0         0           \n",
       "6  Exec-managerial    Wife           White  Female    0         0           \n",
       "  hours_per_week native_country income\n",
       "1 40              United-States 1     \n",
       "2 13              United-States 1     \n",
       "3 40              United-States 1     \n",
       "4 40              United-States 1     \n",
       "5 40              Cuba          1     \n",
       "6 40              United-States 1     "
      ]
     },
     "metadata": {},
     "output_type": "display_data"
    }
   ],
   "source": [
    "z = c()\n",
    "for (i in 1:nrow(adult)){\n",
    "  for (j in 1:15){\n",
    "    if(adult[i,j]==\" ?\"){\n",
    "      z = append(z,i)\n",
    "      break\n",
    "    }\n",
    "  }\n",
    "}\n",
    "\n",
    "adult = adult[-z, ]\n",
    "\n",
    "mutate(adult, income = recode(income,\" <=50K\"=\"1\",\n",
    "                              \" >50K\"=\"0\")) -> adult # because logistic regression predict 1/0, we transfer here.\n",
    "\n",
    "adult$income <- as.numeric(adult$income)\n",
    "head(adult)"
   ]
  },
  {
   "cell_type": "markdown",
   "metadata": {},
   "source": [
    "## Fit logistic regression with variable selection"
   ]
  },
  {
   "cell_type": "markdown",
   "metadata": {},
   "source": [
    "- Fit the logistic regression and use step-forward to do variable selection.\n",
    "- Here has some warning message because we have outliers in the dataset.\n",
    "- Remove outliers to fit logistic regression model."
   ]
  },
  {
   "cell_type": "code",
   "execution_count": 16,
   "metadata": {},
   "outputs": [
    {
     "name": "stderr",
     "output_type": "stream",
     "text": [
      "Warning message:\n",
      "\"glm.fit: fitted probabilities numerically 0 or 1 occurred\"\n"
     ]
    },
    {
     "name": "stdout",
     "output_type": "stream",
     "text": [
      "Start:  AIC=33852.71\n",
      "income ~ 1\n",
      "\n"
     ]
    },
    {
     "name": "stderr",
     "output_type": "stream",
     "text": [
      "Warning message:\n",
      "\"glm.fit: fitted probabilities numerically 0 or 1 occurred\"\n"
     ]
    },
    {
     "name": "stdout",
     "output_type": "stream",
     "text": [
      "                 Df Deviance   AIC\n",
      "+ relationship    5    26902 26914\n",
      "+ marital_status  6    27266 27280\n",
      "+ eduaction      15    29946 29978\n",
      "+ occupation     13    29954 29982\n",
      "+ education_num   1    30109 30113\n",
      "+ capital_gain    1    30699 30703\n",
      "+ age             1    32112 32116\n",
      "+ hours_per_week  1    32232 32236\n",
      "+ sex             1    32287 32291\n",
      "+ workclass       6    33136 33150\n",
      "+ capital_loss    1    33269 33273\n",
      "+ race            4    33504 33514\n",
      "+ native_country 40    33461 33543\n",
      "+ fnlwgt          1    33848 33852\n",
      "<none>                 33851 33853\n",
      "\n",
      "Step:  AIC=26914.23\n",
      "income ~ relationship\n",
      "\n"
     ]
    },
    {
     "name": "stderr",
     "output_type": "stream",
     "text": [
      "Warning message:\n",
      "\"glm.fit: fitted probabilities numerically 0 or 1 occurred\"\n"
     ]
    },
    {
     "name": "stdout",
     "output_type": "stream",
     "text": [
      "                 Df Deviance   AIC\n",
      "+ eduaction      15    23485 23527\n",
      "+ education_num   1    23576 23590\n",
      "+ occupation     13    23961 23999\n",
      "+ capital_gain    1    24433 24447\n",
      "+ hours_per_week  1    26296 26310\n",
      "+ capital_loss    1    26536 26550\n",
      "+ workclass       6    26530 26554\n",
      "+ age             1    26581 26595\n",
      "+ native_country 40    26557 26649\n",
      "+ marital_status  6    26761 26785\n",
      "+ sex             1    26784 26798\n",
      "+ race            4    26791 26811\n",
      "<none>                 26902 26914\n",
      "+ fnlwgt          1    26901 26915\n",
      "- relationship    5    33851 33853\n",
      "\n",
      "Step:  AIC=23526.95\n",
      "income ~ relationship + eduaction\n",
      "\n"
     ]
    },
    {
     "name": "stderr",
     "output_type": "stream",
     "text": [
      "Warning message:\n",
      "\"glm.fit: fitted probabilities numerically 0 or 1 occurred\"\n"
     ]
    },
    {
     "name": "stdout",
     "output_type": "stream",
     "text": [
      "                 Df Deviance   AIC\n",
      "+ capital_gain    1    21575 21619\n",
      "+ occupation     13    22635 22703\n",
      "+ hours_per_week  1    23117 23161\n",
      "+ age             1    23128 23172\n",
      "+ capital_loss    1    23252 23296\n",
      "+ workclass       6    23270 23324\n",
      "+ marital_status  6    23288 23342\n",
      "+ sex             1    23339 23383\n",
      "+ native_country 40    23354 23476\n",
      "+ race            4    23442 23492\n",
      "+ fnlwgt          1    23477 23521\n",
      "<none>                 23485 23527\n",
      "- eduaction      15    26902 26914\n",
      "- relationship    5    29946 29978\n"
     ]
    },
    {
     "name": "stderr",
     "output_type": "stream",
     "text": [
      "Warning message:\n",
      "\"glm.fit: fitted probabilities numerically 0 or 1 occurred\"\n"
     ]
    },
    {
     "name": "stdout",
     "output_type": "stream",
     "text": [
      "\n",
      "Step:  AIC=21619.14\n",
      "income ~ relationship + eduaction + capital_gain\n",
      "\n"
     ]
    },
    {
     "name": "stderr",
     "output_type": "stream",
     "text": [
      "Warning message:\n",
      "\"glm.fit: fitted probabilities numerically 0 or 1 occurred\"\n",
      "Warning message:\n",
      "\"glm.fit: fitted probabilities numerically 0 or 1 occurred\"\n",
      "Warning message:\n",
      "\"glm.fit: fitted probabilities numerically 0 or 1 occurred\"\n",
      "Warning message:\n",
      "\"glm.fit: fitted probabilities numerically 0 or 1 occurred\"\n",
      "Warning message:\n",
      "\"glm.fit: fitted probabilities numerically 0 or 1 occurred\"\n",
      "Warning message:\n",
      "\"glm.fit: fitted probabilities numerically 0 or 1 occurred\"\n",
      "Warning message:\n",
      "\"glm.fit: fitted probabilities numerically 0 or 1 occurred\"\n",
      "Warning message:\n",
      "\"glm.fit: fitted probabilities numerically 0 or 1 occurred\"\n",
      "Warning message:\n",
      "\"glm.fit: fitted probabilities numerically 0 or 1 occurred\"\n",
      "Warning message:\n",
      "\"glm.fit: fitted probabilities numerically 0 or 1 occurred\"\n",
      "Warning message:\n",
      "\"glm.fit: fitted probabilities numerically 0 or 1 occurred\"\n",
      "Warning message:\n",
      "\"glm.fit: fitted probabilities numerically 0 or 1 occurred\"\n",
      "Warning message:\n",
      "\"glm.fit: fitted probabilities numerically 0 or 1 occurred\"\n",
      "Warning message:\n",
      "\"glm.fit: fitted probabilities numerically 0 or 1 occurred\"\n"
     ]
    },
    {
     "name": "stdout",
     "output_type": "stream",
     "text": [
      "                 Df Deviance   AIC\n",
      "+ occupation     13    20825 20895\n",
      "+ capital_loss    1    21221 21267\n",
      "+ hours_per_week  1    21255 21301\n",
      "+ age             1    21321 21367\n",
      "+ workclass       6    21390 21446\n",
      "+ marital_status  6    21398 21454\n",
      "+ sex             1    21450 21496\n",
      "+ native_country 40    21459 21583\n",
      "+ race            4    21534 21586\n",
      "+ fnlwgt          1    21569 21615\n",
      "<none>                 21575 21619\n",
      "- capital_gain    1    23485 23527\n",
      "- eduaction      15    24434 24448\n",
      "- relationship    5    27567 27601\n"
     ]
    },
    {
     "name": "stderr",
     "output_type": "stream",
     "text": [
      "Warning message:\n",
      "\"glm.fit: fitted probabilities numerically 0 or 1 occurred\"\n"
     ]
    },
    {
     "name": "stdout",
     "output_type": "stream",
     "text": [
      "\n",
      "Step:  AIC=20894.81\n",
      "income ~ relationship + eduaction + capital_gain + occupation\n",
      "\n"
     ]
    },
    {
     "name": "stderr",
     "output_type": "stream",
     "text": [
      "Warning message:\n",
      "\"glm.fit: fitted probabilities numerically 0 or 1 occurred\"\n",
      "Warning message:\n",
      "\"glm.fit: fitted probabilities numerically 0 or 1 occurred\"\n",
      "Warning message:\n",
      "\"glm.fit: fitted probabilities numerically 0 or 1 occurred\"\n",
      "Warning message:\n",
      "\"glm.fit: fitted probabilities numerically 0 or 1 occurred\"\n",
      "Warning message:\n",
      "\"glm.fit: fitted probabilities numerically 0 or 1 occurred\"\n",
      "Warning message:\n",
      "\"glm.fit: fitted probabilities numerically 0 or 1 occurred\"\n",
      "Warning message:\n",
      "\"glm.fit: fitted probabilities numerically 0 or 1 occurred\"\n",
      "Warning message:\n",
      "\"glm.fit: fitted probabilities numerically 0 or 1 occurred\"\n",
      "Warning message:\n",
      "\"glm.fit: fitted probabilities numerically 0 or 1 occurred\"\n",
      "Warning message:\n",
      "\"glm.fit: fitted probabilities numerically 0 or 1 occurred\"\n",
      "Warning message:\n",
      "\"glm.fit: fitted probabilities numerically 0 or 1 occurred\"\n",
      "Warning message:\n",
      "\"glm.fit: fitted probabilities numerically 0 or 1 occurred\"\n",
      "Warning message:\n",
      "\"glm.fit: fitted probabilities numerically 0 or 1 occurred\"\n",
      "Warning message:\n",
      "\"glm.fit: fitted probabilities numerically 0 or 1 occurred\"\n"
     ]
    },
    {
     "name": "stdout",
     "output_type": "stream",
     "text": [
      "                 Df Deviance   AIC\n",
      "+ capital_loss    1    20508 20580\n",
      "+ hours_per_week  1    20542 20614\n",
      "+ age             1    20608 20680\n",
      "+ marital_status  6    20662 20744\n",
      "+ sex             1    20695 20767\n",
      "+ workclass       6    20688 20770\n",
      "+ race            4    20799 20877\n",
      "+ native_country 40    20728 20878\n",
      "+ fnlwgt          1    20819 20891\n",
      "<none>                 20825 20895\n",
      "- occupation     13    21575 21619\n",
      "- eduaction      15    21945 21985\n",
      "- capital_gain    1    22635 22703\n",
      "- relationship    5    26164 26224\n"
     ]
    },
    {
     "name": "stderr",
     "output_type": "stream",
     "text": [
      "Warning message:\n",
      "\"glm.fit: fitted probabilities numerically 0 or 1 occurred\"\n"
     ]
    },
    {
     "name": "stdout",
     "output_type": "stream",
     "text": [
      "\n",
      "Step:  AIC=20580.4\n",
      "income ~ relationship + eduaction + capital_gain + occupation + \n",
      "    capital_loss\n",
      "\n"
     ]
    },
    {
     "name": "stderr",
     "output_type": "stream",
     "text": [
      "Warning message:\n",
      "\"glm.fit: fitted probabilities numerically 0 or 1 occurred\"\n",
      "Warning message:\n",
      "\"glm.fit: fitted probabilities numerically 0 or 1 occurred\"\n",
      "Warning message:\n",
      "\"glm.fit: fitted probabilities numerically 0 or 1 occurred\"\n",
      "Warning message:\n",
      "\"glm.fit: fitted probabilities numerically 0 or 1 occurred\"\n",
      "Warning message:\n",
      "\"glm.fit: fitted probabilities numerically 0 or 1 occurred\"\n",
      "Warning message:\n",
      "\"glm.fit: fitted probabilities numerically 0 or 1 occurred\"\n",
      "Warning message:\n",
      "\"glm.fit: fitted probabilities numerically 0 or 1 occurred\"\n",
      "Warning message:\n",
      "\"glm.fit: fitted probabilities numerically 0 or 1 occurred\"\n",
      "Warning message:\n",
      "\"glm.fit: fitted probabilities numerically 0 or 1 occurred\"\n",
      "Warning message:\n",
      "\"glm.fit: fitted probabilities numerically 0 or 1 occurred\"\n",
      "Warning message:\n",
      "\"glm.fit: fitted probabilities numerically 0 or 1 occurred\"\n",
      "Warning message:\n",
      "\"glm.fit: fitted probabilities numerically 0 or 1 occurred\"\n",
      "Warning message:\n",
      "\"glm.fit: fitted probabilities numerically 0 or 1 occurred\"\n",
      "Warning message:\n",
      "\"glm.fit: fitted probabilities numerically 0 or 1 occurred\"\n"
     ]
    },
    {
     "name": "stdout",
     "output_type": "stream",
     "text": [
      "                 Df Deviance   AIC\n",
      "+ hours_per_week  1    20233 20307\n",
      "+ age             1    20306 20380\n",
      "+ marital_status  6    20347 20431\n",
      "+ sex             1    20381 20455\n",
      "+ workclass       6    20375 20459\n",
      "+ race            4    20484 20564\n",
      "+ native_country 40    20413 20565\n",
      "+ fnlwgt          1    20502 20576\n",
      "<none>                 20508 20580\n",
      "- capital_loss    1    20825 20895\n",
      "- occupation     13    21221 21267\n",
      "- eduaction      15    21566 21608\n",
      "- capital_gain    1    22431 22501\n",
      "- relationship    5    25688 25750\n"
     ]
    },
    {
     "name": "stderr",
     "output_type": "stream",
     "text": [
      "Warning message:\n",
      "\"glm.fit: fitted probabilities numerically 0 or 1 occurred\"\n"
     ]
    },
    {
     "name": "stdout",
     "output_type": "stream",
     "text": [
      "\n",
      "Step:  AIC=20306.52\n",
      "income ~ relationship + eduaction + capital_gain + occupation + \n",
      "    capital_loss + hours_per_week\n",
      "\n"
     ]
    },
    {
     "name": "stderr",
     "output_type": "stream",
     "text": [
      "Warning message:\n",
      "\"glm.fit: fitted probabilities numerically 0 or 1 occurred\"\n",
      "Warning message:\n",
      "\"glm.fit: fitted probabilities numerically 0 or 1 occurred\"\n",
      "Warning message:\n",
      "\"glm.fit: fitted probabilities numerically 0 or 1 occurred\"\n",
      "Warning message:\n",
      "\"glm.fit: fitted probabilities numerically 0 or 1 occurred\"\n",
      "Warning message:\n",
      "\"glm.fit: fitted probabilities numerically 0 or 1 occurred\"\n",
      "Warning message:\n",
      "\"glm.fit: fitted probabilities numerically 0 or 1 occurred\"\n",
      "Warning message:\n",
      "\"glm.fit: fitted probabilities numerically 0 or 1 occurred\"\n",
      "Warning message:\n",
      "\"glm.fit: fitted probabilities numerically 0 or 1 occurred\"\n",
      "Warning message:\n",
      "\"glm.fit: fitted probabilities numerically 0 or 1 occurred\"\n",
      "Warning message:\n",
      "\"glm.fit: fitted probabilities numerically 0 or 1 occurred\"\n",
      "Warning message:\n",
      "\"glm.fit: fitted probabilities numerically 0 or 1 occurred\"\n",
      "Warning message:\n",
      "\"glm.fit: fitted probabilities numerically 0 or 1 occurred\"\n",
      "Warning message:\n",
      "\"glm.fit: fitted probabilities numerically 0 or 1 occurred\"\n",
      "Warning message:\n",
      "\"glm.fit: fitted probabilities numerically 0 or 1 occurred\"\n"
     ]
    },
    {
     "name": "stdout",
     "output_type": "stream",
     "text": [
      "                 Df Deviance   AIC\n",
      "+ age             1    19954 20030\n",
      "+ marital_status  6    20074 20160\n",
      "+ sex             1    20125 20201\n",
      "+ workclass       6    20115 20201\n",
      "+ native_country 40    20138 20292\n",
      "+ race            4    20211 20293\n",
      "+ fnlwgt          1    20224 20300\n",
      "<none>                 20233 20307\n",
      "- hours_per_week  1    20508 20580\n",
      "- capital_loss    1    20542 20614\n",
      "- occupation     13    20912 20960\n",
      "- eduaction      15    21208 21252\n",
      "- capital_gain    1    22123 22195\n",
      "- relationship    5    25101 25165\n"
     ]
    },
    {
     "name": "stderr",
     "output_type": "stream",
     "text": [
      "Warning message:\n",
      "\"glm.fit: fitted probabilities numerically 0 or 1 occurred\"\n"
     ]
    },
    {
     "name": "stdout",
     "output_type": "stream",
     "text": [
      "\n",
      "Step:  AIC=20029.6\n",
      "income ~ relationship + eduaction + capital_gain + occupation + \n",
      "    capital_loss + hours_per_week + age\n",
      "\n"
     ]
    },
    {
     "name": "stderr",
     "output_type": "stream",
     "text": [
      "Warning message:\n",
      "\"glm.fit: fitted probabilities numerically 0 or 1 occurred\"\n",
      "Warning message:\n",
      "\"glm.fit: fitted probabilities numerically 0 or 1 occurred\"\n",
      "Warning message:\n",
      "\"glm.fit: fitted probabilities numerically 0 or 1 occurred\"\n",
      "Warning message:\n",
      "\"glm.fit: fitted probabilities numerically 0 or 1 occurred\"\n",
      "Warning message:\n",
      "\"glm.fit: fitted probabilities numerically 0 or 1 occurred\"\n",
      "Warning message:\n",
      "\"glm.fit: fitted probabilities numerically 0 or 1 occurred\"\n",
      "Warning message:\n",
      "\"glm.fit: fitted probabilities numerically 0 or 1 occurred\"\n",
      "Warning message:\n",
      "\"glm.fit: fitted probabilities numerically 0 or 1 occurred\"\n",
      "Warning message:\n",
      "\"glm.fit: fitted probabilities numerically 0 or 1 occurred\"\n",
      "Warning message:\n",
      "\"glm.fit: fitted probabilities numerically 0 or 1 occurred\"\n",
      "Warning message:\n",
      "\"glm.fit: fitted probabilities numerically 0 or 1 occurred\"\n",
      "Warning message:\n",
      "\"glm.fit: fitted probabilities numerically 0 or 1 occurred\"\n",
      "Warning message:\n",
      "\"glm.fit: fitted probabilities numerically 0 or 1 occurred\"\n",
      "Warning message:\n",
      "\"glm.fit: fitted probabilities numerically 0 or 1 occurred\"\n"
     ]
    },
    {
     "name": "stdout",
     "output_type": "stream",
     "text": [
      "                 Df Deviance   AIC\n",
      "+ workclass       6    19826 19914\n",
      "+ sex             1    19838 19916\n",
      "+ marital_status  6    19851 19939\n",
      "+ fnlwgt          1    19938 20016\n",
      "+ race            4    19937 20021\n",
      "+ native_country 40    19870 20026\n",
      "<none>                 19954 20030\n",
      "- age             1    20233 20307\n",
      "- capital_loss    1    20244 20318\n",
      "- hours_per_week  1    20306 20380\n",
      "- occupation     13    20605 20655\n",
      "- eduaction      15    20977 21023\n",
      "- capital_gain    1    21733 21807\n",
      "- relationship    5    24074 24140\n"
     ]
    },
    {
     "name": "stderr",
     "output_type": "stream",
     "text": [
      "Warning message:\n",
      "\"glm.fit: fitted probabilities numerically 0 or 1 occurred\"\n"
     ]
    },
    {
     "name": "stdout",
     "output_type": "stream",
     "text": [
      "\n",
      "Step:  AIC=19914.2\n",
      "income ~ relationship + eduaction + capital_gain + occupation + \n",
      "    capital_loss + hours_per_week + age + workclass\n",
      "\n"
     ]
    },
    {
     "name": "stderr",
     "output_type": "stream",
     "text": [
      "Warning message:\n",
      "\"glm.fit: fitted probabilities numerically 0 or 1 occurred\"\n",
      "Warning message:\n",
      "\"glm.fit: fitted probabilities numerically 0 or 1 occurred\"\n",
      "Warning message:\n",
      "\"glm.fit: fitted probabilities numerically 0 or 1 occurred\"\n",
      "Warning message:\n",
      "\"glm.fit: fitted probabilities numerically 0 or 1 occurred\"\n",
      "Warning message:\n",
      "\"glm.fit: fitted probabilities numerically 0 or 1 occurred\"\n",
      "Warning message:\n",
      "\"glm.fit: fitted probabilities numerically 0 or 1 occurred\"\n",
      "Warning message:\n",
      "\"glm.fit: fitted probabilities numerically 0 or 1 occurred\"\n",
      "Warning message:\n",
      "\"glm.fit: fitted probabilities numerically 0 or 1 occurred\"\n",
      "Warning message:\n",
      "\"glm.fit: fitted probabilities numerically 0 or 1 occurred\"\n",
      "Warning message:\n",
      "\"glm.fit: fitted probabilities numerically 0 or 1 occurred\"\n",
      "Warning message:\n",
      "\"glm.fit: fitted probabilities numerically 0 or 1 occurred\"\n",
      "Warning message:\n",
      "\"glm.fit: fitted probabilities numerically 0 or 1 occurred\"\n",
      "Warning message:\n",
      "\"glm.fit: fitted probabilities numerically 0 or 1 occurred\"\n",
      "Warning message:\n",
      "\"glm.fit: fitted probabilities numerically 0 or 1 occurred\"\n"
     ]
    },
    {
     "name": "stdout",
     "output_type": "stream",
     "text": [
      "                 Df Deviance   AIC\n",
      "+ sex             1    19711 19801\n",
      "+ marital_status  6    19723 19823\n",
      "+ fnlwgt          1    19811 19901\n",
      "+ race            4    19807 19903\n",
      "+ native_country 40    19745 19913\n",
      "<none>                 19826 19914\n",
      "- workclass       6    19954 20030\n",
      "- capital_loss    1    20115 20201\n",
      "- age             1    20115 20201\n",
      "- hours_per_week  1    20168 20254\n",
      "- occupation     13    20426 20488\n",
      "- eduaction      15    20860 20918\n",
      "- capital_gain    1    21595 21681\n",
      "- relationship    5    23958 24036\n"
     ]
    },
    {
     "name": "stderr",
     "output_type": "stream",
     "text": [
      "Warning message:\n",
      "\"glm.fit: fitted probabilities numerically 0 or 1 occurred\"\n"
     ]
    },
    {
     "name": "stdout",
     "output_type": "stream",
     "text": [
      "\n",
      "Step:  AIC=19801.33\n",
      "income ~ relationship + eduaction + capital_gain + occupation + \n",
      "    capital_loss + hours_per_week + age + workclass + sex\n",
      "\n"
     ]
    },
    {
     "name": "stderr",
     "output_type": "stream",
     "text": [
      "Warning message:\n",
      "\"glm.fit: fitted probabilities numerically 0 or 1 occurred\"\n",
      "Warning message:\n",
      "\"glm.fit: fitted probabilities numerically 0 or 1 occurred\"\n",
      "Warning message:\n",
      "\"glm.fit: fitted probabilities numerically 0 or 1 occurred\"\n",
      "Warning message:\n",
      "\"glm.fit: fitted probabilities numerically 0 or 1 occurred\"\n",
      "Warning message:\n",
      "\"glm.fit: fitted probabilities numerically 0 or 1 occurred\"\n",
      "Warning message:\n",
      "\"glm.fit: fitted probabilities numerically 0 or 1 occurred\"\n",
      "Warning message:\n",
      "\"glm.fit: fitted probabilities numerically 0 or 1 occurred\"\n",
      "Warning message:\n",
      "\"glm.fit: fitted probabilities numerically 0 or 1 occurred\"\n",
      "Warning message:\n",
      "\"glm.fit: fitted probabilities numerically 0 or 1 occurred\"\n",
      "Warning message:\n",
      "\"glm.fit: fitted probabilities numerically 0 or 1 occurred\"\n",
      "Warning message:\n",
      "\"glm.fit: fitted probabilities numerically 0 or 1 occurred\"\n",
      "Warning message:\n",
      "\"glm.fit: fitted probabilities numerically 0 or 1 occurred\"\n",
      "Warning message:\n",
      "\"glm.fit: fitted probabilities numerically 0 or 1 occurred\"\n",
      "Warning message:\n",
      "\"glm.fit: fitted probabilities numerically 0 or 1 occurred\"\n"
     ]
    },
    {
     "name": "stdout",
     "output_type": "stream",
     "text": [
      "                 Df Deviance   AIC\n",
      "+ marital_status  6    19604 19706\n",
      "+ fnlwgt          1    19698 19790\n",
      "+ race            4    19693 19791\n",
      "+ native_country 40    19627 19797\n",
      "<none>                 19711 19801\n",
      "- sex             1    19826 19914\n",
      "- workclass       6    19838 19916\n",
      "- capital_loss    1    19997 20085\n",
      "- age             1    20010 20098\n",
      "- hours_per_week  1    20033 20121\n",
      "- occupation     13    20314 20378\n",
      "- eduaction      15    20730 20790\n",
      "- capital_gain    1    21458 21546\n",
      "- relationship    5    23147 23227\n"
     ]
    },
    {
     "name": "stderr",
     "output_type": "stream",
     "text": [
      "Warning message:\n",
      "\"glm.fit: fitted probabilities numerically 0 or 1 occurred\"\n"
     ]
    },
    {
     "name": "stdout",
     "output_type": "stream",
     "text": [
      "\n",
      "Step:  AIC=19705.9\n",
      "income ~ relationship + eduaction + capital_gain + occupation + \n",
      "    capital_loss + hours_per_week + age + workclass + sex + marital_status\n",
      "\n"
     ]
    },
    {
     "name": "stderr",
     "output_type": "stream",
     "text": [
      "Warning message:\n",
      "\"glm.fit: fitted probabilities numerically 0 or 1 occurred\"\n",
      "Warning message:\n",
      "\"glm.fit: fitted probabilities numerically 0 or 1 occurred\"\n",
      "Warning message:\n",
      "\"glm.fit: fitted probabilities numerically 0 or 1 occurred\"\n",
      "Warning message:\n",
      "\"glm.fit: fitted probabilities numerically 0 or 1 occurred\"\n",
      "Warning message:\n",
      "\"glm.fit: fitted probabilities numerically 0 or 1 occurred\"\n",
      "Warning message:\n",
      "\"glm.fit: fitted probabilities numerically 0 or 1 occurred\"\n",
      "Warning message:\n",
      "\"glm.fit: fitted probabilities numerically 0 or 1 occurred\"\n",
      "Warning message:\n",
      "\"glm.fit: fitted probabilities numerically 0 or 1 occurred\"\n",
      "Warning message:\n",
      "\"glm.fit: fitted probabilities numerically 0 or 1 occurred\"\n",
      "Warning message:\n",
      "\"glm.fit: fitted probabilities numerically 0 or 1 occurred\"\n",
      "Warning message:\n",
      "\"glm.fit: fitted probabilities numerically 0 or 1 occurred\"\n",
      "Warning message:\n",
      "\"glm.fit: fitted probabilities numerically 0 or 1 occurred\"\n",
      "Warning message:\n",
      "\"glm.fit: fitted probabilities numerically 0 or 1 occurred\"\n",
      "Warning message:\n",
      "\"glm.fit: fitted probabilities numerically 0 or 1 occurred\"\n"
     ]
    },
    {
     "name": "stdout",
     "output_type": "stream",
     "text": [
      "                 Df Deviance   AIC\n",
      "+ fnlwgt          1    19590 19694\n",
      "+ race            4    19586 19696\n",
      "+ native_country 40    19518 19700\n",
      "<none>                 19604 19706\n",
      "- marital_status  6    19711 19801\n",
      "- workclass       6    19731 19821\n",
      "- sex             1    19723 19823\n",
      "- age             1    19838 19938\n",
      "- relationship    5    19869 19961\n",
      "- capital_loss    1    19891 19991\n",
      "- hours_per_week  1    19914 20014\n",
      "- occupation     13    20205 20281\n",
      "- eduaction      15    20641 20713\n",
      "- capital_gain    1    21352 21452\n"
     ]
    },
    {
     "name": "stderr",
     "output_type": "stream",
     "text": [
      "Warning message:\n",
      "\"glm.fit: fitted probabilities numerically 0 or 1 occurred\"\n"
     ]
    },
    {
     "name": "stdout",
     "output_type": "stream",
     "text": [
      "\n",
      "Step:  AIC=19693.72\n",
      "income ~ relationship + eduaction + capital_gain + occupation + \n",
      "    capital_loss + hours_per_week + age + workclass + sex + marital_status + \n",
      "    fnlwgt\n",
      "\n"
     ]
    },
    {
     "name": "stderr",
     "output_type": "stream",
     "text": [
      "Warning message:\n",
      "\"glm.fit: fitted probabilities numerically 0 or 1 occurred\"\n",
      "Warning message:\n",
      "\"glm.fit: fitted probabilities numerically 0 or 1 occurred\"\n",
      "Warning message:\n",
      "\"glm.fit: fitted probabilities numerically 0 or 1 occurred\"\n",
      "Warning message:\n",
      "\"glm.fit: fitted probabilities numerically 0 or 1 occurred\"\n",
      "Warning message:\n",
      "\"glm.fit: fitted probabilities numerically 0 or 1 occurred\"\n",
      "Warning message:\n",
      "\"glm.fit: fitted probabilities numerically 0 or 1 occurred\"\n",
      "Warning message:\n",
      "\"glm.fit: fitted probabilities numerically 0 or 1 occurred\"\n",
      "Warning message:\n",
      "\"glm.fit: fitted probabilities numerically 0 or 1 occurred\"\n",
      "Warning message:\n",
      "\"glm.fit: fitted probabilities numerically 0 or 1 occurred\"\n",
      "Warning message:\n",
      "\"glm.fit: fitted probabilities numerically 0 or 1 occurred\"\n",
      "Warning message:\n",
      "\"glm.fit: fitted probabilities numerically 0 or 1 occurred\"\n",
      "Warning message:\n",
      "\"glm.fit: fitted probabilities numerically 0 or 1 occurred\"\n",
      "Warning message:\n",
      "\"glm.fit: fitted probabilities numerically 0 or 1 occurred\"\n",
      "Warning message:\n",
      "\"glm.fit: fitted probabilities numerically 0 or 1 occurred\"\n"
     ]
    },
    {
     "name": "stdout",
     "output_type": "stream",
     "text": [
      "                 Df Deviance   AIC\n",
      "+ race            4    19571 19683\n",
      "+ native_country 40    19501 19685\n",
      "<none>                 19590 19694\n",
      "- fnlwgt          1    19604 19706\n",
      "- marital_status  6    19698 19790\n",
      "- workclass       6    19716 19808\n",
      "- sex             1    19707 19809\n",
      "- age             1    19829 19931\n",
      "- relationship    5    19853 19947\n",
      "- capital_loss    1    19878 19980\n",
      "- hours_per_week  1    19903 20005\n",
      "- occupation     13    20188 20266\n",
      "- eduaction      15    20632 20706\n",
      "- capital_gain    1    21335 21437\n"
     ]
    },
    {
     "name": "stderr",
     "output_type": "stream",
     "text": [
      "Warning message:\n",
      "\"glm.fit: fitted probabilities numerically 0 or 1 occurred\"\n"
     ]
    },
    {
     "name": "stdout",
     "output_type": "stream",
     "text": [
      "\n",
      "Step:  AIC=19683.14\n",
      "income ~ relationship + eduaction + capital_gain + occupation + \n",
      "    capital_loss + hours_per_week + age + workclass + sex + marital_status + \n",
      "    fnlwgt + race\n",
      "\n"
     ]
    },
    {
     "name": "stderr",
     "output_type": "stream",
     "text": [
      "Warning message:\n",
      "\"glm.fit: fitted probabilities numerically 0 or 1 occurred\"\n",
      "Warning message:\n",
      "\"glm.fit: fitted probabilities numerically 0 or 1 occurred\"\n",
      "Warning message:\n",
      "\"glm.fit: fitted probabilities numerically 0 or 1 occurred\"\n",
      "Warning message:\n",
      "\"glm.fit: fitted probabilities numerically 0 or 1 occurred\"\n",
      "Warning message:\n",
      "\"glm.fit: fitted probabilities numerically 0 or 1 occurred\"\n",
      "Warning message:\n",
      "\"glm.fit: fitted probabilities numerically 0 or 1 occurred\"\n",
      "Warning message:\n",
      "\"glm.fit: fitted probabilities numerically 0 or 1 occurred\"\n",
      "Warning message:\n",
      "\"glm.fit: fitted probabilities numerically 0 or 1 occurred\"\n",
      "Warning message:\n",
      "\"glm.fit: fitted probabilities numerically 0 or 1 occurred\"\n",
      "Warning message:\n",
      "\"glm.fit: fitted probabilities numerically 0 or 1 occurred\"\n",
      "Warning message:\n",
      "\"glm.fit: fitted probabilities numerically 0 or 1 occurred\"\n",
      "Warning message:\n",
      "\"glm.fit: fitted probabilities numerically 0 or 1 occurred\"\n",
      "Warning message:\n",
      "\"glm.fit: fitted probabilities numerically 0 or 1 occurred\"\n",
      "Warning message:\n",
      "\"glm.fit: fitted probabilities numerically 0 or 1 occurred\"\n"
     ]
    },
    {
     "name": "stdout",
     "output_type": "stream",
     "text": [
      "                 Df Deviance   AIC\n",
      "+ native_country 40    19486 19678\n",
      "<none>                 19571 19683\n",
      "- race            4    19590 19694\n",
      "- fnlwgt          1    19586 19696\n",
      "- marital_status  6    19679 19779\n",
      "- sex             1    19687 19797\n",
      "- workclass       6    19700 19800\n",
      "- age             1    19806 19916\n",
      "- relationship    5    19833 19935\n",
      "- capital_loss    1    19858 19968\n",
      "- hours_per_week  1    19882 19992\n",
      "- occupation     13    20158 20244\n",
      "- eduaction      15    20597 20679\n",
      "- capital_gain    1    21319 21429\n"
     ]
    },
    {
     "name": "stderr",
     "output_type": "stream",
     "text": [
      "Warning message:\n",
      "\"glm.fit: fitted probabilities numerically 0 or 1 occurred\"\n"
     ]
    },
    {
     "name": "stdout",
     "output_type": "stream",
     "text": [
      "\n",
      "Step:  AIC=19677.77\n",
      "income ~ relationship + eduaction + capital_gain + occupation + \n",
      "    capital_loss + hours_per_week + age + workclass + sex + marital_status + \n",
      "    fnlwgt + race + native_country\n",
      "\n"
     ]
    },
    {
     "name": "stderr",
     "output_type": "stream",
     "text": [
      "Warning message:\n",
      "\"glm.fit: fitted probabilities numerically 0 or 1 occurred\"\n",
      "Warning message:\n",
      "\"glm.fit: fitted probabilities numerically 0 or 1 occurred\"\n",
      "Warning message:\n",
      "\"glm.fit: fitted probabilities numerically 0 or 1 occurred\"\n",
      "Warning message:\n",
      "\"glm.fit: fitted probabilities numerically 0 or 1 occurred\"\n",
      "Warning message:\n",
      "\"glm.fit: fitted probabilities numerically 0 or 1 occurred\"\n",
      "Warning message:\n",
      "\"glm.fit: fitted probabilities numerically 0 or 1 occurred\"\n",
      "Warning message:\n",
      "\"glm.fit: fitted probabilities numerically 0 or 1 occurred\"\n",
      "Warning message:\n",
      "\"glm.fit: fitted probabilities numerically 0 or 1 occurred\"\n",
      "Warning message:\n",
      "\"glm.fit: fitted probabilities numerically 0 or 1 occurred\"\n",
      "Warning message:\n",
      "\"glm.fit: fitted probabilities numerically 0 or 1 occurred\"\n",
      "Warning message:\n",
      "\"glm.fit: fitted probabilities numerically 0 or 1 occurred\"\n",
      "Warning message:\n",
      "\"glm.fit: fitted probabilities numerically 0 or 1 occurred\"\n",
      "Warning message:\n",
      "\"glm.fit: fitted probabilities numerically 0 or 1 occurred\"\n",
      "Warning message:\n",
      "\"glm.fit: fitted probabilities numerically 0 or 1 occurred\"\n"
     ]
    },
    {
     "name": "stdout",
     "output_type": "stream",
     "text": [
      "                 Df Deviance   AIC\n",
      "<none>                 19486 19678\n",
      "- native_country 40    19571 19683\n",
      "- race            4    19501 19685\n",
      "- fnlwgt          1    19504 19694\n",
      "- marital_status  6    19595 19775\n",
      "- workclass       6    19611 19791\n",
      "- sex             1    19604 19794\n",
      "- age             1    19709 19899\n",
      "- relationship    5    19752 19934\n",
      "- capital_loss    1    19773 19963\n",
      "- hours_per_week  1    19794 19984\n",
      "- occupation     13    20062 20228\n",
      "- eduaction      15    20462 20624\n",
      "- capital_gain    1    21227 21417\n"
     ]
    },
    {
     "data": {
      "text/plain": [
       "\n",
       "Call:  glm(formula = income ~ relationship + eduaction + capital_gain + \n",
       "    occupation + capital_loss + hours_per_week + age + workclass + \n",
       "    sex + marital_status + fnlwgt + race + native_country, family = binomial(link = logit), \n",
       "    data = adult)\n",
       "\n",
       "Coefficients:\n",
       "                              (Intercept)  \n",
       "                                6.408e+00  \n",
       "               relationship Not-in-family  \n",
       "                               -4.522e-01  \n",
       "              relationship Other-relative  \n",
       "                                3.960e-01  \n",
       "                   relationship Own-child  \n",
       "                                7.322e-01  \n",
       "                   relationship Unmarried  \n",
       "                               -3.358e-01  \n",
       "                        relationship Wife  \n",
       "                               -1.351e+00  \n",
       "                           eduaction 11th  \n",
       "                               -9.462e-02  \n",
       "                           eduaction 12th  \n",
       "                               -4.443e-01  \n",
       "                        eduaction 1st-4th  \n",
       "                                4.398e-01  \n",
       "                        eduaction 5th-6th  \n",
       "                                3.956e-01  \n",
       "                        eduaction 7th-8th  \n",
       "                                5.640e-01  \n",
       "                            eduaction 9th  \n",
       "                                2.372e-01  \n",
       "                     eduaction Assoc-acdm  \n",
       "                               -1.269e+00  \n",
       "                      eduaction Assoc-voc  \n",
       "                               -1.268e+00  \n",
       "                      eduaction Bachelors  \n",
       "                               -1.899e+00  \n",
       "                      eduaction Doctorate  \n",
       "                               -2.935e+00  \n",
       "                        eduaction HS-grad  \n",
       "                               -7.735e-01  \n",
       "                        eduaction Masters  \n",
       "                               -2.259e+00  \n",
       "                      eduaction Preschool  \n",
       "                                2.008e+01  \n",
       "                    eduaction Prof-school  \n",
       "                               -2.844e+00  \n",
       "                   eduaction Some-college  \n",
       "                               -1.109e+00  \n",
       "                             capital_gain  \n",
       "                               -3.225e-04  \n",
       "                  occupation Armed-Forces  \n",
       "                                1.165e+00  \n",
       "                  occupation Craft-repair  \n",
       "                               -6.369e-02  \n",
       "               occupation Exec-managerial  \n",
       "                               -8.054e-01  \n",
       "               occupation Farming-fishing  \n",
       "                                9.809e-01  \n",
       "             occupation Handlers-cleaners  \n",
       "                                6.950e-01  \n",
       "             occupation Machine-op-inspct  \n",
       "                                2.633e-01  \n",
       "                 occupation Other-service  \n",
       "                                8.245e-01  \n",
       "               occupation Priv-house-serv  \n",
       "                                4.153e+00  \n",
       "                occupation Prof-specialty  \n",
       "                               -5.165e-01  \n",
       "               occupation Protective-serv  \n",
       "                               -5.978e-01  \n",
       "                         occupation Sales  \n",
       "                               -2.943e-01  \n",
       "                  occupation Tech-support  \n",
       "                               -6.648e-01  \n",
       "              occupation Transport-moving  \n",
       "                                8.982e-02  \n",
       "                             capital_loss  \n",
       "                               -6.420e-04  \n",
       "                           hours_per_week  \n",
       "                               -2.949e-02  \n",
       "                                      age  \n",
       "                               -2.550e-02  \n",
       "                      workclass Local-gov  \n",
       "                                6.985e-01  \n",
       "                        workclass Private  \n",
       "                                5.055e-01  \n",
       "                   workclass Self-emp-inc  \n",
       "                                3.293e-01  \n",
       "               workclass Self-emp-not-inc  \n",
       "                                9.972e-01  \n",
       "                      workclass State-gov  \n",
       "                                8.207e-01  \n",
       "                    workclass Without-pay  \n",
       "                                1.329e+01  \n",
       "                                 sex Male  \n",
       "                               -8.648e-01  \n",
       "         marital_status Married-AF-spouse  \n",
       "                               -2.768e+00  \n",
       "        marital_status Married-civ-spouse  \n",
       "                               -2.105e+00  \n",
       "     marital_status Married-spouse-absent  \n",
       "                               -1.220e-02  \n",
       "             marital_status Never-married  \n",
       "                                4.861e-01  \n",
       "                 marital_status Separated  \n",
       "                                8.940e-02  \n",
       "                   marital_status Widowed  \n",
       "                               -1.852e-01  \n",
       "                                   fnlwgt  \n",
       "                               -7.515e-07  \n",
       "                  race Asian-Pac-Islander  \n",
       "                               -8.280e-01  \n",
       "                               race Black  \n",
       "                               -4.359e-01  \n",
       "                               race Other  \n",
       "                               -1.255e-01  \n",
       "                               race White  \n",
       "                               -5.875e-01  \n",
       "                    native_country Canada  \n",
       "                                8.113e-01  \n",
       "                     native_country China  \n",
       "                                1.916e+00  \n",
       "                  native_country Columbia  \n",
       "                                3.275e+00  \n",
       "                      native_country Cuba  \n",
       "                                7.738e-01  \n",
       "        native_country Dominican-Republic  \n",
       "                                2.915e+00  \n",
       "                   native_country Ecuador  \n",
       "                                1.400e+00  \n",
       "               native_country El-Salvador  \n",
       "                                1.745e+00  \n",
       "                   native_country England  \n",
       "                                8.348e-01  \n",
       "                    native_country France  \n",
       "                                5.604e-01  \n",
       "                   native_country Germany  \n",
       "                                6.860e-01  \n",
       "                    native_country Greece  \n",
       "                                2.126e+00  \n",
       "                 native_country Guatemala  \n",
       "                                1.396e+00  \n",
       "                     native_country Haiti  \n",
       "                                1.169e+00  \n",
       "        native_country Holand-Netherlands  \n",
       "                                1.164e+01  \n",
       "                  native_country Honduras  \n",
       "                                2.306e+00  \n",
       "                      native_country Hong  \n",
       "                                1.355e+00  \n",
       "                   native_country Hungary  \n",
       "                                1.254e+00  \n",
       "                     native_country India  \n",
       "                                1.664e+00  \n",
       "                      native_country Iran  \n",
       "                                1.123e+00  \n",
       "                   native_country Ireland  \n",
       "                                6.158e-01  \n",
       "                     native_country Italy  \n",
       "                                3.295e-01  \n",
       "                   native_country Jamaica  \n",
       "                                1.125e+00  \n",
       "                     native_country Japan  \n",
       "                                9.413e-01  \n",
       "                      native_country Laos  \n",
       "                                1.883e+00  \n",
       "                    native_country Mexico  \n",
       "                                1.649e+00  \n",
       "                 native_country Nicaragua  \n",
       "                                1.880e+00  \n",
       "native_country Outlying-US(Guam-USVI-etc)  \n",
       "                                1.342e+01  \n",
       "                      native_country Peru  \n",
       "                                1.985e+00  \n",
       "               native_country Philippines  \n",
       "                                8.782e-01  \n",
       "                    native_country Poland  \n",
       "                                1.146e+00  \n",
       "                  native_country Portugal  \n",
       "                                1.122e+00  \n",
       "               native_country Puerto-Rico  \n",
       "                                1.440e+00  \n",
       "                  native_country Scotland  \n",
       "                                1.407e+00  \n",
       "                     native_country South  \n",
       "                                2.446e+00  \n",
       "                    native_country Taiwan  \n",
       "                                1.384e+00  \n",
       "                  native_country Thailand  \n",
       "                                1.831e+00  \n",
       "           native_country Trinadad&Tobago  \n",
       "                                1.580e+00  \n",
       "             native_country United-States  \n",
       "                                9.549e-01  \n",
       "                   native_country Vietnam  \n",
       "                                2.395e+00  \n",
       "                native_country Yugoslavia  \n",
       "                                4.609e-01  \n",
       "\n",
       "Degrees of Freedom: 30161 Total (i.e. Null);  30066 Residual\n",
       "Null Deviance:\t    33850 \n",
       "Residual Deviance: 19490 \tAIC: 19680"
      ]
     },
     "metadata": {},
     "output_type": "display_data"
    }
   ],
   "source": [
    "full <- glm(income~.,data = adult,family = binomial(link=logit))\n",
    "null <- glm(income~1,data = adult,family = binomial(link=logit))\n",
    "\n",
    "step(null,scope = list(lower = null, upper = full), method = \"forward\")"
   ]
  },
  {
   "cell_type": "markdown",
   "metadata": {},
   "source": [
    "- Check outliers in Capital gain and capital loss. Then remove them.\n",
    "- Capital loss is easy to check those higher than 1000 are outliers, but capital gain need to change scale to check."
   ]
  },
  {
   "cell_type": "code",
   "execution_count": 18,
   "metadata": {},
   "outputs": [
    {
     "data": {
      "image/png": "[encoded data removed]",
      "text/plain": [
       "Plot with title \"Histogram of adult$capital_loss\""
      ]
     },
     "metadata": {
      "image/png": {
       "height": 420,
       "width": 420
      }
     },
     "output_type": "display_data"
    }
   ],
   "source": [
    "par(mfrow = c(1,2))\n",
    "hist(adult$capital_gain)\n",
    "hist(adult$capital_loss)"
   ]
  },
  {
   "cell_type": "markdown",
   "metadata": {},
   "source": [
    "- Outliers of capital gain is greater than 5000."
   ]
  },
  {
   "cell_type": "code",
   "execution_count": 25,
   "metadata": {},
   "outputs": [
    {
     "data": {
      "image/png": "[encoded data removed]",
      "text/plain": [
       "Plot with title \"Histogram of adult$capital_gain\""
      ]
     },
     "metadata": {
      "image/png": {
       "height": 420,
       "width": 420
      }
     },
     "output_type": "display_data"
    }
   ],
   "source": [
    "hist(adult$capital_gain, xlim = c(0,10000))"
   ]
  },
  {
   "cell_type": "markdown",
   "metadata": {},
   "source": [
    "- After removing outliers, we remain 27,203 observations.\n",
    "- We fit the logistic regression with selected variables."
   ]
  },
  {
   "cell_type": "code",
   "execution_count": 26,
   "metadata": {},
   "outputs": [
    {
     "data": {
      "text/html": [
       "<table class=\"dataframe\">\n",
       "<caption>A data.frame: 27203 × 15</caption>\n",
       "<thead>\n",
       "\t<tr><th></th><th scope=col>age</th><th scope=col>workclass</th><th scope=col>fnlwgt</th><th scope=col>eduaction</th><th scope=col>education_num</th><th scope=col>marital_status</th><th scope=col>occupation</th><th scope=col>relationship</th><th scope=col>race</th><th scope=col>sex</th><th scope=col>capital_gain</th><th scope=col>capital_loss</th><th scope=col>hours_per_week</th><th scope=col>native_country</th><th scope=col>income</th></tr>\n",
       "\t<tr><th></th><th scope=col>&lt;int&gt;</th><th scope=col>&lt;chr&gt;</th><th scope=col>&lt;int&gt;</th><th scope=col>&lt;chr&gt;</th><th scope=col>&lt;int&gt;</th><th scope=col>&lt;chr&gt;</th><th scope=col>&lt;chr&gt;</th><th scope=col>&lt;chr&gt;</th><th scope=col>&lt;chr&gt;</th><th scope=col>&lt;chr&gt;</th><th scope=col>&lt;int&gt;</th><th scope=col>&lt;int&gt;</th><th scope=col>&lt;int&gt;</th><th scope=col>&lt;chr&gt;</th><th scope=col>&lt;dbl&gt;</th></tr>\n",
       "</thead>\n",
       "<tbody>\n",
       "\t<tr><th scope=row>1</th><td>39</td><td> State-gov       </td><td> 77516</td><td> Bachelors   </td><td>13</td><td> Never-married        </td><td> Adm-clerical     </td><td> Not-in-family</td><td> White             </td><td> Male  </td><td>2174</td><td>0</td><td>40</td><td> United-States</td><td>1</td></tr>\n",
       "\t<tr><th scope=row>2</th><td>50</td><td> Self-emp-not-inc</td><td> 83311</td><td> Bachelors   </td><td>13</td><td> Married-civ-spouse   </td><td> Exec-managerial  </td><td> Husband      </td><td> White             </td><td> Male  </td><td>   0</td><td>0</td><td>13</td><td> United-States</td><td>1</td></tr>\n",
       "\t<tr><th scope=row>3</th><td>38</td><td> Private         </td><td>215646</td><td> HS-grad     </td><td> 9</td><td> Divorced             </td><td> Handlers-cleaners</td><td> Not-in-family</td><td> White             </td><td> Male  </td><td>   0</td><td>0</td><td>40</td><td> United-States</td><td>1</td></tr>\n",
       "\t<tr><th scope=row>4</th><td>53</td><td> Private         </td><td>234721</td><td> 11th        </td><td> 7</td><td> Married-civ-spouse   </td><td> Handlers-cleaners</td><td> Husband      </td><td> Black             </td><td> Male  </td><td>   0</td><td>0</td><td>40</td><td> United-States</td><td>1</td></tr>\n",
       "\t<tr><th scope=row>5</th><td>28</td><td> Private         </td><td>338409</td><td> Bachelors   </td><td>13</td><td> Married-civ-spouse   </td><td> Prof-specialty   </td><td> Wife         </td><td> Black             </td><td> Female</td><td>   0</td><td>0</td><td>40</td><td> Cuba         </td><td>1</td></tr>\n",
       "\t<tr><th scope=row>6</th><td>37</td><td> Private         </td><td>284582</td><td> Masters     </td><td>14</td><td> Married-civ-spouse   </td><td> Exec-managerial  </td><td> Wife         </td><td> White             </td><td> Female</td><td>   0</td><td>0</td><td>40</td><td> United-States</td><td>1</td></tr>\n",
       "\t<tr><th scope=row>7</th><td>49</td><td> Private         </td><td>160187</td><td> 9th         </td><td> 5</td><td> Married-spouse-absent</td><td> Other-service    </td><td> Not-in-family</td><td> Black             </td><td> Female</td><td>   0</td><td>0</td><td>16</td><td> Jamaica      </td><td>1</td></tr>\n",
       "\t<tr><th scope=row>8</th><td>52</td><td> Self-emp-not-inc</td><td>209642</td><td> HS-grad     </td><td> 9</td><td> Married-civ-spouse   </td><td> Exec-managerial  </td><td> Husband      </td><td> White             </td><td> Male  </td><td>   0</td><td>0</td><td>45</td><td> United-States</td><td>0</td></tr>\n",
       "\t<tr><th scope=row>11</th><td>37</td><td> Private         </td><td>280464</td><td> Some-college</td><td>10</td><td> Married-civ-spouse   </td><td> Exec-managerial  </td><td> Husband      </td><td> Black             </td><td> Male  </td><td>   0</td><td>0</td><td>80</td><td> United-States</td><td>0</td></tr>\n",
       "\t<tr><th scope=row>12</th><td>30</td><td> State-gov       </td><td>141297</td><td> Bachelors   </td><td>13</td><td> Married-civ-spouse   </td><td> Prof-specialty   </td><td> Husband      </td><td> Asian-Pac-Islander</td><td> Male  </td><td>   0</td><td>0</td><td>40</td><td> India        </td><td>0</td></tr>\n",
       "\t<tr><th scope=row>13</th><td>23</td><td> Private         </td><td>122272</td><td> Bachelors   </td><td>13</td><td> Never-married        </td><td> Adm-clerical     </td><td> Own-child    </td><td> White             </td><td> Female</td><td>   0</td><td>0</td><td>30</td><td> United-States</td><td>1</td></tr>\n",
       "\t<tr><th scope=row>14</th><td>32</td><td> Private         </td><td>205019</td><td> Assoc-acdm  </td><td>12</td><td> Never-married        </td><td> Sales            </td><td> Not-in-family</td><td> Black             </td><td> Male  </td><td>   0</td><td>0</td><td>50</td><td> United-States</td><td>1</td></tr>\n",
       "\t<tr><th scope=row>16</th><td>34</td><td> Private         </td><td>245487</td><td> 7th-8th     </td><td> 4</td><td> Married-civ-spouse   </td><td> Transport-moving </td><td> Husband      </td><td> Amer-Indian-Eskimo</td><td> Male  </td><td>   0</td><td>0</td><td>45</td><td> Mexico       </td><td>1</td></tr>\n",
       "\t<tr><th scope=row>17</th><td>25</td><td> Self-emp-not-inc</td><td>176756</td><td> HS-grad     </td><td> 9</td><td> Never-married        </td><td> Farming-fishing  </td><td> Own-child    </td><td> White             </td><td> Male  </td><td>   0</td><td>0</td><td>35</td><td> United-States</td><td>1</td></tr>\n",
       "\t<tr><th scope=row>18</th><td>32</td><td> Private         </td><td>186824</td><td> HS-grad     </td><td> 9</td><td> Never-married        </td><td> Machine-op-inspct</td><td> Unmarried    </td><td> White             </td><td> Male  </td><td>   0</td><td>0</td><td>40</td><td> United-States</td><td>1</td></tr>\n",
       "\t<tr><th scope=row>19</th><td>38</td><td> Private         </td><td> 28887</td><td> 11th        </td><td> 7</td><td> Married-civ-spouse   </td><td> Sales            </td><td> Husband      </td><td> White             </td><td> Male  </td><td>   0</td><td>0</td><td>50</td><td> United-States</td><td>1</td></tr>\n",
       "\t<tr><th scope=row>20</th><td>43</td><td> Self-emp-not-inc</td><td>292175</td><td> Masters     </td><td>14</td><td> Divorced             </td><td> Exec-managerial  </td><td> Unmarried    </td><td> White             </td><td> Female</td><td>   0</td><td>0</td><td>45</td><td> United-States</td><td>0</td></tr>\n",
       "\t<tr><th scope=row>21</th><td>40</td><td> Private         </td><td>193524</td><td> Doctorate   </td><td>16</td><td> Married-civ-spouse   </td><td> Prof-specialty   </td><td> Husband      </td><td> White             </td><td> Male  </td><td>   0</td><td>0</td><td>60</td><td> United-States</td><td>0</td></tr>\n",
       "\t<tr><th scope=row>22</th><td>54</td><td> Private         </td><td>302146</td><td> HS-grad     </td><td> 9</td><td> Separated            </td><td> Other-service    </td><td> Unmarried    </td><td> Black             </td><td> Female</td><td>   0</td><td>0</td><td>20</td><td> United-States</td><td>1</td></tr>\n",
       "\t<tr><th scope=row>23</th><td>35</td><td> Federal-gov     </td><td> 76845</td><td> 9th         </td><td> 5</td><td> Married-civ-spouse   </td><td> Farming-fishing  </td><td> Husband      </td><td> Black             </td><td> Male  </td><td>   0</td><td>0</td><td>40</td><td> United-States</td><td>1</td></tr>\n",
       "\t<tr><th scope=row>25</th><td>59</td><td> Private         </td><td>109015</td><td> HS-grad     </td><td> 9</td><td> Divorced             </td><td> Tech-support     </td><td> Unmarried    </td><td> White             </td><td> Female</td><td>   0</td><td>0</td><td>40</td><td> United-States</td><td>1</td></tr>\n",
       "\t<tr><th scope=row>26</th><td>56</td><td> Local-gov       </td><td>216851</td><td> Bachelors   </td><td>13</td><td> Married-civ-spouse   </td><td> Tech-support     </td><td> Husband      </td><td> White             </td><td> Male  </td><td>   0</td><td>0</td><td>40</td><td> United-States</td><td>0</td></tr>\n",
       "\t<tr><th scope=row>27</th><td>19</td><td> Private         </td><td>168294</td><td> HS-grad     </td><td> 9</td><td> Never-married        </td><td> Craft-repair     </td><td> Own-child    </td><td> White             </td><td> Male  </td><td>   0</td><td>0</td><td>40</td><td> United-States</td><td>1</td></tr>\n",
       "\t<tr><th scope=row>29</th><td>39</td><td> Private         </td><td>367260</td><td> HS-grad     </td><td> 9</td><td> Divorced             </td><td> Exec-managerial  </td><td> Not-in-family</td><td> White             </td><td> Male  </td><td>   0</td><td>0</td><td>80</td><td> United-States</td><td>1</td></tr>\n",
       "\t<tr><th scope=row>30</th><td>49</td><td> Private         </td><td>193366</td><td> HS-grad     </td><td> 9</td><td> Married-civ-spouse   </td><td> Craft-repair     </td><td> Husband      </td><td> White             </td><td> Male  </td><td>   0</td><td>0</td><td>40</td><td> United-States</td><td>1</td></tr>\n",
       "\t<tr><th scope=row>31</th><td>23</td><td> Local-gov       </td><td>190709</td><td> Assoc-acdm  </td><td>12</td><td> Never-married        </td><td> Protective-serv  </td><td> Not-in-family</td><td> White             </td><td> Male  </td><td>   0</td><td>0</td><td>52</td><td> United-States</td><td>1</td></tr>\n",
       "\t<tr><th scope=row>32</th><td>20</td><td> Private         </td><td>266015</td><td> Some-college</td><td>10</td><td> Never-married        </td><td> Sales            </td><td> Own-child    </td><td> Black             </td><td> Male  </td><td>   0</td><td>0</td><td>44</td><td> United-States</td><td>1</td></tr>\n",
       "\t<tr><th scope=row>34</th><td>30</td><td> Federal-gov     </td><td> 59951</td><td> Some-college</td><td>10</td><td> Married-civ-spouse   </td><td> Adm-clerical     </td><td> Own-child    </td><td> White             </td><td> Male  </td><td>   0</td><td>0</td><td>40</td><td> United-States</td><td>1</td></tr>\n",
       "\t<tr><th scope=row>35</th><td>22</td><td> State-gov       </td><td>311512</td><td> Some-college</td><td>10</td><td> Married-civ-spouse   </td><td> Other-service    </td><td> Husband      </td><td> Black             </td><td> Male  </td><td>   0</td><td>0</td><td>15</td><td> United-States</td><td>1</td></tr>\n",
       "\t<tr><th scope=row>36</th><td>48</td><td> Private         </td><td>242406</td><td> 11th        </td><td> 7</td><td> Never-married        </td><td> Machine-op-inspct</td><td> Unmarried    </td><td> White             </td><td> Male  </td><td>   0</td><td>0</td><td>40</td><td> Puerto-Rico  </td><td>1</td></tr>\n",
       "\t<tr><th scope=row>⋮</th><td>⋮</td><td>⋮</td><td>⋮</td><td>⋮</td><td>⋮</td><td>⋮</td><td>⋮</td><td>⋮</td><td>⋮</td><td>⋮</td><td>⋮</td><td>⋮</td><td>⋮</td><td>⋮</td><td>⋮</td></tr>\n",
       "\t<tr><th scope=row>32524</th><td>30</td><td> Private         </td><td> 77266</td><td> HS-grad     </td><td> 9</td><td> Divorced          </td><td> Transport-moving </td><td> Not-in-family </td><td> White             </td><td> Male  </td><td>   0</td><td>0</td><td>55</td><td> United-States</td><td>1</td></tr>\n",
       "\t<tr><th scope=row>32525</th><td>26</td><td> Private         </td><td>191648</td><td> Assoc-acdm  </td><td>12</td><td> Never-married     </td><td> Machine-op-inspct</td><td> Other-relative</td><td> White             </td><td> Female</td><td>   0</td><td>0</td><td>15</td><td> United-States</td><td>1</td></tr>\n",
       "\t<tr><th scope=row>32527</th><td>32</td><td> Private         </td><td>211349</td><td> 10th        </td><td> 6</td><td> Married-civ-spouse</td><td> Transport-moving </td><td> Husband       </td><td> White             </td><td> Male  </td><td>   0</td><td>0</td><td>40</td><td> United-States</td><td>1</td></tr>\n",
       "\t<tr><th scope=row>32528</th><td>22</td><td> Private         </td><td>203715</td><td> Some-college</td><td>10</td><td> Never-married     </td><td> Adm-clerical     </td><td> Own-child     </td><td> White             </td><td> Male  </td><td>   0</td><td>0</td><td>40</td><td> United-States</td><td>1</td></tr>\n",
       "\t<tr><th scope=row>32529</th><td>31</td><td> Private         </td><td>292592</td><td> HS-grad     </td><td> 9</td><td> Married-civ-spouse</td><td> Machine-op-inspct</td><td> Wife          </td><td> White             </td><td> Female</td><td>   0</td><td>0</td><td>40</td><td> United-States</td><td>1</td></tr>\n",
       "\t<tr><th scope=row>32530</th><td>29</td><td> Private         </td><td>125976</td><td> HS-grad     </td><td> 9</td><td> Separated         </td><td> Sales            </td><td> Unmarried     </td><td> White             </td><td> Female</td><td>   0</td><td>0</td><td>35</td><td> United-States</td><td>1</td></tr>\n",
       "\t<tr><th scope=row>32533</th><td>34</td><td> Private         </td><td>204461</td><td> Doctorate   </td><td>16</td><td> Married-civ-spouse</td><td> Prof-specialty   </td><td> Husband       </td><td> White             </td><td> Male  </td><td>   0</td><td>0</td><td>60</td><td> United-States</td><td>0</td></tr>\n",
       "\t<tr><th scope=row>32534</th><td>54</td><td> Private         </td><td>337992</td><td> Bachelors   </td><td>13</td><td> Married-civ-spouse</td><td> Exec-managerial  </td><td> Husband       </td><td> Asian-Pac-Islander</td><td> Male  </td><td>   0</td><td>0</td><td>50</td><td> Japan        </td><td>0</td></tr>\n",
       "\t<tr><th scope=row>32535</th><td>37</td><td> Private         </td><td>179137</td><td> Some-college</td><td>10</td><td> Divorced          </td><td> Adm-clerical     </td><td> Unmarried     </td><td> White             </td><td> Female</td><td>   0</td><td>0</td><td>39</td><td> United-States</td><td>1</td></tr>\n",
       "\t<tr><th scope=row>32536</th><td>22</td><td> Private         </td><td>325033</td><td> 12th        </td><td> 8</td><td> Never-married     </td><td> Protective-serv  </td><td> Own-child     </td><td> Black             </td><td> Male  </td><td>   0</td><td>0</td><td>35</td><td> United-States</td><td>1</td></tr>\n",
       "\t<tr><th scope=row>32537</th><td>34</td><td> Private         </td><td>160216</td><td> Bachelors   </td><td>13</td><td> Never-married     </td><td> Exec-managerial  </td><td> Not-in-family </td><td> White             </td><td> Female</td><td>   0</td><td>0</td><td>55</td><td> United-States</td><td>0</td></tr>\n",
       "\t<tr><th scope=row>32538</th><td>30</td><td> Private         </td><td>345898</td><td> HS-grad     </td><td> 9</td><td> Never-married     </td><td> Craft-repair     </td><td> Not-in-family </td><td> Black             </td><td> Male  </td><td>   0</td><td>0</td><td>46</td><td> United-States</td><td>1</td></tr>\n",
       "\t<tr><th scope=row>32541</th><td>45</td><td> State-gov       </td><td>252208</td><td> HS-grad     </td><td> 9</td><td> Separated         </td><td> Adm-clerical     </td><td> Own-child     </td><td> White             </td><td> Female</td><td>   0</td><td>0</td><td>40</td><td> United-States</td><td>1</td></tr>\n",
       "\t<tr><th scope=row>32544</th><td>45</td><td> Local-gov       </td><td>119199</td><td> Assoc-acdm  </td><td>12</td><td> Divorced          </td><td> Prof-specialty   </td><td> Unmarried     </td><td> White             </td><td> Female</td><td>   0</td><td>0</td><td>48</td><td> United-States</td><td>1</td></tr>\n",
       "\t<tr><th scope=row>32545</th><td>31</td><td> Private         </td><td>199655</td><td> Masters     </td><td>14</td><td> Divorced          </td><td> Other-service    </td><td> Not-in-family </td><td> Other             </td><td> Female</td><td>   0</td><td>0</td><td>30</td><td> United-States</td><td>1</td></tr>\n",
       "\t<tr><th scope=row>32546</th><td>39</td><td> Local-gov       </td><td>111499</td><td> Assoc-acdm  </td><td>12</td><td> Married-civ-spouse</td><td> Adm-clerical     </td><td> Wife          </td><td> White             </td><td> Female</td><td>   0</td><td>0</td><td>20</td><td> United-States</td><td>0</td></tr>\n",
       "\t<tr><th scope=row>32547</th><td>37</td><td> Private         </td><td>198216</td><td> Assoc-acdm  </td><td>12</td><td> Divorced          </td><td> Tech-support     </td><td> Not-in-family </td><td> White             </td><td> Female</td><td>   0</td><td>0</td><td>40</td><td> United-States</td><td>1</td></tr>\n",
       "\t<tr><th scope=row>32548</th><td>43</td><td> Private         </td><td>260761</td><td> HS-grad     </td><td> 9</td><td> Married-civ-spouse</td><td> Machine-op-inspct</td><td> Husband       </td><td> White             </td><td> Male  </td><td>   0</td><td>0</td><td>40</td><td> Mexico       </td><td>1</td></tr>\n",
       "\t<tr><th scope=row>32549</th><td>65</td><td> Self-emp-not-inc</td><td> 99359</td><td> Prof-school </td><td>15</td><td> Never-married     </td><td> Prof-specialty   </td><td> Not-in-family </td><td> White             </td><td> Male  </td><td>1086</td><td>0</td><td>60</td><td> United-States</td><td>1</td></tr>\n",
       "\t<tr><th scope=row>32550</th><td>43</td><td> State-gov       </td><td>255835</td><td> Some-college</td><td>10</td><td> Divorced          </td><td> Adm-clerical     </td><td> Other-relative</td><td> White             </td><td> Female</td><td>   0</td><td>0</td><td>40</td><td> United-States</td><td>1</td></tr>\n",
       "\t<tr><th scope=row>32551</th><td>43</td><td> Self-emp-not-inc</td><td> 27242</td><td> Some-college</td><td>10</td><td> Married-civ-spouse</td><td> Craft-repair     </td><td> Husband       </td><td> White             </td><td> Male  </td><td>   0</td><td>0</td><td>50</td><td> United-States</td><td>1</td></tr>\n",
       "\t<tr><th scope=row>32552</th><td>32</td><td> Private         </td><td> 34066</td><td> 10th        </td><td> 6</td><td> Married-civ-spouse</td><td> Handlers-cleaners</td><td> Husband       </td><td> Amer-Indian-Eskimo</td><td> Male  </td><td>   0</td><td>0</td><td>40</td><td> United-States</td><td>1</td></tr>\n",
       "\t<tr><th scope=row>32553</th><td>43</td><td> Private         </td><td> 84661</td><td> Assoc-voc   </td><td>11</td><td> Married-civ-spouse</td><td> Sales            </td><td> Husband       </td><td> White             </td><td> Male  </td><td>   0</td><td>0</td><td>45</td><td> United-States</td><td>1</td></tr>\n",
       "\t<tr><th scope=row>32554</th><td>32</td><td> Private         </td><td>116138</td><td> Masters     </td><td>14</td><td> Never-married     </td><td> Tech-support     </td><td> Not-in-family </td><td> Asian-Pac-Islander</td><td> Male  </td><td>   0</td><td>0</td><td>11</td><td> Taiwan       </td><td>1</td></tr>\n",
       "\t<tr><th scope=row>32555</th><td>53</td><td> Private         </td><td>321865</td><td> Masters     </td><td>14</td><td> Married-civ-spouse</td><td> Exec-managerial  </td><td> Husband       </td><td> White             </td><td> Male  </td><td>   0</td><td>0</td><td>40</td><td> United-States</td><td>0</td></tr>\n",
       "\t<tr><th scope=row>32556</th><td>22</td><td> Private         </td><td>310152</td><td> Some-college</td><td>10</td><td> Never-married     </td><td> Protective-serv  </td><td> Not-in-family </td><td> White             </td><td> Male  </td><td>   0</td><td>0</td><td>40</td><td> United-States</td><td>1</td></tr>\n",
       "\t<tr><th scope=row>32557</th><td>27</td><td> Private         </td><td>257302</td><td> Assoc-acdm  </td><td>12</td><td> Married-civ-spouse</td><td> Tech-support     </td><td> Wife          </td><td> White             </td><td> Female</td><td>   0</td><td>0</td><td>38</td><td> United-States</td><td>1</td></tr>\n",
       "\t<tr><th scope=row>32558</th><td>40</td><td> Private         </td><td>154374</td><td> HS-grad     </td><td> 9</td><td> Married-civ-spouse</td><td> Machine-op-inspct</td><td> Husband       </td><td> White             </td><td> Male  </td><td>   0</td><td>0</td><td>40</td><td> United-States</td><td>0</td></tr>\n",
       "\t<tr><th scope=row>32559</th><td>58</td><td> Private         </td><td>151910</td><td> HS-grad     </td><td> 9</td><td> Widowed           </td><td> Adm-clerical     </td><td> Unmarried     </td><td> White             </td><td> Female</td><td>   0</td><td>0</td><td>40</td><td> United-States</td><td>1</td></tr>\n",
       "\t<tr><th scope=row>32560</th><td>22</td><td> Private         </td><td>201490</td><td> HS-grad     </td><td> 9</td><td> Never-married     </td><td> Adm-clerical     </td><td> Own-child     </td><td> White             </td><td> Male  </td><td>   0</td><td>0</td><td>20</td><td> United-States</td><td>1</td></tr>\n",
       "</tbody>\n",
       "</table>\n"
      ],
      "text/latex": [
       "A data.frame: 27203 × 15\n",
       "\\begin{tabular}{r|lllllllllllllll}\n",
       "  & age & workclass & fnlwgt & eduaction & education\\_num & marital\\_status & occupation & relationship & race & sex & capital\\_gain & capital\\_loss & hours\\_per\\_week & native\\_country & income\\\\\n",
       "  & <int> & <chr> & <int> & <chr> & <int> & <chr> & <chr> & <chr> & <chr> & <chr> & <int> & <int> & <int> & <chr> & <dbl>\\\\\n",
       "\\hline\n",
       "\t1 & 39 &  State-gov        &  77516 &  Bachelors    & 13 &  Never-married         &  Adm-clerical      &  Not-in-family &  White              &  Male   & 2174 & 0 & 40 &  United-States & 1\\\\\n",
       "\t2 & 50 &  Self-emp-not-inc &  83311 &  Bachelors    & 13 &  Married-civ-spouse    &  Exec-managerial   &  Husband       &  White              &  Male   &    0 & 0 & 13 &  United-States & 1\\\\\n",
       "\t3 & 38 &  Private          & 215646 &  HS-grad      &  9 &  Divorced              &  Handlers-cleaners &  Not-in-family &  White              &  Male   &    0 & 0 & 40 &  United-States & 1\\\\\n",
       "\t4 & 53 &  Private          & 234721 &  11th         &  7 &  Married-civ-spouse    &  Handlers-cleaners &  Husband       &  Black              &  Male   &    0 & 0 & 40 &  United-States & 1\\\\\n",
       "\t5 & 28 &  Private          & 338409 &  Bachelors    & 13 &  Married-civ-spouse    &  Prof-specialty    &  Wife          &  Black              &  Female &    0 & 0 & 40 &  Cuba          & 1\\\\\n",
       "\t6 & 37 &  Private          & 284582 &  Masters      & 14 &  Married-civ-spouse    &  Exec-managerial   &  Wife          &  White              &  Female &    0 & 0 & 40 &  United-States & 1\\\\\n",
       "\t7 & 49 &  Private          & 160187 &  9th          &  5 &  Married-spouse-absent &  Other-service     &  Not-in-family &  Black              &  Female &    0 & 0 & 16 &  Jamaica       & 1\\\\\n",
       "\t8 & 52 &  Self-emp-not-inc & 209642 &  HS-grad      &  9 &  Married-civ-spouse    &  Exec-managerial   &  Husband       &  White              &  Male   &    0 & 0 & 45 &  United-States & 0\\\\\n",
       "\t11 & 37 &  Private          & 280464 &  Some-college & 10 &  Married-civ-spouse    &  Exec-managerial   &  Husband       &  Black              &  Male   &    0 & 0 & 80 &  United-States & 0\\\\\n",
       "\t12 & 30 &  State-gov        & 141297 &  Bachelors    & 13 &  Married-civ-spouse    &  Prof-specialty    &  Husband       &  Asian-Pac-Islander &  Male   &    0 & 0 & 40 &  India         & 0\\\\\n",
       "\t13 & 23 &  Private          & 122272 &  Bachelors    & 13 &  Never-married         &  Adm-clerical      &  Own-child     &  White              &  Female &    0 & 0 & 30 &  United-States & 1\\\\\n",
       "\t14 & 32 &  Private          & 205019 &  Assoc-acdm   & 12 &  Never-married         &  Sales             &  Not-in-family &  Black              &  Male   &    0 & 0 & 50 &  United-States & 1\\\\\n",
       "\t16 & 34 &  Private          & 245487 &  7th-8th      &  4 &  Married-civ-spouse    &  Transport-moving  &  Husband       &  Amer-Indian-Eskimo &  Male   &    0 & 0 & 45 &  Mexico        & 1\\\\\n",
       "\t17 & 25 &  Self-emp-not-inc & 176756 &  HS-grad      &  9 &  Never-married         &  Farming-fishing   &  Own-child     &  White              &  Male   &    0 & 0 & 35 &  United-States & 1\\\\\n",
       "\t18 & 32 &  Private          & 186824 &  HS-grad      &  9 &  Never-married         &  Machine-op-inspct &  Unmarried     &  White              &  Male   &    0 & 0 & 40 &  United-States & 1\\\\\n",
       "\t19 & 38 &  Private          &  28887 &  11th         &  7 &  Married-civ-spouse    &  Sales             &  Husband       &  White              &  Male   &    0 & 0 & 50 &  United-States & 1\\\\\n",
       "\t20 & 43 &  Self-emp-not-inc & 292175 &  Masters      & 14 &  Divorced              &  Exec-managerial   &  Unmarried     &  White              &  Female &    0 & 0 & 45 &  United-States & 0\\\\\n",
       "\t21 & 40 &  Private          & 193524 &  Doctorate    & 16 &  Married-civ-spouse    &  Prof-specialty    &  Husband       &  White              &  Male   &    0 & 0 & 60 &  United-States & 0\\\\\n",
       "\t22 & 54 &  Private          & 302146 &  HS-grad      &  9 &  Separated             &  Other-service     &  Unmarried     &  Black              &  Female &    0 & 0 & 20 &  United-States & 1\\\\\n",
       "\t23 & 35 &  Federal-gov      &  76845 &  9th          &  5 &  Married-civ-spouse    &  Farming-fishing   &  Husband       &  Black              &  Male   &    0 & 0 & 40 &  United-States & 1\\\\\n",
       "\t25 & 59 &  Private          & 109015 &  HS-grad      &  9 &  Divorced              &  Tech-support      &  Unmarried     &  White              &  Female &    0 & 0 & 40 &  United-States & 1\\\\\n",
       "\t26 & 56 &  Local-gov        & 216851 &  Bachelors    & 13 &  Married-civ-spouse    &  Tech-support      &  Husband       &  White              &  Male   &    0 & 0 & 40 &  United-States & 0\\\\\n",
       "\t27 & 19 &  Private          & 168294 &  HS-grad      &  9 &  Never-married         &  Craft-repair      &  Own-child     &  White              &  Male   &    0 & 0 & 40 &  United-States & 1\\\\\n",
       "\t29 & 39 &  Private          & 367260 &  HS-grad      &  9 &  Divorced              &  Exec-managerial   &  Not-in-family &  White              &  Male   &    0 & 0 & 80 &  United-States & 1\\\\\n",
       "\t30 & 49 &  Private          & 193366 &  HS-grad      &  9 &  Married-civ-spouse    &  Craft-repair      &  Husband       &  White              &  Male   &    0 & 0 & 40 &  United-States & 1\\\\\n",
       "\t31 & 23 &  Local-gov        & 190709 &  Assoc-acdm   & 12 &  Never-married         &  Protective-serv   &  Not-in-family &  White              &  Male   &    0 & 0 & 52 &  United-States & 1\\\\\n",
       "\t32 & 20 &  Private          & 266015 &  Some-college & 10 &  Never-married         &  Sales             &  Own-child     &  Black              &  Male   &    0 & 0 & 44 &  United-States & 1\\\\\n",
       "\t34 & 30 &  Federal-gov      &  59951 &  Some-college & 10 &  Married-civ-spouse    &  Adm-clerical      &  Own-child     &  White              &  Male   &    0 & 0 & 40 &  United-States & 1\\\\\n",
       "\t35 & 22 &  State-gov        & 311512 &  Some-college & 10 &  Married-civ-spouse    &  Other-service     &  Husband       &  Black              &  Male   &    0 & 0 & 15 &  United-States & 1\\\\\n",
       "\t36 & 48 &  Private          & 242406 &  11th         &  7 &  Never-married         &  Machine-op-inspct &  Unmarried     &  White              &  Male   &    0 & 0 & 40 &  Puerto-Rico   & 1\\\\\n",
       "\t⋮ & ⋮ & ⋮ & ⋮ & ⋮ & ⋮ & ⋮ & ⋮ & ⋮ & ⋮ & ⋮ & ⋮ & ⋮ & ⋮ & ⋮ & ⋮\\\\\n",
       "\t32524 & 30 &  Private          &  77266 &  HS-grad      &  9 &  Divorced           &  Transport-moving  &  Not-in-family  &  White              &  Male   &    0 & 0 & 55 &  United-States & 1\\\\\n",
       "\t32525 & 26 &  Private          & 191648 &  Assoc-acdm   & 12 &  Never-married      &  Machine-op-inspct &  Other-relative &  White              &  Female &    0 & 0 & 15 &  United-States & 1\\\\\n",
       "\t32527 & 32 &  Private          & 211349 &  10th         &  6 &  Married-civ-spouse &  Transport-moving  &  Husband        &  White              &  Male   &    0 & 0 & 40 &  United-States & 1\\\\\n",
       "\t32528 & 22 &  Private          & 203715 &  Some-college & 10 &  Never-married      &  Adm-clerical      &  Own-child      &  White              &  Male   &    0 & 0 & 40 &  United-States & 1\\\\\n",
       "\t32529 & 31 &  Private          & 292592 &  HS-grad      &  9 &  Married-civ-spouse &  Machine-op-inspct &  Wife           &  White              &  Female &    0 & 0 & 40 &  United-States & 1\\\\\n",
       "\t32530 & 29 &  Private          & 125976 &  HS-grad      &  9 &  Separated          &  Sales             &  Unmarried      &  White              &  Female &    0 & 0 & 35 &  United-States & 1\\\\\n",
       "\t32533 & 34 &  Private          & 204461 &  Doctorate    & 16 &  Married-civ-spouse &  Prof-specialty    &  Husband        &  White              &  Male   &    0 & 0 & 60 &  United-States & 0\\\\\n",
       "\t32534 & 54 &  Private          & 337992 &  Bachelors    & 13 &  Married-civ-spouse &  Exec-managerial   &  Husband        &  Asian-Pac-Islander &  Male   &    0 & 0 & 50 &  Japan         & 0\\\\\n",
       "\t32535 & 37 &  Private          & 179137 &  Some-college & 10 &  Divorced           &  Adm-clerical      &  Unmarried      &  White              &  Female &    0 & 0 & 39 &  United-States & 1\\\\\n",
       "\t32536 & 22 &  Private          & 325033 &  12th         &  8 &  Never-married      &  Protective-serv   &  Own-child      &  Black              &  Male   &    0 & 0 & 35 &  United-States & 1\\\\\n",
       "\t32537 & 34 &  Private          & 160216 &  Bachelors    & 13 &  Never-married      &  Exec-managerial   &  Not-in-family  &  White              &  Female &    0 & 0 & 55 &  United-States & 0\\\\\n",
       "\t32538 & 30 &  Private          & 345898 &  HS-grad      &  9 &  Never-married      &  Craft-repair      &  Not-in-family  &  Black              &  Male   &    0 & 0 & 46 &  United-States & 1\\\\\n",
       "\t32541 & 45 &  State-gov        & 252208 &  HS-grad      &  9 &  Separated          &  Adm-clerical      &  Own-child      &  White              &  Female &    0 & 0 & 40 &  United-States & 1\\\\\n",
       "\t32544 & 45 &  Local-gov        & 119199 &  Assoc-acdm   & 12 &  Divorced           &  Prof-specialty    &  Unmarried      &  White              &  Female &    0 & 0 & 48 &  United-States & 1\\\\\n",
       "\t32545 & 31 &  Private          & 199655 &  Masters      & 14 &  Divorced           &  Other-service     &  Not-in-family  &  Other              &  Female &    0 & 0 & 30 &  United-States & 1\\\\\n",
       "\t32546 & 39 &  Local-gov        & 111499 &  Assoc-acdm   & 12 &  Married-civ-spouse &  Adm-clerical      &  Wife           &  White              &  Female &    0 & 0 & 20 &  United-States & 0\\\\\n",
       "\t32547 & 37 &  Private          & 198216 &  Assoc-acdm   & 12 &  Divorced           &  Tech-support      &  Not-in-family  &  White              &  Female &    0 & 0 & 40 &  United-States & 1\\\\\n",
       "\t32548 & 43 &  Private          & 260761 &  HS-grad      &  9 &  Married-civ-spouse &  Machine-op-inspct &  Husband        &  White              &  Male   &    0 & 0 & 40 &  Mexico        & 1\\\\\n",
       "\t32549 & 65 &  Self-emp-not-inc &  99359 &  Prof-school  & 15 &  Never-married      &  Prof-specialty    &  Not-in-family  &  White              &  Male   & 1086 & 0 & 60 &  United-States & 1\\\\\n",
       "\t32550 & 43 &  State-gov        & 255835 &  Some-college & 10 &  Divorced           &  Adm-clerical      &  Other-relative &  White              &  Female &    0 & 0 & 40 &  United-States & 1\\\\\n",
       "\t32551 & 43 &  Self-emp-not-inc &  27242 &  Some-college & 10 &  Married-civ-spouse &  Craft-repair      &  Husband        &  White              &  Male   &    0 & 0 & 50 &  United-States & 1\\\\\n",
       "\t32552 & 32 &  Private          &  34066 &  10th         &  6 &  Married-civ-spouse &  Handlers-cleaners &  Husband        &  Amer-Indian-Eskimo &  Male   &    0 & 0 & 40 &  United-States & 1\\\\\n",
       "\t32553 & 43 &  Private          &  84661 &  Assoc-voc    & 11 &  Married-civ-spouse &  Sales             &  Husband        &  White              &  Male   &    0 & 0 & 45 &  United-States & 1\\\\\n",
       "\t32554 & 32 &  Private          & 116138 &  Masters      & 14 &  Never-married      &  Tech-support      &  Not-in-family  &  Asian-Pac-Islander &  Male   &    0 & 0 & 11 &  Taiwan        & 1\\\\\n",
       "\t32555 & 53 &  Private          & 321865 &  Masters      & 14 &  Married-civ-spouse &  Exec-managerial   &  Husband        &  White              &  Male   &    0 & 0 & 40 &  United-States & 0\\\\\n",
       "\t32556 & 22 &  Private          & 310152 &  Some-college & 10 &  Never-married      &  Protective-serv   &  Not-in-family  &  White              &  Male   &    0 & 0 & 40 &  United-States & 1\\\\\n",
       "\t32557 & 27 &  Private          & 257302 &  Assoc-acdm   & 12 &  Married-civ-spouse &  Tech-support      &  Wife           &  White              &  Female &    0 & 0 & 38 &  United-States & 1\\\\\n",
       "\t32558 & 40 &  Private          & 154374 &  HS-grad      &  9 &  Married-civ-spouse &  Machine-op-inspct &  Husband        &  White              &  Male   &    0 & 0 & 40 &  United-States & 0\\\\\n",
       "\t32559 & 58 &  Private          & 151910 &  HS-grad      &  9 &  Widowed            &  Adm-clerical      &  Unmarried      &  White              &  Female &    0 & 0 & 40 &  United-States & 1\\\\\n",
       "\t32560 & 22 &  Private          & 201490 &  HS-grad      &  9 &  Never-married      &  Adm-clerical      &  Own-child      &  White              &  Male   &    0 & 0 & 20 &  United-States & 1\\\\\n",
       "\\end{tabular}\n"
      ],
      "text/markdown": [
       "\n",
       "A data.frame: 27203 × 15\n",
       "\n",
       "| <!--/--> | age &lt;int&gt; | workclass &lt;chr&gt; | fnlwgt &lt;int&gt; | eduaction &lt;chr&gt; | education_num &lt;int&gt; | marital_status &lt;chr&gt; | occupation &lt;chr&gt; | relationship &lt;chr&gt; | race &lt;chr&gt; | sex &lt;chr&gt; | capital_gain &lt;int&gt; | capital_loss &lt;int&gt; | hours_per_week &lt;int&gt; | native_country &lt;chr&gt; | income &lt;dbl&gt; |\n",
       "|---|---|---|---|---|---|---|---|---|---|---|---|---|---|---|---|\n",
       "| 1 | 39 |  State-gov        |  77516 |  Bachelors    | 13 |  Never-married         |  Adm-clerical      |  Not-in-family |  White              |  Male   | 2174 | 0 | 40 |  United-States | 1 |\n",
       "| 2 | 50 |  Self-emp-not-inc |  83311 |  Bachelors    | 13 |  Married-civ-spouse    |  Exec-managerial   |  Husband       |  White              |  Male   |    0 | 0 | 13 |  United-States | 1 |\n",
       "| 3 | 38 |  Private          | 215646 |  HS-grad      |  9 |  Divorced              |  Handlers-cleaners |  Not-in-family |  White              |  Male   |    0 | 0 | 40 |  United-States | 1 |\n",
       "| 4 | 53 |  Private          | 234721 |  11th         |  7 |  Married-civ-spouse    |  Handlers-cleaners |  Husband       |  Black              |  Male   |    0 | 0 | 40 |  United-States | 1 |\n",
       "| 5 | 28 |  Private          | 338409 |  Bachelors    | 13 |  Married-civ-spouse    |  Prof-specialty    |  Wife          |  Black              |  Female |    0 | 0 | 40 |  Cuba          | 1 |\n",
       "| 6 | 37 |  Private          | 284582 |  Masters      | 14 |  Married-civ-spouse    |  Exec-managerial   |  Wife          |  White              |  Female |    0 | 0 | 40 |  United-States | 1 |\n",
       "| 7 | 49 |  Private          | 160187 |  9th          |  5 |  Married-spouse-absent |  Other-service     |  Not-in-family |  Black              |  Female |    0 | 0 | 16 |  Jamaica       | 1 |\n",
       "| 8 | 52 |  Self-emp-not-inc | 209642 |  HS-grad      |  9 |  Married-civ-spouse    |  Exec-managerial   |  Husband       |  White              |  Male   |    0 | 0 | 45 |  United-States | 0 |\n",
       "| 11 | 37 |  Private          | 280464 |  Some-college | 10 |  Married-civ-spouse    |  Exec-managerial   |  Husband       |  Black              |  Male   |    0 | 0 | 80 |  United-States | 0 |\n",
       "| 12 | 30 |  State-gov        | 141297 |  Bachelors    | 13 |  Married-civ-spouse    |  Prof-specialty    |  Husband       |  Asian-Pac-Islander |  Male   |    0 | 0 | 40 |  India         | 0 |\n",
       "| 13 | 23 |  Private          | 122272 |  Bachelors    | 13 |  Never-married         |  Adm-clerical      |  Own-child     |  White              |  Female |    0 | 0 | 30 |  United-States | 1 |\n",
       "| 14 | 32 |  Private          | 205019 |  Assoc-acdm   | 12 |  Never-married         |  Sales             |  Not-in-family |  Black              |  Male   |    0 | 0 | 50 |  United-States | 1 |\n",
       "| 16 | 34 |  Private          | 245487 |  7th-8th      |  4 |  Married-civ-spouse    |  Transport-moving  |  Husband       |  Amer-Indian-Eskimo |  Male   |    0 | 0 | 45 |  Mexico        | 1 |\n",
       "| 17 | 25 |  Self-emp-not-inc | 176756 |  HS-grad      |  9 |  Never-married         |  Farming-fishing   |  Own-child     |  White              |  Male   |    0 | 0 | 35 |  United-States | 1 |\n",
       "| 18 | 32 |  Private          | 186824 |  HS-grad      |  9 |  Never-married         |  Machine-op-inspct |  Unmarried     |  White              |  Male   |    0 | 0 | 40 |  United-States | 1 |\n",
       "| 19 | 38 |  Private          |  28887 |  11th         |  7 |  Married-civ-spouse    |  Sales             |  Husband       |  White              |  Male   |    0 | 0 | 50 |  United-States | 1 |\n",
       "| 20 | 43 |  Self-emp-not-inc | 292175 |  Masters      | 14 |  Divorced              |  Exec-managerial   |  Unmarried     |  White              |  Female |    0 | 0 | 45 |  United-States | 0 |\n",
       "| 21 | 40 |  Private          | 193524 |  Doctorate    | 16 |  Married-civ-spouse    |  Prof-specialty    |  Husband       |  White              |  Male   |    0 | 0 | 60 |  United-States | 0 |\n",
       "| 22 | 54 |  Private          | 302146 |  HS-grad      |  9 |  Separated             |  Other-service     |  Unmarried     |  Black              |  Female |    0 | 0 | 20 |  United-States | 1 |\n",
       "| 23 | 35 |  Federal-gov      |  76845 |  9th          |  5 |  Married-civ-spouse    |  Farming-fishing   |  Husband       |  Black              |  Male   |    0 | 0 | 40 |  United-States | 1 |\n",
       "| 25 | 59 |  Private          | 109015 |  HS-grad      |  9 |  Divorced              |  Tech-support      |  Unmarried     |  White              |  Female |    0 | 0 | 40 |  United-States | 1 |\n",
       "| 26 | 56 |  Local-gov        | 216851 |  Bachelors    | 13 |  Married-civ-spouse    |  Tech-support      |  Husband       |  White              |  Male   |    0 | 0 | 40 |  United-States | 0 |\n",
       "| 27 | 19 |  Private          | 168294 |  HS-grad      |  9 |  Never-married         |  Craft-repair      |  Own-child     |  White              |  Male   |    0 | 0 | 40 |  United-States | 1 |\n",
       "| 29 | 39 |  Private          | 367260 |  HS-grad      |  9 |  Divorced              |  Exec-managerial   |  Not-in-family |  White              |  Male   |    0 | 0 | 80 |  United-States | 1 |\n",
       "| 30 | 49 |  Private          | 193366 |  HS-grad      |  9 |  Married-civ-spouse    |  Craft-repair      |  Husband       |  White              |  Male   |    0 | 0 | 40 |  United-States | 1 |\n",
       "| 31 | 23 |  Local-gov        | 190709 |  Assoc-acdm   | 12 |  Never-married         |  Protective-serv   |  Not-in-family |  White              |  Male   |    0 | 0 | 52 |  United-States | 1 |\n",
       "| 32 | 20 |  Private          | 266015 |  Some-college | 10 |  Never-married         |  Sales             |  Own-child     |  Black              |  Male   |    0 | 0 | 44 |  United-States | 1 |\n",
       "| 34 | 30 |  Federal-gov      |  59951 |  Some-college | 10 |  Married-civ-spouse    |  Adm-clerical      |  Own-child     |  White              |  Male   |    0 | 0 | 40 |  United-States | 1 |\n",
       "| 35 | 22 |  State-gov        | 311512 |  Some-college | 10 |  Married-civ-spouse    |  Other-service     |  Husband       |  Black              |  Male   |    0 | 0 | 15 |  United-States | 1 |\n",
       "| 36 | 48 |  Private          | 242406 |  11th         |  7 |  Never-married         |  Machine-op-inspct |  Unmarried     |  White              |  Male   |    0 | 0 | 40 |  Puerto-Rico   | 1 |\n",
       "| ⋮ | ⋮ | ⋮ | ⋮ | ⋮ | ⋮ | ⋮ | ⋮ | ⋮ | ⋮ | ⋮ | ⋮ | ⋮ | ⋮ | ⋮ | ⋮ |\n",
       "| 32524 | 30 |  Private          |  77266 |  HS-grad      |  9 |  Divorced           |  Transport-moving  |  Not-in-family  |  White              |  Male   |    0 | 0 | 55 |  United-States | 1 |\n",
       "| 32525 | 26 |  Private          | 191648 |  Assoc-acdm   | 12 |  Never-married      |  Machine-op-inspct |  Other-relative |  White              |  Female |    0 | 0 | 15 |  United-States | 1 |\n",
       "| 32527 | 32 |  Private          | 211349 |  10th         |  6 |  Married-civ-spouse |  Transport-moving  |  Husband        |  White              |  Male   |    0 | 0 | 40 |  United-States | 1 |\n",
       "| 32528 | 22 |  Private          | 203715 |  Some-college | 10 |  Never-married      |  Adm-clerical      |  Own-child      |  White              |  Male   |    0 | 0 | 40 |  United-States | 1 |\n",
       "| 32529 | 31 |  Private          | 292592 |  HS-grad      |  9 |  Married-civ-spouse |  Machine-op-inspct |  Wife           |  White              |  Female |    0 | 0 | 40 |  United-States | 1 |\n",
       "| 32530 | 29 |  Private          | 125976 |  HS-grad      |  9 |  Separated          |  Sales             |  Unmarried      |  White              |  Female |    0 | 0 | 35 |  United-States | 1 |\n",
       "| 32533 | 34 |  Private          | 204461 |  Doctorate    | 16 |  Married-civ-spouse |  Prof-specialty    |  Husband        |  White              |  Male   |    0 | 0 | 60 |  United-States | 0 |\n",
       "| 32534 | 54 |  Private          | 337992 |  Bachelors    | 13 |  Married-civ-spouse |  Exec-managerial   |  Husband        |  Asian-Pac-Islander |  Male   |    0 | 0 | 50 |  Japan         | 0 |\n",
       "| 32535 | 37 |  Private          | 179137 |  Some-college | 10 |  Divorced           |  Adm-clerical      |  Unmarried      |  White              |  Female |    0 | 0 | 39 |  United-States | 1 |\n",
       "| 32536 | 22 |  Private          | 325033 |  12th         |  8 |  Never-married      |  Protective-serv   |  Own-child      |  Black              |  Male   |    0 | 0 | 35 |  United-States | 1 |\n",
       "| 32537 | 34 |  Private          | 160216 |  Bachelors    | 13 |  Never-married      |  Exec-managerial   |  Not-in-family  |  White              |  Female |    0 | 0 | 55 |  United-States | 0 |\n",
       "| 32538 | 30 |  Private          | 345898 |  HS-grad      |  9 |  Never-married      |  Craft-repair      |  Not-in-family  |  Black              |  Male   |    0 | 0 | 46 |  United-States | 1 |\n",
       "| 32541 | 45 |  State-gov        | 252208 |  HS-grad      |  9 |  Separated          |  Adm-clerical      |  Own-child      |  White              |  Female |    0 | 0 | 40 |  United-States | 1 |\n",
       "| 32544 | 45 |  Local-gov        | 119199 |  Assoc-acdm   | 12 |  Divorced           |  Prof-specialty    |  Unmarried      |  White              |  Female |    0 | 0 | 48 |  United-States | 1 |\n",
       "| 32545 | 31 |  Private          | 199655 |  Masters      | 14 |  Divorced           |  Other-service     |  Not-in-family  |  Other              |  Female |    0 | 0 | 30 |  United-States | 1 |\n",
       "| 32546 | 39 |  Local-gov        | 111499 |  Assoc-acdm   | 12 |  Married-civ-spouse |  Adm-clerical      |  Wife           |  White              |  Female |    0 | 0 | 20 |  United-States | 0 |\n",
       "| 32547 | 37 |  Private          | 198216 |  Assoc-acdm   | 12 |  Divorced           |  Tech-support      |  Not-in-family  |  White              |  Female |    0 | 0 | 40 |  United-States | 1 |\n",
       "| 32548 | 43 |  Private          | 260761 |  HS-grad      |  9 |  Married-civ-spouse |  Machine-op-inspct |  Husband        |  White              |  Male   |    0 | 0 | 40 |  Mexico        | 1 |\n",
       "| 32549 | 65 |  Self-emp-not-inc |  99359 |  Prof-school  | 15 |  Never-married      |  Prof-specialty    |  Not-in-family  |  White              |  Male   | 1086 | 0 | 60 |  United-States | 1 |\n",
       "| 32550 | 43 |  State-gov        | 255835 |  Some-college | 10 |  Divorced           |  Adm-clerical      |  Other-relative |  White              |  Female |    0 | 0 | 40 |  United-States | 1 |\n",
       "| 32551 | 43 |  Self-emp-not-inc |  27242 |  Some-college | 10 |  Married-civ-spouse |  Craft-repair      |  Husband        |  White              |  Male   |    0 | 0 | 50 |  United-States | 1 |\n",
       "| 32552 | 32 |  Private          |  34066 |  10th         |  6 |  Married-civ-spouse |  Handlers-cleaners |  Husband        |  Amer-Indian-Eskimo |  Male   |    0 | 0 | 40 |  United-States | 1 |\n",
       "| 32553 | 43 |  Private          |  84661 |  Assoc-voc    | 11 |  Married-civ-spouse |  Sales             |  Husband        |  White              |  Male   |    0 | 0 | 45 |  United-States | 1 |\n",
       "| 32554 | 32 |  Private          | 116138 |  Masters      | 14 |  Never-married      |  Tech-support      |  Not-in-family  |  Asian-Pac-Islander |  Male   |    0 | 0 | 11 |  Taiwan        | 1 |\n",
       "| 32555 | 53 |  Private          | 321865 |  Masters      | 14 |  Married-civ-spouse |  Exec-managerial   |  Husband        |  White              |  Male   |    0 | 0 | 40 |  United-States | 0 |\n",
       "| 32556 | 22 |  Private          | 310152 |  Some-college | 10 |  Never-married      |  Protective-serv   |  Not-in-family  |  White              |  Male   |    0 | 0 | 40 |  United-States | 1 |\n",
       "| 32557 | 27 |  Private          | 257302 |  Assoc-acdm   | 12 |  Married-civ-spouse |  Tech-support      |  Wife           |  White              |  Female |    0 | 0 | 38 |  United-States | 1 |\n",
       "| 32558 | 40 |  Private          | 154374 |  HS-grad      |  9 |  Married-civ-spouse |  Machine-op-inspct |  Husband        |  White              |  Male   |    0 | 0 | 40 |  United-States | 0 |\n",
       "| 32559 | 58 |  Private          | 151910 |  HS-grad      |  9 |  Widowed            |  Adm-clerical      |  Unmarried      |  White              |  Female |    0 | 0 | 40 |  United-States | 1 |\n",
       "| 32560 | 22 |  Private          | 201490 |  HS-grad      |  9 |  Never-married      |  Adm-clerical      |  Own-child      |  White              |  Male   |    0 | 0 | 20 |  United-States | 1 |\n",
       "\n"
      ],
      "text/plain": [
       "      age workclass         fnlwgt eduaction     education_num\n",
       "1     39   State-gov         77516  Bachelors    13           \n",
       "2     50   Self-emp-not-inc  83311  Bachelors    13           \n",
       "3     38   Private          215646  HS-grad       9           \n",
       "4     53   Private          234721  11th          7           \n",
       "5     28   Private          338409  Bachelors    13           \n",
       "6     37   Private          284582  Masters      14           \n",
       "7     49   Private          160187  9th           5           \n",
       "8     52   Self-emp-not-inc 209642  HS-grad       9           \n",
       "11    37   Private          280464  Some-college 10           \n",
       "12    30   State-gov        141297  Bachelors    13           \n",
       "13    23   Private          122272  Bachelors    13           \n",
       "14    32   Private          205019  Assoc-acdm   12           \n",
       "16    34   Private          245487  7th-8th       4           \n",
       "17    25   Self-emp-not-inc 176756  HS-grad       9           \n",
       "18    32   Private          186824  HS-grad       9           \n",
       "19    38   Private           28887  11th          7           \n",
       "20    43   Self-emp-not-inc 292175  Masters      14           \n",
       "21    40   Private          193524  Doctorate    16           \n",
       "22    54   Private          302146  HS-grad       9           \n",
       "23    35   Federal-gov       76845  9th           5           \n",
       "25    59   Private          109015  HS-grad       9           \n",
       "26    56   Local-gov        216851  Bachelors    13           \n",
       "27    19   Private          168294  HS-grad       9           \n",
       "29    39   Private          367260  HS-grad       9           \n",
       "30    49   Private          193366  HS-grad       9           \n",
       "31    23   Local-gov        190709  Assoc-acdm   12           \n",
       "32    20   Private          266015  Some-college 10           \n",
       "34    30   Federal-gov       59951  Some-college 10           \n",
       "35    22   State-gov        311512  Some-college 10           \n",
       "36    48   Private          242406  11th          7           \n",
       "<U+22EE>     <U+22EE> <U+22EE>          <U+22EE> <U+22EE>      <U+22EE>     \n",
       "32524 30   Private           77266  HS-grad       9           \n",
       "32525 26   Private          191648  Assoc-acdm   12           \n",
       "32527 32   Private          211349  10th          6           \n",
       "32528 22   Private          203715  Some-college 10           \n",
       "32529 31   Private          292592  HS-grad       9           \n",
       "32530 29   Private          125976  HS-grad       9           \n",
       "32533 34   Private          204461  Doctorate    16           \n",
       "32534 54   Private          337992  Bachelors    13           \n",
       "32535 37   Private          179137  Some-college 10           \n",
       "32536 22   Private          325033  12th          8           \n",
       "32537 34   Private          160216  Bachelors    13           \n",
       "32538 30   Private          345898  HS-grad       9           \n",
       "32541 45   State-gov        252208  HS-grad       9           \n",
       "32544 45   Local-gov        119199  Assoc-acdm   12           \n",
       "32545 31   Private          199655  Masters      14           \n",
       "32546 39   Local-gov        111499  Assoc-acdm   12           \n",
       "32547 37   Private          198216  Assoc-acdm   12           \n",
       "32548 43   Private          260761  HS-grad       9           \n",
       "32549 65   Self-emp-not-inc  99359  Prof-school  15           \n",
       "32550 43   State-gov        255835  Some-college 10           \n",
       "32551 43   Self-emp-not-inc  27242  Some-college 10           \n",
       "32552 32   Private           34066  10th          6           \n",
       "32553 43   Private           84661  Assoc-voc    11           \n",
       "32554 32   Private          116138  Masters      14           \n",
       "32555 53   Private          321865  Masters      14           \n",
       "32556 22   Private          310152  Some-college 10           \n",
       "32557 27   Private          257302  Assoc-acdm   12           \n",
       "32558 40   Private          154374  HS-grad       9           \n",
       "32559 58   Private          151910  HS-grad       9           \n",
       "32560 22   Private          201490  HS-grad       9           \n",
       "      marital_status         occupation         relationship   \n",
       "1      Never-married          Adm-clerical       Not-in-family \n",
       "2      Married-civ-spouse     Exec-managerial    Husband       \n",
       "3      Divorced               Handlers-cleaners  Not-in-family \n",
       "4      Married-civ-spouse     Handlers-cleaners  Husband       \n",
       "5      Married-civ-spouse     Prof-specialty     Wife          \n",
       "6      Married-civ-spouse     Exec-managerial    Wife          \n",
       "7      Married-spouse-absent  Other-service      Not-in-family \n",
       "8      Married-civ-spouse     Exec-managerial    Husband       \n",
       "11     Married-civ-spouse     Exec-managerial    Husband       \n",
       "12     Married-civ-spouse     Prof-specialty     Husband       \n",
       "13     Never-married          Adm-clerical       Own-child     \n",
       "14     Never-married          Sales              Not-in-family \n",
       "16     Married-civ-spouse     Transport-moving   Husband       \n",
       "17     Never-married          Farming-fishing    Own-child     \n",
       "18     Never-married          Machine-op-inspct  Unmarried     \n",
       "19     Married-civ-spouse     Sales              Husband       \n",
       "20     Divorced               Exec-managerial    Unmarried     \n",
       "21     Married-civ-spouse     Prof-specialty     Husband       \n",
       "22     Separated              Other-service      Unmarried     \n",
       "23     Married-civ-spouse     Farming-fishing    Husband       \n",
       "25     Divorced               Tech-support       Unmarried     \n",
       "26     Married-civ-spouse     Tech-support       Husband       \n",
       "27     Never-married          Craft-repair       Own-child     \n",
       "29     Divorced               Exec-managerial    Not-in-family \n",
       "30     Married-civ-spouse     Craft-repair       Husband       \n",
       "31     Never-married          Protective-serv    Not-in-family \n",
       "32     Never-married          Sales              Own-child     \n",
       "34     Married-civ-spouse     Adm-clerical       Own-child     \n",
       "35     Married-civ-spouse     Other-service      Husband       \n",
       "36     Never-married          Machine-op-inspct  Unmarried     \n",
       "<U+22EE>     <U+22EE>               <U+22EE>           <U+22EE>       \n",
       "32524  Divorced               Transport-moving   Not-in-family \n",
       "32525  Never-married          Machine-op-inspct  Other-relative\n",
       "32527  Married-civ-spouse     Transport-moving   Husband       \n",
       "32528  Never-married          Adm-clerical       Own-child     \n",
       "32529  Married-civ-spouse     Machine-op-inspct  Wife          \n",
       "32530  Separated              Sales              Unmarried     \n",
       "32533  Married-civ-spouse     Prof-specialty     Husband       \n",
       "32534  Married-civ-spouse     Exec-managerial    Husband       \n",
       "32535  Divorced               Adm-clerical       Unmarried     \n",
       "32536  Never-married          Protective-serv    Own-child     \n",
       "32537  Never-married          Exec-managerial    Not-in-family \n",
       "32538  Never-married          Craft-repair       Not-in-family \n",
       "32541  Separated              Adm-clerical       Own-child     \n",
       "32544  Divorced               Prof-specialty     Unmarried     \n",
       "32545  Divorced               Other-service      Not-in-family \n",
       "32546  Married-civ-spouse     Adm-clerical       Wife          \n",
       "32547  Divorced               Tech-support       Not-in-family \n",
       "32548  Married-civ-spouse     Machine-op-inspct  Husband       \n",
       "32549  Never-married          Prof-specialty     Not-in-family \n",
       "32550  Divorced               Adm-clerical       Other-relative\n",
       "32551  Married-civ-spouse     Craft-repair       Husband       \n",
       "32552  Married-civ-spouse     Handlers-cleaners  Husband       \n",
       "32553  Married-civ-spouse     Sales              Husband       \n",
       "32554  Never-married          Tech-support       Not-in-family \n",
       "32555  Married-civ-spouse     Exec-managerial    Husband       \n",
       "32556  Never-married          Protective-serv    Not-in-family \n",
       "32557  Married-civ-spouse     Tech-support       Wife          \n",
       "32558  Married-civ-spouse     Machine-op-inspct  Husband       \n",
       "32559  Widowed                Adm-clerical       Unmarried     \n",
       "32560  Never-married          Adm-clerical       Own-child     \n",
       "      race                sex     capital_gain capital_loss hours_per_week\n",
       "1      White               Male   2174         0            40            \n",
       "2      White               Male      0         0            13            \n",
       "3      White               Male      0         0            40            \n",
       "4      Black               Male      0         0            40            \n",
       "5      Black               Female    0         0            40            \n",
       "6      White               Female    0         0            40            \n",
       "7      Black               Female    0         0            16            \n",
       "8      White               Male      0         0            45            \n",
       "11     Black               Male      0         0            80            \n",
       "12     Asian-Pac-Islander  Male      0         0            40            \n",
       "13     White               Female    0         0            30            \n",
       "14     Black               Male      0         0            50            \n",
       "16     Amer-Indian-Eskimo  Male      0         0            45            \n",
       "17     White               Male      0         0            35            \n",
       "18     White               Male      0         0            40            \n",
       "19     White               Male      0         0            50            \n",
       "20     White               Female    0         0            45            \n",
       "21     White               Male      0         0            60            \n",
       "22     Black               Female    0         0            20            \n",
       "23     Black               Male      0         0            40            \n",
       "25     White               Female    0         0            40            \n",
       "26     White               Male      0         0            40            \n",
       "27     White               Male      0         0            40            \n",
       "29     White               Male      0         0            80            \n",
       "30     White               Male      0         0            40            \n",
       "31     White               Male      0         0            52            \n",
       "32     Black               Male      0         0            44            \n",
       "34     White               Male      0         0            40            \n",
       "35     Black               Male      0         0            15            \n",
       "36     White               Male      0         0            40            \n",
       "<U+22EE>     <U+22EE>            <U+22EE> <U+22EE>     <U+22EE>     <U+22EE>      \n",
       "32524  White               Male      0         0            55            \n",
       "32525  White               Female    0         0            15            \n",
       "32527  White               Male      0         0            40            \n",
       "32528  White               Male      0         0            40            \n",
       "32529  White               Female    0         0            40            \n",
       "32530  White               Female    0         0            35            \n",
       "32533  White               Male      0         0            60            \n",
       "32534  Asian-Pac-Islander  Male      0         0            50            \n",
       "32535  White               Female    0         0            39            \n",
       "32536  Black               Male      0         0            35            \n",
       "32537  White               Female    0         0            55            \n",
       "32538  Black               Male      0         0            46            \n",
       "32541  White               Female    0         0            40            \n",
       "32544  White               Female    0         0            48            \n",
       "32545  Other               Female    0         0            30            \n",
       "32546  White               Female    0         0            20            \n",
       "32547  White               Female    0         0            40            \n",
       "32548  White               Male      0         0            40            \n",
       "32549  White               Male   1086         0            60            \n",
       "32550  White               Female    0         0            40            \n",
       "32551  White               Male      0         0            50            \n",
       "32552  Amer-Indian-Eskimo  Male      0         0            40            \n",
       "32553  White               Male      0         0            45            \n",
       "32554  Asian-Pac-Islander  Male      0         0            11            \n",
       "32555  White               Male      0         0            40            \n",
       "32556  White               Male      0         0            40            \n",
       "32557  White               Female    0         0            38            \n",
       "32558  White               Male      0         0            40            \n",
       "32559  White               Female    0         0            40            \n",
       "32560  White               Male      0         0            20            \n",
       "      native_country income\n",
       "1      United-States 1     \n",
       "2      United-States 1     \n",
       "3      United-States 1     \n",
       "4      United-States 1     \n",
       "5      Cuba          1     \n",
       "6      United-States 1     \n",
       "7      Jamaica       1     \n",
       "8      United-States 0     \n",
       "11     United-States 0     \n",
       "12     India         0     \n",
       "13     United-States 1     \n",
       "14     United-States 1     \n",
       "16     Mexico        1     \n",
       "17     United-States 1     \n",
       "18     United-States 1     \n",
       "19     United-States 1     \n",
       "20     United-States 0     \n",
       "21     United-States 0     \n",
       "22     United-States 1     \n",
       "23     United-States 1     \n",
       "25     United-States 1     \n",
       "26     United-States 0     \n",
       "27     United-States 1     \n",
       "29     United-States 1     \n",
       "30     United-States 1     \n",
       "31     United-States 1     \n",
       "32     United-States 1     \n",
       "34     United-States 1     \n",
       "35     United-States 1     \n",
       "36     Puerto-Rico   1     \n",
       "<U+22EE>     <U+22EE>       <U+22EE>\n",
       "32524  United-States 1     \n",
       "32525  United-States 1     \n",
       "32527  United-States 1     \n",
       "32528  United-States 1     \n",
       "32529  United-States 1     \n",
       "32530  United-States 1     \n",
       "32533  United-States 0     \n",
       "32534  Japan         0     \n",
       "32535  United-States 1     \n",
       "32536  United-States 1     \n",
       "32537  United-States 0     \n",
       "32538  United-States 1     \n",
       "32541  United-States 1     \n",
       "32544  United-States 1     \n",
       "32545  United-States 1     \n",
       "32546  United-States 0     \n",
       "32547  United-States 1     \n",
       "32548  Mexico        1     \n",
       "32549  United-States 1     \n",
       "32550  United-States 1     \n",
       "32551  United-States 1     \n",
       "32552  United-States 1     \n",
       "32553  United-States 1     \n",
       "32554  Taiwan        1     \n",
       "32555  United-States 0     \n",
       "32556  United-States 1     \n",
       "32557  United-States 1     \n",
       "32558  United-States 0     \n",
       "32559  United-States 1     \n",
       "32560  United-States 1     "
      ]
     },
     "metadata": {},
     "output_type": "display_data"
    }
   ],
   "source": [
    "z=c()\n",
    "for (i in 1:nrow(adult)){\n",
    "  if(adult[i,11] > 5000 || adult[i,12] > 1000){\n",
    "    z = append(z,i)\n",
    "  }\n",
    "}\n",
    "adult = adult[-z, ]\n",
    "adult"
   ]
  },
  {
   "cell_type": "code",
   "execution_count": 27,
   "metadata": {},
   "outputs": [],
   "source": [
    "glm(formula = income ~ relationship + eduaction + capital_gain + \n",
    "    occupation + capital_loss + hours_per_week + age + sex + \n",
    "    marital_status + workclass + fnlwgt + race, \n",
    "    family = binomial(link=logit), data = adult) -> new.fit2\n",
    "#summary(new.fit2)"
   ]
  },
  {
   "cell_type": "markdown",
   "metadata": {},
   "source": [
    "- Confusion Matrix\n",
    "- Get accuracy 84.9%"
   ]
  },
  {
   "cell_type": "code",
   "execution_count": 30,
   "metadata": {},
   "outputs": [
    {
     "data": {
      "text/plain": [
       "         Actual\n",
       "Predicted     0     1\n",
       "        0  2557  1309\n",
       "        1  2797 20540"
      ]
     },
     "metadata": {},
     "output_type": "display_data"
    },
    {
     "data": {
      "text/html": [
       "0.849060765356762"
      ],
      "text/latex": [
       "0.849060765356762"
      ],
      "text/markdown": [
       "0.849060765356762"
      ],
      "text/plain": [
       "[1] 0.8490608"
      ]
     },
     "metadata": {},
     "output_type": "display_data"
    }
   ],
   "source": [
    "thresh <- 0.5\n",
    "pred.probs <- predict(new.fit2, adult, type=\"response\")\n",
    "pred <- ifelse(pred.probs > thresh, 1, 0)\n",
    "conf.mat <- table(\"Predicted\"=pred, \"Actual\"=adult$income)\n",
    "conf.mat\n",
    "\n",
    "(2557+20540)/(2557+1309+2797+20540)"
   ]
  },
  {
   "cell_type": "markdown",
   "metadata": {},
   "source": [
    "- Cross-Validation. Use 10-Folds.\n",
    "- Get error rate is 15.1%. Same as before (84.9% accuracy, 15.1% error rate)"
   ]
  },
  {
   "cell_type": "code",
   "execution_count": 33,
   "metadata": {},
   "outputs": [
    {
     "name": "stderr",
     "output_type": "stream",
     "text": [
      "Warning message:\n",
      "\"glm.fit: fitted probabilities numerically 0 or 1 occurred\"\n",
      "Warning message:\n",
      "\"glm.fit: fitted probabilities numerically 0 or 1 occurred\"\n",
      "Warning message:\n",
      "\"glm.fit: fitted probabilities numerically 0 or 1 occurred\"\n"
     ]
    },
    {
     "data": {
      "text/html": [
       "0.151490644414219"
      ],
      "text/latex": [
       "0.151490644414219"
      ],
      "text/markdown": [
       "0.151490644414219"
      ],
      "text/plain": [
       "[1] 0.1514906"
      ]
     },
     "metadata": {},
     "output_type": "display_data"
    }
   ],
   "source": [
    "library(boot)\n",
    "loss = function(Y,p){ \n",
    "  return( mean( (Y==1 & p < 0.5) | (Y==0 & p >= 0.5) ) ) \n",
    "}\n",
    "\n",
    "cv.error = cv.glm( adult, new.fit2 ,loss, K=10)\n",
    "cv.error$delta[1]"
   ]
  },
  {
   "cell_type": "markdown",
   "metadata": {},
   "source": [
    "## LDA"
   ]
  },
  {
   "cell_type": "markdown",
   "metadata": {},
   "source": [
    "- Prior probability are 0(income < 50K)= 0.2 and 1(income >= 50K)= 0.8 and classification error rate is 15.37%. \n",
    "- After tuning to find best threshold for prior probability, we get the error rate is 15.34%, a little bit better than before."
   ]
  },
  {
   "cell_type": "code",
   "execution_count": 38,
   "metadata": {},
   "outputs": [
    {
     "data": {
      "text/plain": [
       "\n",
       "    0     1 \n",
       " 5354 21849 "
      ]
     },
     "metadata": {},
     "output_type": "display_data"
    },
    {
     "data": {
      "text/html": [
       "<style>\n",
       ".list-inline {list-style: none; margin:0; padding: 0}\n",
       ".list-inline>li {display: inline-block}\n",
       ".list-inline>li:not(:last-child)::after {content: \"\\00b7\"; padding: 0 .5ex}\n",
       "</style>\n",
       "<ol class=list-inline><li>0.196816527588869</li><li>0.803183472411131</li></ol>\n"
      ],
      "text/latex": [
       "\\begin{enumerate*}\n",
       "\\item 0.196816527588869\n",
       "\\item 0.803183472411131\n",
       "\\end{enumerate*}\n"
      ],
      "text/markdown": [
       "1. 0.196816527588869\n",
       "2. 0.803183472411131\n",
       "\n",
       "\n"
      ],
      "text/plain": [
       "[1] 0.1968165 0.8031835"
      ]
     },
     "metadata": {},
     "output_type": "display_data"
    },
    {
     "data": {
      "text/html": [
       "<table class=\"dataframe\">\n",
       "<caption>A data.frame: 27203 × 3</caption>\n",
       "<thead>\n",
       "\t<tr><th></th><th scope=col>X0</th><th scope=col>X1</th><th scope=col>lda.fit.class</th></tr>\n",
       "\t<tr><th></th><th scope=col>&lt;dbl&gt;</th><th scope=col>&lt;dbl&gt;</th><th scope=col>&lt;fct&gt;</th></tr>\n",
       "</thead>\n",
       "<tbody>\n",
       "\t<tr><th scope=row>1</th><td>0.048460245</td><td>0.95153975</td><td>1</td></tr>\n",
       "\t<tr><th scope=row>2</th><td>0.502725901</td><td>0.49727410</td><td>0</td></tr>\n",
       "\t<tr><th scope=row>3</th><td>0.015530547</td><td>0.98446945</td><td>1</td></tr>\n",
       "\t<tr><th scope=row>4</th><td>0.156413909</td><td>0.84358609</td><td>1</td></tr>\n",
       "\t<tr><th scope=row>5</th><td>0.687261715</td><td>0.31273828</td><td>0</td></tr>\n",
       "\t<tr><th scope=row>6</th><td>0.924424908</td><td>0.07557509</td><td>0</td></tr>\n",
       "\t<tr><th scope=row>7</th><td>0.004512381</td><td>0.99548762</td><td>1</td></tr>\n",
       "\t<tr><th scope=row>8</th><td>0.396132333</td><td>0.60386767</td><td>1</td></tr>\n",
       "\t<tr><th scope=row>11</th><td>0.731925748</td><td>0.26807425</td><td>0</td></tr>\n",
       "\t<tr><th scope=row>12</th><td>0.420175370</td><td>0.57982463</td><td>1</td></tr>\n",
       "\t<tr><th scope=row>13</th><td>0.034990381</td><td>0.96500962</td><td>1</td></tr>\n",
       "\t<tr><th scope=row>14</th><td>0.046754631</td><td>0.95324537</td><td>1</td></tr>\n",
       "\t<tr><th scope=row>16</th><td>0.043157746</td><td>0.95684225</td><td>1</td></tr>\n",
       "\t<tr><th scope=row>17</th><td>0.003792114</td><td>0.99620789</td><td>1</td></tr>\n",
       "\t<tr><th scope=row>18</th><td>0.014780485</td><td>0.98521951</td><td>1</td></tr>\n",
       "\t<tr><th scope=row>19</th><td>0.279323300</td><td>0.72067670</td><td>1</td></tr>\n",
       "\t<tr><th scope=row>20</th><td>0.227620903</td><td>0.77237910</td><td>1</td></tr>\n",
       "\t<tr><th scope=row>21</th><td>0.958307213</td><td>0.04169279</td><td>0</td></tr>\n",
       "\t<tr><th scope=row>22</th><td>0.012718091</td><td>0.98728191</td><td>1</td></tr>\n",
       "\t<tr><th scope=row>23</th><td>0.074066243</td><td>0.92593376</td><td>1</td></tr>\n",
       "\t<tr><th scope=row>25</th><td>0.046818944</td><td>0.95318106</td><td>1</td></tr>\n",
       "\t<tr><th scope=row>26</th><td>0.704594830</td><td>0.29540517</td><td>0</td></tr>\n",
       "\t<tr><th scope=row>27</th><td>0.015437463</td><td>0.98456254</td><td>1</td></tr>\n",
       "\t<tr><th scope=row>29</th><td>0.181501388</td><td>0.81849861</td><td>1</td></tr>\n",
       "\t<tr><th scope=row>30</th><td>0.227282208</td><td>0.77271779</td><td>1</td></tr>\n",
       "\t<tr><th scope=row>31</th><td>0.049514520</td><td>0.95048548</td><td>1</td></tr>\n",
       "\t<tr><th scope=row>32</th><td>0.037958030</td><td>0.96204197</td><td>1</td></tr>\n",
       "\t<tr><th scope=row>34</th><td>0.162705013</td><td>0.83729499</td><td>1</td></tr>\n",
       "\t<tr><th scope=row>35</th><td>0.072832671</td><td>0.92716733</td><td>1</td></tr>\n",
       "\t<tr><th scope=row>36</th><td>0.019302153</td><td>0.98069785</td><td>1</td></tr>\n",
       "\t<tr><th scope=row>⋮</th><td>⋮</td><td>⋮</td><td>⋮</td></tr>\n",
       "\t<tr><th scope=row>32524</th><td>0.018549570</td><td>0.98145043</td><td>1</td></tr>\n",
       "\t<tr><th scope=row>32525</th><td>0.007425074</td><td>0.99257493</td><td>1</td></tr>\n",
       "\t<tr><th scope=row>32527</th><td>0.103203470</td><td>0.89679653</td><td>1</td></tr>\n",
       "\t<tr><th scope=row>32528</th><td>0.030510202</td><td>0.96948980</td><td>1</td></tr>\n",
       "\t<tr><th scope=row>32529</th><td>0.217319922</td><td>0.78268008</td><td>1</td></tr>\n",
       "\t<tr><th scope=row>32530</th><td>0.017593446</td><td>0.98240655</td><td>1</td></tr>\n",
       "\t<tr><th scope=row>32533</th><td>0.952583523</td><td>0.04741648</td><td>0</td></tr>\n",
       "\t<tr><th scope=row>32534</th><td>0.825342302</td><td>0.17465770</td><td>0</td></tr>\n",
       "\t<tr><th scope=row>32535</th><td>0.023505997</td><td>0.97649400</td><td>1</td></tr>\n",
       "\t<tr><th scope=row>32536</th><td>0.032821522</td><td>0.96717848</td><td>1</td></tr>\n",
       "\t<tr><th scope=row>32537</th><td>0.158700778</td><td>0.84129922</td><td>1</td></tr>\n",
       "\t<tr><th scope=row>32538</th><td>0.016500427</td><td>0.98349957</td><td>1</td></tr>\n",
       "\t<tr><th scope=row>32541</th><td>0.017810601</td><td>0.98218940</td><td>1</td></tr>\n",
       "\t<tr><th scope=row>32544</th><td>0.048522792</td><td>0.95147721</td><td>1</td></tr>\n",
       "\t<tr><th scope=row>32545</th><td>0.043696950</td><td>0.95630305</td><td>1</td></tr>\n",
       "\t<tr><th scope=row>32546</th><td>0.266392568</td><td>0.73360743</td><td>1</td></tr>\n",
       "\t<tr><th scope=row>32547</th><td>0.042031973</td><td>0.95796803</td><td>1</td></tr>\n",
       "\t<tr><th scope=row>32548</th><td>0.175964854</td><td>0.82403515</td><td>1</td></tr>\n",
       "\t<tr><th scope=row>32549</th><td>0.581693468</td><td>0.41830653</td><td>0</td></tr>\n",
       "\t<tr><th scope=row>32550</th><td>0.021687642</td><td>0.97831236</td><td>1</td></tr>\n",
       "\t<tr><th scope=row>32551</th><td>0.184505680</td><td>0.81549432</td><td>1</td></tr>\n",
       "\t<tr><th scope=row>32552</th><td>0.052670876</td><td>0.94732912</td><td>1</td></tr>\n",
       "\t<tr><th scope=row>32553</th><td>0.428854809</td><td>0.57114519</td><td>1</td></tr>\n",
       "\t<tr><th scope=row>32554</th><td>0.104476558</td><td>0.89552344</td><td>1</td></tr>\n",
       "\t<tr><th scope=row>32555</th><td>0.913996101</td><td>0.08600390</td><td>0</td></tr>\n",
       "\t<tr><th scope=row>32556</th><td>0.043941074</td><td>0.95605893</td><td>1</td></tr>\n",
       "\t<tr><th scope=row>32557</th><td>0.522814527</td><td>0.47718547</td><td>0</td></tr>\n",
       "\t<tr><th scope=row>32558</th><td>0.156488658</td><td>0.84351134</td><td>1</td></tr>\n",
       "\t<tr><th scope=row>32559</th><td>0.028712537</td><td>0.97128746</td><td>1</td></tr>\n",
       "\t<tr><th scope=row>32560</th><td>0.012894179</td><td>0.98710582</td><td>1</td></tr>\n",
       "</tbody>\n",
       "</table>\n"
      ],
      "text/latex": [
       "A data.frame: 27203 × 3\n",
       "\\begin{tabular}{r|lll}\n",
       "  & X0 & X1 & lda.fit.class\\\\\n",
       "  & <dbl> & <dbl> & <fct>\\\\\n",
       "\\hline\n",
       "\t1 & 0.048460245 & 0.95153975 & 1\\\\\n",
       "\t2 & 0.502725901 & 0.49727410 & 0\\\\\n",
       "\t3 & 0.015530547 & 0.98446945 & 1\\\\\n",
       "\t4 & 0.156413909 & 0.84358609 & 1\\\\\n",
       "\t5 & 0.687261715 & 0.31273828 & 0\\\\\n",
       "\t6 & 0.924424908 & 0.07557509 & 0\\\\\n",
       "\t7 & 0.004512381 & 0.99548762 & 1\\\\\n",
       "\t8 & 0.396132333 & 0.60386767 & 1\\\\\n",
       "\t11 & 0.731925748 & 0.26807425 & 0\\\\\n",
       "\t12 & 0.420175370 & 0.57982463 & 1\\\\\n",
       "\t13 & 0.034990381 & 0.96500962 & 1\\\\\n",
       "\t14 & 0.046754631 & 0.95324537 & 1\\\\\n",
       "\t16 & 0.043157746 & 0.95684225 & 1\\\\\n",
       "\t17 & 0.003792114 & 0.99620789 & 1\\\\\n",
       "\t18 & 0.014780485 & 0.98521951 & 1\\\\\n",
       "\t19 & 0.279323300 & 0.72067670 & 1\\\\\n",
       "\t20 & 0.227620903 & 0.77237910 & 1\\\\\n",
       "\t21 & 0.958307213 & 0.04169279 & 0\\\\\n",
       "\t22 & 0.012718091 & 0.98728191 & 1\\\\\n",
       "\t23 & 0.074066243 & 0.92593376 & 1\\\\\n",
       "\t25 & 0.046818944 & 0.95318106 & 1\\\\\n",
       "\t26 & 0.704594830 & 0.29540517 & 0\\\\\n",
       "\t27 & 0.015437463 & 0.98456254 & 1\\\\\n",
       "\t29 & 0.181501388 & 0.81849861 & 1\\\\\n",
       "\t30 & 0.227282208 & 0.77271779 & 1\\\\\n",
       "\t31 & 0.049514520 & 0.95048548 & 1\\\\\n",
       "\t32 & 0.037958030 & 0.96204197 & 1\\\\\n",
       "\t34 & 0.162705013 & 0.83729499 & 1\\\\\n",
       "\t35 & 0.072832671 & 0.92716733 & 1\\\\\n",
       "\t36 & 0.019302153 & 0.98069785 & 1\\\\\n",
       "\t⋮ & ⋮ & ⋮ & ⋮\\\\\n",
       "\t32524 & 0.018549570 & 0.98145043 & 1\\\\\n",
       "\t32525 & 0.007425074 & 0.99257493 & 1\\\\\n",
       "\t32527 & 0.103203470 & 0.89679653 & 1\\\\\n",
       "\t32528 & 0.030510202 & 0.96948980 & 1\\\\\n",
       "\t32529 & 0.217319922 & 0.78268008 & 1\\\\\n",
       "\t32530 & 0.017593446 & 0.98240655 & 1\\\\\n",
       "\t32533 & 0.952583523 & 0.04741648 & 0\\\\\n",
       "\t32534 & 0.825342302 & 0.17465770 & 0\\\\\n",
       "\t32535 & 0.023505997 & 0.97649400 & 1\\\\\n",
       "\t32536 & 0.032821522 & 0.96717848 & 1\\\\\n",
       "\t32537 & 0.158700778 & 0.84129922 & 1\\\\\n",
       "\t32538 & 0.016500427 & 0.98349957 & 1\\\\\n",
       "\t32541 & 0.017810601 & 0.98218940 & 1\\\\\n",
       "\t32544 & 0.048522792 & 0.95147721 & 1\\\\\n",
       "\t32545 & 0.043696950 & 0.95630305 & 1\\\\\n",
       "\t32546 & 0.266392568 & 0.73360743 & 1\\\\\n",
       "\t32547 & 0.042031973 & 0.95796803 & 1\\\\\n",
       "\t32548 & 0.175964854 & 0.82403515 & 1\\\\\n",
       "\t32549 & 0.581693468 & 0.41830653 & 0\\\\\n",
       "\t32550 & 0.021687642 & 0.97831236 & 1\\\\\n",
       "\t32551 & 0.184505680 & 0.81549432 & 1\\\\\n",
       "\t32552 & 0.052670876 & 0.94732912 & 1\\\\\n",
       "\t32553 & 0.428854809 & 0.57114519 & 1\\\\\n",
       "\t32554 & 0.104476558 & 0.89552344 & 1\\\\\n",
       "\t32555 & 0.913996101 & 0.08600390 & 0\\\\\n",
       "\t32556 & 0.043941074 & 0.95605893 & 1\\\\\n",
       "\t32557 & 0.522814527 & 0.47718547 & 0\\\\\n",
       "\t32558 & 0.156488658 & 0.84351134 & 1\\\\\n",
       "\t32559 & 0.028712537 & 0.97128746 & 1\\\\\n",
       "\t32560 & 0.012894179 & 0.98710582 & 1\\\\\n",
       "\\end{tabular}\n"
      ],
      "text/markdown": [
       "\n",
       "A data.frame: 27203 × 3\n",
       "\n",
       "| <!--/--> | X0 &lt;dbl&gt; | X1 &lt;dbl&gt; | lda.fit.class &lt;fct&gt; |\n",
       "|---|---|---|---|\n",
       "| 1 | 0.048460245 | 0.95153975 | 1 |\n",
       "| 2 | 0.502725901 | 0.49727410 | 0 |\n",
       "| 3 | 0.015530547 | 0.98446945 | 1 |\n",
       "| 4 | 0.156413909 | 0.84358609 | 1 |\n",
       "| 5 | 0.687261715 | 0.31273828 | 0 |\n",
       "| 6 | 0.924424908 | 0.07557509 | 0 |\n",
       "| 7 | 0.004512381 | 0.99548762 | 1 |\n",
       "| 8 | 0.396132333 | 0.60386767 | 1 |\n",
       "| 11 | 0.731925748 | 0.26807425 | 0 |\n",
       "| 12 | 0.420175370 | 0.57982463 | 1 |\n",
       "| 13 | 0.034990381 | 0.96500962 | 1 |\n",
       "| 14 | 0.046754631 | 0.95324537 | 1 |\n",
       "| 16 | 0.043157746 | 0.95684225 | 1 |\n",
       "| 17 | 0.003792114 | 0.99620789 | 1 |\n",
       "| 18 | 0.014780485 | 0.98521951 | 1 |\n",
       "| 19 | 0.279323300 | 0.72067670 | 1 |\n",
       "| 20 | 0.227620903 | 0.77237910 | 1 |\n",
       "| 21 | 0.958307213 | 0.04169279 | 0 |\n",
       "| 22 | 0.012718091 | 0.98728191 | 1 |\n",
       "| 23 | 0.074066243 | 0.92593376 | 1 |\n",
       "| 25 | 0.046818944 | 0.95318106 | 1 |\n",
       "| 26 | 0.704594830 | 0.29540517 | 0 |\n",
       "| 27 | 0.015437463 | 0.98456254 | 1 |\n",
       "| 29 | 0.181501388 | 0.81849861 | 1 |\n",
       "| 30 | 0.227282208 | 0.77271779 | 1 |\n",
       "| 31 | 0.049514520 | 0.95048548 | 1 |\n",
       "| 32 | 0.037958030 | 0.96204197 | 1 |\n",
       "| 34 | 0.162705013 | 0.83729499 | 1 |\n",
       "| 35 | 0.072832671 | 0.92716733 | 1 |\n",
       "| 36 | 0.019302153 | 0.98069785 | 1 |\n",
       "| ⋮ | ⋮ | ⋮ | ⋮ |\n",
       "| 32524 | 0.018549570 | 0.98145043 | 1 |\n",
       "| 32525 | 0.007425074 | 0.99257493 | 1 |\n",
       "| 32527 | 0.103203470 | 0.89679653 | 1 |\n",
       "| 32528 | 0.030510202 | 0.96948980 | 1 |\n",
       "| 32529 | 0.217319922 | 0.78268008 | 1 |\n",
       "| 32530 | 0.017593446 | 0.98240655 | 1 |\n",
       "| 32533 | 0.952583523 | 0.04741648 | 0 |\n",
       "| 32534 | 0.825342302 | 0.17465770 | 0 |\n",
       "| 32535 | 0.023505997 | 0.97649400 | 1 |\n",
       "| 32536 | 0.032821522 | 0.96717848 | 1 |\n",
       "| 32537 | 0.158700778 | 0.84129922 | 1 |\n",
       "| 32538 | 0.016500427 | 0.98349957 | 1 |\n",
       "| 32541 | 0.017810601 | 0.98218940 | 1 |\n",
       "| 32544 | 0.048522792 | 0.95147721 | 1 |\n",
       "| 32545 | 0.043696950 | 0.95630305 | 1 |\n",
       "| 32546 | 0.266392568 | 0.73360743 | 1 |\n",
       "| 32547 | 0.042031973 | 0.95796803 | 1 |\n",
       "| 32548 | 0.175964854 | 0.82403515 | 1 |\n",
       "| 32549 | 0.581693468 | 0.41830653 | 0 |\n",
       "| 32550 | 0.021687642 | 0.97831236 | 1 |\n",
       "| 32551 | 0.184505680 | 0.81549432 | 1 |\n",
       "| 32552 | 0.052670876 | 0.94732912 | 1 |\n",
       "| 32553 | 0.428854809 | 0.57114519 | 1 |\n",
       "| 32554 | 0.104476558 | 0.89552344 | 1 |\n",
       "| 32555 | 0.913996101 | 0.08600390 | 0 |\n",
       "| 32556 | 0.043941074 | 0.95605893 | 1 |\n",
       "| 32557 | 0.522814527 | 0.47718547 | 0 |\n",
       "| 32558 | 0.156488658 | 0.84351134 | 1 |\n",
       "| 32559 | 0.028712537 | 0.97128746 | 1 |\n",
       "| 32560 | 0.012894179 | 0.98710582 | 1 |\n",
       "\n"
      ],
      "text/plain": [
       "      X0          X1         lda.fit.class\n",
       "1     0.048460245 0.95153975 1            \n",
       "2     0.502725901 0.49727410 0            \n",
       "3     0.015530547 0.98446945 1            \n",
       "4     0.156413909 0.84358609 1            \n",
       "5     0.687261715 0.31273828 0            \n",
       "6     0.924424908 0.07557509 0            \n",
       "7     0.004512381 0.99548762 1            \n",
       "8     0.396132333 0.60386767 1            \n",
       "11    0.731925748 0.26807425 0            \n",
       "12    0.420175370 0.57982463 1            \n",
       "13    0.034990381 0.96500962 1            \n",
       "14    0.046754631 0.95324537 1            \n",
       "16    0.043157746 0.95684225 1            \n",
       "17    0.003792114 0.99620789 1            \n",
       "18    0.014780485 0.98521951 1            \n",
       "19    0.279323300 0.72067670 1            \n",
       "20    0.227620903 0.77237910 1            \n",
       "21    0.958307213 0.04169279 0            \n",
       "22    0.012718091 0.98728191 1            \n",
       "23    0.074066243 0.92593376 1            \n",
       "25    0.046818944 0.95318106 1            \n",
       "26    0.704594830 0.29540517 0            \n",
       "27    0.015437463 0.98456254 1            \n",
       "29    0.181501388 0.81849861 1            \n",
       "30    0.227282208 0.77271779 1            \n",
       "31    0.049514520 0.95048548 1            \n",
       "32    0.037958030 0.96204197 1            \n",
       "34    0.162705013 0.83729499 1            \n",
       "35    0.072832671 0.92716733 1            \n",
       "36    0.019302153 0.98069785 1            \n",
       "<U+22EE>     <U+22EE>    <U+22EE>   <U+22EE>     \n",
       "32524 0.018549570 0.98145043 1            \n",
       "32525 0.007425074 0.99257493 1            \n",
       "32527 0.103203470 0.89679653 1            \n",
       "32528 0.030510202 0.96948980 1            \n",
       "32529 0.217319922 0.78268008 1            \n",
       "32530 0.017593446 0.98240655 1            \n",
       "32533 0.952583523 0.04741648 0            \n",
       "32534 0.825342302 0.17465770 0            \n",
       "32535 0.023505997 0.97649400 1            \n",
       "32536 0.032821522 0.96717848 1            \n",
       "32537 0.158700778 0.84129922 1            \n",
       "32538 0.016500427 0.98349957 1            \n",
       "32541 0.017810601 0.98218940 1            \n",
       "32544 0.048522792 0.95147721 1            \n",
       "32545 0.043696950 0.95630305 1            \n",
       "32546 0.266392568 0.73360743 1            \n",
       "32547 0.042031973 0.95796803 1            \n",
       "32548 0.175964854 0.82403515 1            \n",
       "32549 0.581693468 0.41830653 0            \n",
       "32550 0.021687642 0.97831236 1            \n",
       "32551 0.184505680 0.81549432 1            \n",
       "32552 0.052670876 0.94732912 1            \n",
       "32553 0.428854809 0.57114519 1            \n",
       "32554 0.104476558 0.89552344 1            \n",
       "32555 0.913996101 0.08600390 0            \n",
       "32556 0.043941074 0.95605893 1            \n",
       "32557 0.522814527 0.47718547 0            \n",
       "32558 0.156488658 0.84351134 1            \n",
       "32559 0.028712537 0.97128746 1            \n",
       "32560 0.012894179 0.98710582 1            "
      ]
     },
     "metadata": {},
     "output_type": "display_data"
    },
    {
     "data": {
      "text/plain": [
       "    income\n",
       "yhat     0     1\n",
       "   0  2607  1434\n",
       "   1  2747 20415"
      ]
     },
     "metadata": {},
     "output_type": "display_data"
    },
    {
     "data": {
      "text/html": [
       "0.153696283498144"
      ],
      "text/latex": [
       "0.153696283498144"
      ],
      "text/markdown": [
       "0.153696283498144"
      ],
      "text/plain": [
       "[1] 0.1536963"
      ]
     },
     "metadata": {},
     "output_type": "display_data"
    }
   ],
   "source": [
    "library(dplyr)\n",
    "library(MASS)\n",
    "attach(adult)\n",
    "\n",
    "table(adult$income)\n",
    "c(5354, 21849)/27203 # prior probability (0= 0.2/ 1= 0.8)\n",
    "\n",
    "lda.fit = lda(income~ relationship + eduaction + capital_gain + \n",
    "                      occupation + capital_loss + hours_per_week + age + sex + \n",
    "                      marital_status + workclass + fnlwgt + race, \n",
    "                      data= adult, CV=TRUE)\n",
    "data.frame(lda.fit$posterior, lda.fit$class)\n",
    "\n",
    "yhat = lda.fit$class\n",
    "#table(yhat, income)\n",
    "\n",
    "err.rate = mean(yhat!=income)\n",
    "err.rate # lda error rate = 15.37%"
   ]
  },
  {
   "cell_type": "code",
   "execution_count": 41,
   "metadata": {},
   "outputs": [
    {
     "data": {
      "text/html": [
       "19"
      ],
      "text/latex": [
       "19"
      ],
      "text/markdown": [
       "19"
      ],
      "text/plain": [
       "[1] 19"
      ]
     },
     "metadata": {},
     "output_type": "display_data"
    },
    {
     "data": {
      "text/html": [
       "0.153402198286954"
      ],
      "text/latex": [
       "0.153402198286954"
      ],
      "text/markdown": [
       "0.153402198286954"
      ],
      "text/plain": [
       "[1] 0.1534022"
      ]
     },
     "metadata": {},
     "output_type": "display_data"
    }
   ],
   "source": [
    "# find best threshold \n",
    "err = rep(0,99)\n",
    "\n",
    "set.seed(1)\n",
    "\n",
    "for (i in 1:99){\n",
    "lda.fit = lda(income~ relationship + eduaction + capital_gain + \n",
    "                      occupation + capital_loss + hours_per_week + age + sex + \n",
    "                      marital_status + workclass + fnlwgt + race, \n",
    "              data= adult, CV=TRUE, prior = c(i*0.01, 1-i*0.01)) # change prior\n",
    "data.frame(lda.fit$posterior, lda.fit$class)\n",
    "\n",
    "yhat = lda.fit$class\n",
    "\n",
    "err[i] = mean(yhat!=income)\n",
    "}\n",
    "\n",
    "which.min(err)\n",
    "err[19] # error rate: 15.34%"
   ]
  },
  {
   "cell_type": "markdown",
   "metadata": {},
   "source": [
    "# KNN"
   ]
  },
  {
   "cell_type": "markdown",
   "metadata": {},
   "source": [
    "- Because KNN is distance-based method, we change our categorical variables to numeric."
   ]
  },
  {
   "cell_type": "code",
   "execution_count": 42,
   "metadata": {},
   "outputs": [
    {
     "data": {
      "text/html": [
       "<table class=\"dataframe\">\n",
       "<caption>A data.frame: 6 × 15</caption>\n",
       "<thead>\n",
       "\t<tr><th></th><th scope=col>age</th><th scope=col>workclass</th><th scope=col>fnlwgt</th><th scope=col>eduaction</th><th scope=col>education_num</th><th scope=col>marital_status</th><th scope=col>occupation</th><th scope=col>relationship</th><th scope=col>race</th><th scope=col>sex</th><th scope=col>capital_gain</th><th scope=col>capital_loss</th><th scope=col>hours_per_week</th><th scope=col>native_country</th><th scope=col>income</th></tr>\n",
       "\t<tr><th></th><th scope=col>&lt;dbl&gt;</th><th scope=col>&lt;dbl&gt;</th><th scope=col>&lt;dbl&gt;</th><th scope=col>&lt;dbl&gt;</th><th scope=col>&lt;int&gt;</th><th scope=col>&lt;dbl&gt;</th><th scope=col>&lt;dbl&gt;</th><th scope=col>&lt;dbl&gt;</th><th scope=col>&lt;dbl&gt;</th><th scope=col>&lt;dbl&gt;</th><th scope=col>&lt;dbl&gt;</th><th scope=col>&lt;dbl&gt;</th><th scope=col>&lt;dbl&gt;</th><th scope=col>&lt;chr&gt;</th><th scope=col>&lt;dbl&gt;</th></tr>\n",
       "</thead>\n",
       "<tbody>\n",
       "\t<tr><th scope=row>1</th><td>39</td><td>6</td><td> 77516</td><td>10</td><td>13</td><td>5</td><td> 1</td><td>2</td><td>5</td><td>2</td><td>2174</td><td>0</td><td>40</td><td> United-States</td><td>1</td></tr>\n",
       "\t<tr><th scope=row>2</th><td>50</td><td>5</td><td> 83311</td><td>10</td><td>13</td><td>3</td><td> 4</td><td>1</td><td>5</td><td>2</td><td>   0</td><td>0</td><td>13</td><td> United-States</td><td>1</td></tr>\n",
       "\t<tr><th scope=row>3</th><td>38</td><td>3</td><td>215646</td><td>12</td><td> 9</td><td>1</td><td> 6</td><td>2</td><td>5</td><td>2</td><td>   0</td><td>0</td><td>40</td><td> United-States</td><td>1</td></tr>\n",
       "\t<tr><th scope=row>4</th><td>53</td><td>3</td><td>234721</td><td> 2</td><td> 7</td><td>3</td><td> 6</td><td>1</td><td>3</td><td>2</td><td>   0</td><td>0</td><td>40</td><td> United-States</td><td>1</td></tr>\n",
       "\t<tr><th scope=row>5</th><td>28</td><td>3</td><td>338409</td><td>10</td><td>13</td><td>3</td><td>10</td><td>6</td><td>3</td><td>1</td><td>   0</td><td>0</td><td>40</td><td> Cuba         </td><td>1</td></tr>\n",
       "\t<tr><th scope=row>6</th><td>37</td><td>3</td><td>284582</td><td>13</td><td>14</td><td>3</td><td> 4</td><td>6</td><td>5</td><td>1</td><td>   0</td><td>0</td><td>40</td><td> United-States</td><td>1</td></tr>\n",
       "</tbody>\n",
       "</table>\n"
      ],
      "text/latex": [
       "A data.frame: 6 × 15\n",
       "\\begin{tabular}{r|lllllllllllllll}\n",
       "  & age & workclass & fnlwgt & eduaction & education\\_num & marital\\_status & occupation & relationship & race & sex & capital\\_gain & capital\\_loss & hours\\_per\\_week & native\\_country & income\\\\\n",
       "  & <dbl> & <dbl> & <dbl> & <dbl> & <int> & <dbl> & <dbl> & <dbl> & <dbl> & <dbl> & <dbl> & <dbl> & <dbl> & <chr> & <dbl>\\\\\n",
       "\\hline\n",
       "\t1 & 39 & 6 &  77516 & 10 & 13 & 5 &  1 & 2 & 5 & 2 & 2174 & 0 & 40 &  United-States & 1\\\\\n",
       "\t2 & 50 & 5 &  83311 & 10 & 13 & 3 &  4 & 1 & 5 & 2 &    0 & 0 & 13 &  United-States & 1\\\\\n",
       "\t3 & 38 & 3 & 215646 & 12 &  9 & 1 &  6 & 2 & 5 & 2 &    0 & 0 & 40 &  United-States & 1\\\\\n",
       "\t4 & 53 & 3 & 234721 &  2 &  7 & 3 &  6 & 1 & 3 & 2 &    0 & 0 & 40 &  United-States & 1\\\\\n",
       "\t5 & 28 & 3 & 338409 & 10 & 13 & 3 & 10 & 6 & 3 & 1 &    0 & 0 & 40 &  Cuba          & 1\\\\\n",
       "\t6 & 37 & 3 & 284582 & 13 & 14 & 3 &  4 & 6 & 5 & 1 &    0 & 0 & 40 &  United-States & 1\\\\\n",
       "\\end{tabular}\n"
      ],
      "text/markdown": [
       "\n",
       "A data.frame: 6 × 15\n",
       "\n",
       "| <!--/--> | age &lt;dbl&gt; | workclass &lt;dbl&gt; | fnlwgt &lt;dbl&gt; | eduaction &lt;dbl&gt; | education_num &lt;int&gt; | marital_status &lt;dbl&gt; | occupation &lt;dbl&gt; | relationship &lt;dbl&gt; | race &lt;dbl&gt; | sex &lt;dbl&gt; | capital_gain &lt;dbl&gt; | capital_loss &lt;dbl&gt; | hours_per_week &lt;dbl&gt; | native_country &lt;chr&gt; | income &lt;dbl&gt; |\n",
       "|---|---|---|---|---|---|---|---|---|---|---|---|---|---|---|---|\n",
       "| 1 | 39 | 6 |  77516 | 10 | 13 | 5 |  1 | 2 | 5 | 2 | 2174 | 0 | 40 |  United-States | 1 |\n",
       "| 2 | 50 | 5 |  83311 | 10 | 13 | 3 |  4 | 1 | 5 | 2 |    0 | 0 | 13 |  United-States | 1 |\n",
       "| 3 | 38 | 3 | 215646 | 12 |  9 | 1 |  6 | 2 | 5 | 2 |    0 | 0 | 40 |  United-States | 1 |\n",
       "| 4 | 53 | 3 | 234721 |  2 |  7 | 3 |  6 | 1 | 3 | 2 |    0 | 0 | 40 |  United-States | 1 |\n",
       "| 5 | 28 | 3 | 338409 | 10 | 13 | 3 | 10 | 6 | 3 | 1 |    0 | 0 | 40 |  Cuba          | 1 |\n",
       "| 6 | 37 | 3 | 284582 | 13 | 14 | 3 |  4 | 6 | 5 | 1 |    0 | 0 | 40 |  United-States | 1 |\n",
       "\n"
      ],
      "text/plain": [
       "  age workclass fnlwgt eduaction education_num marital_status occupation\n",
       "1 39  6          77516 10        13            5               1        \n",
       "2 50  5          83311 10        13            3               4        \n",
       "3 38  3         215646 12         9            1               6        \n",
       "4 53  3         234721  2         7            3               6        \n",
       "5 28  3         338409 10        13            3              10        \n",
       "6 37  3         284582 13        14            3               4        \n",
       "  relationship race sex capital_gain capital_loss hours_per_week native_country\n",
       "1 2            5    2   2174         0            40              United-States\n",
       "2 1            5    2      0         0            13              United-States\n",
       "3 2            5    2      0         0            40              United-States\n",
       "4 1            3    2      0         0            40              United-States\n",
       "5 6            3    1      0         0            40              Cuba         \n",
       "6 6            5    1      0         0            40              United-States\n",
       "  income\n",
       "1 1     \n",
       "2 1     \n",
       "3 1     \n",
       "4 1     \n",
       "5 1     \n",
       "6 1     "
      ]
     },
     "metadata": {},
     "output_type": "display_data"
    }
   ],
   "source": [
    "# change all column's type to numeric so that we can calculate distance for KNN.\n",
    "adult$relationship = as.numeric(as.factor(adult$relationship))\n",
    "\n",
    "adult$eduaction = as.numeric(as.factor(adult$eduaction))\n",
    "adult$sex = as.numeric(as.factor(adult$sex))\n",
    "adult$marital_status = as.numeric(as.factor(adult$marital_status))\n",
    "adult$workclass = as.numeric(as.factor(adult$workclass))\n",
    "adult$race = as.numeric(as.factor(adult$race))\n",
    "adult$occupation = as.numeric(as.factor(adult$occupation))\n",
    "\n",
    "adult$age = as.numeric(adult$age)\n",
    "adult$fnlwgt = as.numeric(adult$fnlwgt)\n",
    "adult$capital_gain = as.numeric(adult$capital_gain)\n",
    "adult$capital_loss = as.numeric(adult$capital_loss)\n",
    "adult$hours_per_week = as.numeric(adult$hours_per_week)\n",
    "\n",
    "head(adult)"
   ]
  },
  {
   "cell_type": "markdown",
   "metadata": {},
   "source": [
    "- Use 'scale()' scaling on X variables to enhance model performance"
   ]
  },
  {
   "cell_type": "code",
   "execution_count": 45,
   "metadata": {},
   "outputs": [],
   "source": [
    "library(class)\n",
    "n = length(adult$age)\n",
    "\n",
    "set.seed(1)\n",
    "z = sample(n, n/2)\n",
    "\n",
    "xtrain = data.frame(adult$age[z], adult$workclass[z], adult$fnlwgt[z], adult$eduaction[z], adult$marital_status[z],\n",
    "                    adult$occupation[z], adult$relationship[z], adult$race[z], adult$sex[z], adult$capital_gain[z],\n",
    "                    adult$capital_loss[z], adult$hours_per_week[z])\n",
    "\n",
    "xtest = data.frame(adult$age[-z], adult$workclass[-z], adult$fnlwgt[-z], adult$eduaction[-z], \n",
    "                   adult$marital_status[-z], adult$occupation[-z], adult$relationship[-z], \n",
    "                   adult$race[-z], adult$sex[-z], adult$capital_gain[-z], adult$capital_loss[-z],\n",
    "                   adult$hours_per_week[-z])\n",
    "\n",
    "ytrain= adult$income[z]\n",
    "ytest= adult$income[-z]\n",
    "\n",
    "yhat = knn(scale(xtrain), scale(xtest), ytrain, 10)"
   ]
  },
  {
   "cell_type": "markdown",
   "metadata": {},
   "source": [
    "- Tune the K value to find best KNN model and plot ROC Curve to check model performance. \n",
    "- We got best K is 31. The lowest error rate is 17.22%"
   ]
  },
  {
   "cell_type": "code",
   "execution_count": 46,
   "metadata": {},
   "outputs": [
    {
     "data": {
      "text/html": [
       "31"
      ],
      "text/latex": [
       "31"
      ],
      "text/markdown": [
       "31"
      ],
      "text/plain": [
       "[1] 31"
      ]
     },
     "metadata": {},
     "output_type": "display_data"
    },
    {
     "data": {
      "image/png": "[encoded data removed]",
      "text/plain": [
       "plot without title"
      ]
     },
     "metadata": {
      "image/png": {
       "height": 420,
       "width": 420
      }
     },
     "output_type": "display_data"
    },
    {
     "data": {
      "image/png": "[encoded data removed]",
      "text/plain": [
       "Plot with title \"ROC Curve\""
      ]
     },
     "metadata": {
      "image/png": {
       "height": 420,
       "width": 420
      }
     },
     "output_type": "display_data"
    }
   ],
   "source": [
    "# choose K\n",
    "\n",
    "err.class = rep(0,100) # calculate error for each K\n",
    "\n",
    "TPR = rep(0,100)\n",
    "FPR = rep(0,100)\n",
    "\n",
    "for (k in 1:100){\n",
    "  yhat = knn(scale(xtrain), scale(xtest), ytrain, k)\n",
    "  err.class[k] = mean(yhat != ytest)\n",
    "  FPR[k] = sum(yhat==1 & ytest==0)/ sum(ytest==0) # false positive\n",
    "  TPR[k] = sum(yhat==1 & ytest==1)/ sum(ytest==1) # true positive\n",
    "}\n",
    "\n",
    "k= 1:100\n",
    "plot(k, err.class, type=\"b\", lwd=5)\n",
    "which.min(err.class) # K= 31\n",
    "\n",
    "plot(FPR, TPR, lwd= 5, main= \"ROC Curve\", type= \"b\", xlim=c(0,1), ylim=c(0,1))\n",
    "abline(0,1, col=\"red\", lwd=5)"
   ]
  },
  {
   "cell_type": "code",
   "execution_count": 47,
   "metadata": {},
   "outputs": [
    {
     "data": {
      "text/html": [
       "0.172180561682106"
      ],
      "text/latex": [
       "0.172180561682106"
      ],
      "text/markdown": [
       "0.172180561682106"
      ],
      "text/plain": [
       "[1] 0.1721806"
      ]
     },
     "metadata": {},
     "output_type": "display_data"
    }
   ],
   "source": [
    "err.class[31]"
   ]
  },
  {
   "cell_type": "markdown",
   "metadata": {},
   "source": [
    "## Classification Tree"
   ]
  },
  {
   "cell_type": "markdown",
   "metadata": {},
   "source": [
    "- At first fitting, our testing error rate is 19%.\n",
    "- But recall for 'label 0' (income < 50K) is 0 which means our model can't predict output with 0. The reason would have that result might be imbalance caused it. Perhaps, we can do oversampling(SMOTE) to fix it."
   ]
  },
  {
   "cell_type": "code",
   "execution_count": 100,
   "metadata": {},
   "outputs": [],
   "source": [
    "library(tree)\n",
    "adult_tree <- adult[,-5] # keep same variables as before models."
   ]
  },
  {
   "cell_type": "code",
   "execution_count": 54,
   "metadata": {},
   "outputs": [],
   "source": [
    "n = nrow(adult_tree)\n",
    "z = sample(n, n*0.8)\n",
    "\n",
    "fit.tree <- tree(as.factor(income)~ relationship+ age+ workclass+ eduaction+ fnlwgt+ race+ capital_gain+ occupation+\n",
    "              capital_loss+ marital_status+ hours_per_week+ sex, adult_tree, subset= z)"
   ]
  },
  {
   "cell_type": "code",
   "execution_count": 55,
   "metadata": {},
   "outputs": [
    {
     "data": {
      "image/png": "[encoded data removed]",
      "text/plain": [
       "plot without title"
      ]
     },
     "metadata": {
      "image/png": {
       "height": 420,
       "width": 420
      }
     },
     "output_type": "display_data"
    }
   ],
   "source": [
    "plot(fit.tree, type=\"uniform\")      \n",
    "text(fit.tree)"
   ]
  },
  {
   "cell_type": "code",
   "execution_count": 56,
   "metadata": {},
   "outputs": [
    {
     "data": {
      "text/plain": [
       "\n",
       "Classification tree:\n",
       "tree(formula = as.factor(income) ~ relationship + age + workclass + \n",
       "    eduaction + fnlwgt + race + capital_gain + occupation + capital_loss + \n",
       "    marital_status + hours_per_week + sex, data = adult_tree, \n",
       "    subset = z)\n",
       "Variables actually used in tree construction:\n",
       "[1] \"relationship\"   \"eduaction\"      \"age\"            \"hours_per_week\"\n",
       "Number of terminal nodes:  7 \n",
       "Residual mean deviance:  0.7401 = 16100 / 21760 \n",
       "Misclassification error rate: 0.1983 = 4315 / 21762 "
      ]
     },
     "metadata": {},
     "output_type": "display_data"
    }
   ],
   "source": [
    "summary(fit.tree)"
   ]
  },
  {
   "cell_type": "code",
   "execution_count": 57,
   "metadata": {},
   "outputs": [
    {
     "data": {
      "text/plain": [
       "     \n",
       "preds    0    1\n",
       "    0    0    0\n",
       "    1 1039 4402"
      ]
     },
     "metadata": {},
     "output_type": "display_data"
    }
   ],
   "source": [
    "preds = predict(fit.tree, newdata= adult_tree[-z,], type=\"class\")\n",
    "table(preds, adult_tree[-z,]$income)"
   ]
  },
  {
   "cell_type": "code",
   "execution_count": 58,
   "metadata": {},
   "outputs": [
    {
     "data": {
      "text/html": [
       "0.190957544569013"
      ],
      "text/latex": [
       "0.190957544569013"
      ],
      "text/markdown": [
       "0.190957544569013"
      ],
      "text/plain": [
       "[1] 0.1909575"
      ]
     },
     "metadata": {},
     "output_type": "display_data"
    }
   ],
   "source": [
    "mean(preds!= adult_tree[-z,]$income)"
   ]
  },
  {
   "cell_type": "markdown",
   "metadata": {},
   "source": [
    "- <b>Pruning</b>\n",
    "- After pruning, we still have same result. 19.83%"
   ]
  },
  {
   "cell_type": "code",
   "execution_count": 59,
   "metadata": {},
   "outputs": [
    {
     "data": {
      "text/plain": [
       "$size\n",
       "[1] 7 6 5 4 3 2 1\n",
       "\n",
       "$dev\n",
       "[1] 16189.59 16733.61 16733.61 17147.01 17546.00 18583.31 21679.23\n",
       "\n",
       "$k\n",
       "[1]      -Inf  275.4727  288.5817  405.0973  466.9616 1039.4806 3098.8248\n",
       "\n",
       "$method\n",
       "[1] \"deviance\"\n",
       "\n",
       "attr(,\"class\")\n",
       "[1] \"prune\"         \"tree.sequence\""
      ]
     },
     "metadata": {},
     "output_type": "display_data"
    }
   ],
   "source": [
    "cv= cv.tree(fit.tree)\n",
    "cv"
   ]
  },
  {
   "cell_type": "code",
   "execution_count": 60,
   "metadata": {},
   "outputs": [
    {
     "data": {
      "text/html": [
       "1"
      ],
      "text/latex": [
       "1"
      ],
      "text/markdown": [
       "1"
      ],
      "text/plain": [
       "[1] 1"
      ]
     },
     "metadata": {},
     "output_type": "display_data"
    }
   ],
   "source": [
    "which.min(cv$dev)"
   ]
  },
  {
   "cell_type": "code",
   "execution_count": 61,
   "metadata": {},
   "outputs": [
    {
     "data": {
      "text/html": [
       "16189.5896103998"
      ],
      "text/latex": [
       "16189.5896103998"
      ],
      "text/markdown": [
       "16189.5896103998"
      ],
      "text/plain": [
       "[1] 16189.59"
      ]
     },
     "metadata": {},
     "output_type": "display_data"
    },
    {
     "data": {
      "text/html": [
       "7"
      ],
      "text/latex": [
       "7"
      ],
      "text/markdown": [
       "7"
      ],
      "text/plain": [
       "[1] 7"
      ]
     },
     "metadata": {},
     "output_type": "display_data"
    }
   ],
   "source": [
    "cv$dev[1]\n",
    "cv$size[1]"
   ]
  },
  {
   "cell_type": "code",
   "execution_count": 64,
   "metadata": {},
   "outputs": [
    {
     "data": {
      "text/plain": [
       "\n",
       "Classification tree:\n",
       "tree(formula = as.factor(income) ~ relationship + age + workclass + \n",
       "    eduaction + fnlwgt + race + capital_gain + occupation + capital_loss + \n",
       "    marital_status + hours_per_week + sex, data = adult_tree, \n",
       "    subset = z)\n",
       "Variables actually used in tree construction:\n",
       "[1] \"relationship\"   \"eduaction\"      \"age\"            \"hours_per_week\"\n",
       "Number of terminal nodes:  7 \n",
       "Residual mean deviance:  0.7401 = 16100 / 21760 \n",
       "Misclassification error rate: 0.1983 = 4315 / 21762 "
      ]
     },
     "metadata": {},
     "output_type": "display_data"
    },
    {
     "data": {
      "image/png": "[encoded data removed]",
      "text/plain": [
       "plot without title"
      ]
     },
     "metadata": {
      "image/png": {
       "height": 420,
       "width": 420
      }
     },
     "output_type": "display_data"
    }
   ],
   "source": [
    "tr.opt = prune.tree(fit.tree, best= 7)\n",
    "plot(tr.opt)\n",
    "text(tr.opt)\n",
    "summary(tr.opt)"
   ]
  },
  {
   "cell_type": "markdown",
   "metadata": {},
   "source": [
    "# Random Forest"
   ]
  },
  {
   "cell_type": "markdown",
   "metadata": {},
   "source": [
    "- At first, our model's testing error rate is 14.63%\n"
   ]
  },
  {
   "cell_type": "code",
   "execution_count": 73,
   "metadata": {
    "scrolled": true
   },
   "outputs": [
    {
     "data": {
      "text/html": [
       "<table class=\"dataframe\">\n",
       "<caption>A data.frame: 6 × 15</caption>\n",
       "<thead>\n",
       "\t<tr><th></th><th scope=col>age</th><th scope=col>workclass</th><th scope=col>fnlwgt</th><th scope=col>eduaction</th><th scope=col>education_num</th><th scope=col>marital_status</th><th scope=col>occupation</th><th scope=col>relationship</th><th scope=col>race</th><th scope=col>sex</th><th scope=col>capital_gain</th><th scope=col>capital_loss</th><th scope=col>hours_per_week</th><th scope=col>native_country</th><th scope=col>income</th></tr>\n",
       "\t<tr><th></th><th scope=col>&lt;int&gt;</th><th scope=col>&lt;chr&gt;</th><th scope=col>&lt;int&gt;</th><th scope=col>&lt;chr&gt;</th><th scope=col>&lt;int&gt;</th><th scope=col>&lt;chr&gt;</th><th scope=col>&lt;chr&gt;</th><th scope=col>&lt;chr&gt;</th><th scope=col>&lt;chr&gt;</th><th scope=col>&lt;chr&gt;</th><th scope=col>&lt;int&gt;</th><th scope=col>&lt;int&gt;</th><th scope=col>&lt;int&gt;</th><th scope=col>&lt;chr&gt;</th><th scope=col>&lt;chr&gt;</th></tr>\n",
       "</thead>\n",
       "<tbody>\n",
       "\t<tr><th scope=row>1</th><td>39</td><td><span style=white-space:pre-wrap> State-gov       </span></td><td> 77516</td><td> Bachelors</td><td>13</td><td><span style=white-space:pre-wrap> Never-married     </span></td><td><span style=white-space:pre-wrap> Adm-clerical     </span></td><td> Not-in-family</td><td> White</td><td><span style=white-space:pre-wrap> Male  </span></td><td>2174</td><td>0</td><td>40</td><td> United-States</td><td> &lt;=50K</td></tr>\n",
       "\t<tr><th scope=row>2</th><td>50</td><td> Self-emp-not-inc</td><td> 83311</td><td> Bachelors</td><td>13</td><td> Married-civ-spouse</td><td><span style=white-space:pre-wrap> Exec-managerial  </span></td><td><span style=white-space:pre-wrap> Husband      </span></td><td> White</td><td><span style=white-space:pre-wrap> Male  </span></td><td><span style=white-space:pre-wrap>   0</span></td><td>0</td><td>13</td><td> United-States</td><td> &lt;=50K</td></tr>\n",
       "\t<tr><th scope=row>3</th><td>38</td><td><span style=white-space:pre-wrap> Private         </span></td><td>215646</td><td><span style=white-space:pre-wrap> HS-grad  </span></td><td> 9</td><td><span style=white-space:pre-wrap> Divorced          </span></td><td> Handlers-cleaners</td><td> Not-in-family</td><td> White</td><td><span style=white-space:pre-wrap> Male  </span></td><td><span style=white-space:pre-wrap>   0</span></td><td>0</td><td>40</td><td> United-States</td><td> &lt;=50K</td></tr>\n",
       "\t<tr><th scope=row>4</th><td>53</td><td><span style=white-space:pre-wrap> Private         </span></td><td>234721</td><td><span style=white-space:pre-wrap> 11th     </span></td><td> 7</td><td> Married-civ-spouse</td><td> Handlers-cleaners</td><td><span style=white-space:pre-wrap> Husband      </span></td><td> Black</td><td><span style=white-space:pre-wrap> Male  </span></td><td><span style=white-space:pre-wrap>   0</span></td><td>0</td><td>40</td><td> United-States</td><td> &lt;=50K</td></tr>\n",
       "\t<tr><th scope=row>5</th><td>28</td><td><span style=white-space:pre-wrap> Private         </span></td><td>338409</td><td> Bachelors</td><td>13</td><td> Married-civ-spouse</td><td><span style=white-space:pre-wrap> Prof-specialty   </span></td><td><span style=white-space:pre-wrap> Wife         </span></td><td> Black</td><td> Female</td><td><span style=white-space:pre-wrap>   0</span></td><td>0</td><td>40</td><td><span style=white-space:pre-wrap> Cuba         </span></td><td> &lt;=50K</td></tr>\n",
       "\t<tr><th scope=row>6</th><td>37</td><td><span style=white-space:pre-wrap> Private         </span></td><td>284582</td><td><span style=white-space:pre-wrap> Masters  </span></td><td>14</td><td> Married-civ-spouse</td><td><span style=white-space:pre-wrap> Exec-managerial  </span></td><td><span style=white-space:pre-wrap> Wife         </span></td><td> White</td><td> Female</td><td><span style=white-space:pre-wrap>   0</span></td><td>0</td><td>40</td><td> United-States</td><td> &lt;=50K</td></tr>\n",
       "</tbody>\n",
       "</table>\n"
      ],
      "text/latex": [
       "A data.frame: 6 × 15\n",
       "\\begin{tabular}{r|lllllllllllllll}\n",
       "  & age & workclass & fnlwgt & eduaction & education\\_num & marital\\_status & occupation & relationship & race & sex & capital\\_gain & capital\\_loss & hours\\_per\\_week & native\\_country & income\\\\\n",
       "  & <int> & <chr> & <int> & <chr> & <int> & <chr> & <chr> & <chr> & <chr> & <chr> & <int> & <int> & <int> & <chr> & <chr>\\\\\n",
       "\\hline\n",
       "\t1 & 39 &  State-gov        &  77516 &  Bachelors & 13 &  Never-married      &  Adm-clerical      &  Not-in-family &  White &  Male   & 2174 & 0 & 40 &  United-States &  <=50K\\\\\n",
       "\t2 & 50 &  Self-emp-not-inc &  83311 &  Bachelors & 13 &  Married-civ-spouse &  Exec-managerial   &  Husband       &  White &  Male   &    0 & 0 & 13 &  United-States &  <=50K\\\\\n",
       "\t3 & 38 &  Private          & 215646 &  HS-grad   &  9 &  Divorced           &  Handlers-cleaners &  Not-in-family &  White &  Male   &    0 & 0 & 40 &  United-States &  <=50K\\\\\n",
       "\t4 & 53 &  Private          & 234721 &  11th      &  7 &  Married-civ-spouse &  Handlers-cleaners &  Husband       &  Black &  Male   &    0 & 0 & 40 &  United-States &  <=50K\\\\\n",
       "\t5 & 28 &  Private          & 338409 &  Bachelors & 13 &  Married-civ-spouse &  Prof-specialty    &  Wife          &  Black &  Female &    0 & 0 & 40 &  Cuba          &  <=50K\\\\\n",
       "\t6 & 37 &  Private          & 284582 &  Masters   & 14 &  Married-civ-spouse &  Exec-managerial   &  Wife          &  White &  Female &    0 & 0 & 40 &  United-States &  <=50K\\\\\n",
       "\\end{tabular}\n"
      ],
      "text/markdown": [
       "\n",
       "A data.frame: 6 × 15\n",
       "\n",
       "| <!--/--> | age &lt;int&gt; | workclass &lt;chr&gt; | fnlwgt &lt;int&gt; | eduaction &lt;chr&gt; | education_num &lt;int&gt; | marital_status &lt;chr&gt; | occupation &lt;chr&gt; | relationship &lt;chr&gt; | race &lt;chr&gt; | sex &lt;chr&gt; | capital_gain &lt;int&gt; | capital_loss &lt;int&gt; | hours_per_week &lt;int&gt; | native_country &lt;chr&gt; | income &lt;chr&gt; |\n",
       "|---|---|---|---|---|---|---|---|---|---|---|---|---|---|---|---|\n",
       "| 1 | 39 |  State-gov        |  77516 |  Bachelors | 13 |  Never-married      |  Adm-clerical      |  Not-in-family |  White |  Male   | 2174 | 0 | 40 |  United-States |  &lt;=50K |\n",
       "| 2 | 50 |  Self-emp-not-inc |  83311 |  Bachelors | 13 |  Married-civ-spouse |  Exec-managerial   |  Husband       |  White |  Male   |    0 | 0 | 13 |  United-States |  &lt;=50K |\n",
       "| 3 | 38 |  Private          | 215646 |  HS-grad   |  9 |  Divorced           |  Handlers-cleaners |  Not-in-family |  White |  Male   |    0 | 0 | 40 |  United-States |  &lt;=50K |\n",
       "| 4 | 53 |  Private          | 234721 |  11th      |  7 |  Married-civ-spouse |  Handlers-cleaners |  Husband       |  Black |  Male   |    0 | 0 | 40 |  United-States |  &lt;=50K |\n",
       "| 5 | 28 |  Private          | 338409 |  Bachelors | 13 |  Married-civ-spouse |  Prof-specialty    |  Wife          |  Black |  Female |    0 | 0 | 40 |  Cuba          |  &lt;=50K |\n",
       "| 6 | 37 |  Private          | 284582 |  Masters   | 14 |  Married-civ-spouse |  Exec-managerial   |  Wife          |  White |  Female |    0 | 0 | 40 |  United-States |  &lt;=50K |\n",
       "\n"
      ],
      "text/plain": [
       "  age workclass         fnlwgt eduaction  education_num marital_status     \n",
       "1 39   State-gov         77516  Bachelors 13             Never-married     \n",
       "2 50   Self-emp-not-inc  83311  Bachelors 13             Married-civ-spouse\n",
       "3 38   Private          215646  HS-grad    9             Divorced          \n",
       "4 53   Private          234721  11th       7             Married-civ-spouse\n",
       "5 28   Private          338409  Bachelors 13             Married-civ-spouse\n",
       "6 37   Private          284582  Masters   14             Married-civ-spouse\n",
       "  occupation         relationship   race   sex     capital_gain capital_loss\n",
       "1  Adm-clerical       Not-in-family  White  Male   2174         0           \n",
       "2  Exec-managerial    Husband        White  Male      0         0           \n",
       "3  Handlers-cleaners  Not-in-family  White  Male      0         0           \n",
       "4  Handlers-cleaners  Husband        Black  Male      0         0           \n",
       "5  Prof-specialty     Wife           Black  Female    0         0           \n",
       "6  Exec-managerial    Wife           White  Female    0         0           \n",
       "  hours_per_week native_country income\n",
       "1 40              United-States  <=50K\n",
       "2 13              United-States  <=50K\n",
       "3 40              United-States  <=50K\n",
       "4 40              United-States  <=50K\n",
       "5 40              Cuba           <=50K\n",
       "6 40              United-States  <=50K"
      ]
     },
     "metadata": {},
     "output_type": "display_data"
    }
   ],
   "source": [
    "adult<-read.table(\"adult.data\", sep=\",\", stringsAsFactors = F, na.strings = \"?\")\n",
    "colnames(adult)<-c(\"age\",\"workclass\",\"fnlwgt\",\"eduaction\",\"education_num\",\"marital_status\",\"occupation\",\n",
    "                   \"relationship\",\"race\",\"sex\",\"capital_gain\",\"capital_loss\",\"hours_per_week\",\"native_country\",\"income\")\n",
    "head(adult)"
   ]
  },
  {
   "cell_type": "code",
   "execution_count": 74,
   "metadata": {},
   "outputs": [
    {
     "data": {
      "text/html": [
       "<table class=\"dataframe\">\n",
       "<caption>A data.frame: 6 × 15</caption>\n",
       "<thead>\n",
       "\t<tr><th></th><th scope=col>age</th><th scope=col>workclass</th><th scope=col>fnlwgt</th><th scope=col>eduaction</th><th scope=col>education_num</th><th scope=col>marital_status</th><th scope=col>occupation</th><th scope=col>relationship</th><th scope=col>race</th><th scope=col>sex</th><th scope=col>capital_gain</th><th scope=col>capital_loss</th><th scope=col>hours_per_week</th><th scope=col>native_country</th><th scope=col>income</th></tr>\n",
       "\t<tr><th></th><th scope=col>&lt;int&gt;</th><th scope=col>&lt;chr&gt;</th><th scope=col>&lt;int&gt;</th><th scope=col>&lt;chr&gt;</th><th scope=col>&lt;int&gt;</th><th scope=col>&lt;chr&gt;</th><th scope=col>&lt;chr&gt;</th><th scope=col>&lt;chr&gt;</th><th scope=col>&lt;chr&gt;</th><th scope=col>&lt;chr&gt;</th><th scope=col>&lt;int&gt;</th><th scope=col>&lt;int&gt;</th><th scope=col>&lt;int&gt;</th><th scope=col>&lt;chr&gt;</th><th scope=col>&lt;dbl&gt;</th></tr>\n",
       "</thead>\n",
       "<tbody>\n",
       "\t<tr><th scope=row>1</th><td>39</td><td> State-gov       </td><td> 77516</td><td> Bachelors</td><td>13</td><td> Never-married     </td><td> Adm-clerical     </td><td> Not-in-family</td><td> White</td><td> Male  </td><td>2174</td><td>0</td><td>40</td><td> United-States</td><td>1</td></tr>\n",
       "\t<tr><th scope=row>2</th><td>50</td><td> Self-emp-not-inc</td><td> 83311</td><td> Bachelors</td><td>13</td><td> Married-civ-spouse</td><td> Exec-managerial  </td><td> Husband      </td><td> White</td><td> Male  </td><td>   0</td><td>0</td><td>13</td><td> United-States</td><td>1</td></tr>\n",
       "\t<tr><th scope=row>3</th><td>38</td><td> Private         </td><td>215646</td><td> HS-grad  </td><td> 9</td><td> Divorced          </td><td> Handlers-cleaners</td><td> Not-in-family</td><td> White</td><td> Male  </td><td>   0</td><td>0</td><td>40</td><td> United-States</td><td>1</td></tr>\n",
       "\t<tr><th scope=row>4</th><td>53</td><td> Private         </td><td>234721</td><td> 11th     </td><td> 7</td><td> Married-civ-spouse</td><td> Handlers-cleaners</td><td> Husband      </td><td> Black</td><td> Male  </td><td>   0</td><td>0</td><td>40</td><td> United-States</td><td>1</td></tr>\n",
       "\t<tr><th scope=row>5</th><td>28</td><td> Private         </td><td>338409</td><td> Bachelors</td><td>13</td><td> Married-civ-spouse</td><td> Prof-specialty   </td><td> Wife         </td><td> Black</td><td> Female</td><td>   0</td><td>0</td><td>40</td><td> Cuba         </td><td>1</td></tr>\n",
       "\t<tr><th scope=row>6</th><td>37</td><td> Private         </td><td>284582</td><td> Masters  </td><td>14</td><td> Married-civ-spouse</td><td> Exec-managerial  </td><td> Wife         </td><td> White</td><td> Female</td><td>   0</td><td>0</td><td>40</td><td> United-States</td><td>1</td></tr>\n",
       "</tbody>\n",
       "</table>\n"
      ],
      "text/latex": [
       "A data.frame: 6 × 15\n",
       "\\begin{tabular}{r|lllllllllllllll}\n",
       "  & age & workclass & fnlwgt & eduaction & education\\_num & marital\\_status & occupation & relationship & race & sex & capital\\_gain & capital\\_loss & hours\\_per\\_week & native\\_country & income\\\\\n",
       "  & <int> & <chr> & <int> & <chr> & <int> & <chr> & <chr> & <chr> & <chr> & <chr> & <int> & <int> & <int> & <chr> & <dbl>\\\\\n",
       "\\hline\n",
       "\t1 & 39 &  State-gov        &  77516 &  Bachelors & 13 &  Never-married      &  Adm-clerical      &  Not-in-family &  White &  Male   & 2174 & 0 & 40 &  United-States & 1\\\\\n",
       "\t2 & 50 &  Self-emp-not-inc &  83311 &  Bachelors & 13 &  Married-civ-spouse &  Exec-managerial   &  Husband       &  White &  Male   &    0 & 0 & 13 &  United-States & 1\\\\\n",
       "\t3 & 38 &  Private          & 215646 &  HS-grad   &  9 &  Divorced           &  Handlers-cleaners &  Not-in-family &  White &  Male   &    0 & 0 & 40 &  United-States & 1\\\\\n",
       "\t4 & 53 &  Private          & 234721 &  11th      &  7 &  Married-civ-spouse &  Handlers-cleaners &  Husband       &  Black &  Male   &    0 & 0 & 40 &  United-States & 1\\\\\n",
       "\t5 & 28 &  Private          & 338409 &  Bachelors & 13 &  Married-civ-spouse &  Prof-specialty    &  Wife          &  Black &  Female &    0 & 0 & 40 &  Cuba          & 1\\\\\n",
       "\t6 & 37 &  Private          & 284582 &  Masters   & 14 &  Married-civ-spouse &  Exec-managerial   &  Wife          &  White &  Female &    0 & 0 & 40 &  United-States & 1\\\\\n",
       "\\end{tabular}\n"
      ],
      "text/markdown": [
       "\n",
       "A data.frame: 6 × 15\n",
       "\n",
       "| <!--/--> | age &lt;int&gt; | workclass &lt;chr&gt; | fnlwgt &lt;int&gt; | eduaction &lt;chr&gt; | education_num &lt;int&gt; | marital_status &lt;chr&gt; | occupation &lt;chr&gt; | relationship &lt;chr&gt; | race &lt;chr&gt; | sex &lt;chr&gt; | capital_gain &lt;int&gt; | capital_loss &lt;int&gt; | hours_per_week &lt;int&gt; | native_country &lt;chr&gt; | income &lt;dbl&gt; |\n",
       "|---|---|---|---|---|---|---|---|---|---|---|---|---|---|---|---|\n",
       "| 1 | 39 |  State-gov        |  77516 |  Bachelors | 13 |  Never-married      |  Adm-clerical      |  Not-in-family |  White |  Male   | 2174 | 0 | 40 |  United-States | 1 |\n",
       "| 2 | 50 |  Self-emp-not-inc |  83311 |  Bachelors | 13 |  Married-civ-spouse |  Exec-managerial   |  Husband       |  White |  Male   |    0 | 0 | 13 |  United-States | 1 |\n",
       "| 3 | 38 |  Private          | 215646 |  HS-grad   |  9 |  Divorced           |  Handlers-cleaners |  Not-in-family |  White |  Male   |    0 | 0 | 40 |  United-States | 1 |\n",
       "| 4 | 53 |  Private          | 234721 |  11th      |  7 |  Married-civ-spouse |  Handlers-cleaners |  Husband       |  Black |  Male   |    0 | 0 | 40 |  United-States | 1 |\n",
       "| 5 | 28 |  Private          | 338409 |  Bachelors | 13 |  Married-civ-spouse |  Prof-specialty    |  Wife          |  Black |  Female |    0 | 0 | 40 |  Cuba          | 1 |\n",
       "| 6 | 37 |  Private          | 284582 |  Masters   | 14 |  Married-civ-spouse |  Exec-managerial   |  Wife          |  White |  Female |    0 | 0 | 40 |  United-States | 1 |\n",
       "\n"
      ],
      "text/plain": [
       "  age workclass         fnlwgt eduaction  education_num marital_status     \n",
       "1 39   State-gov         77516  Bachelors 13             Never-married     \n",
       "2 50   Self-emp-not-inc  83311  Bachelors 13             Married-civ-spouse\n",
       "3 38   Private          215646  HS-grad    9             Divorced          \n",
       "4 53   Private          234721  11th       7             Married-civ-spouse\n",
       "5 28   Private          338409  Bachelors 13             Married-civ-spouse\n",
       "6 37   Private          284582  Masters   14             Married-civ-spouse\n",
       "  occupation         relationship   race   sex     capital_gain capital_loss\n",
       "1  Adm-clerical       Not-in-family  White  Male   2174         0           \n",
       "2  Exec-managerial    Husband        White  Male      0         0           \n",
       "3  Handlers-cleaners  Not-in-family  White  Male      0         0           \n",
       "4  Handlers-cleaners  Husband        Black  Male      0         0           \n",
       "5  Prof-specialty     Wife           Black  Female    0         0           \n",
       "6  Exec-managerial    Wife           White  Female    0         0           \n",
       "  hours_per_week native_country income\n",
       "1 40              United-States 1     \n",
       "2 13              United-States 1     \n",
       "3 40              United-States 1     \n",
       "4 40              United-States 1     \n",
       "5 40              Cuba          1     \n",
       "6 40              United-States 1     "
      ]
     },
     "metadata": {},
     "output_type": "display_data"
    }
   ],
   "source": [
    "z = c()\n",
    "for (i in 1:nrow(adult)){\n",
    "  for (j in 1:15){\n",
    "    if(adult[i,j]==\" ?\"){\n",
    "      z = append(z,i)\n",
    "      break\n",
    "    }\n",
    "  }\n",
    "}\n",
    "\n",
    "adult = adult[-z, ]\n",
    "\n",
    "mutate(adult, income = recode(income,\" <=50K\"=\"1\",\n",
    "                              \" >50K\"=\"0\")) -> adult # because logistic regression predict 1/0, we transfer here.\n",
    "\n",
    "adult$income <- as.numeric(adult$income)\n",
    "head(adult)"
   ]
  },
  {
   "cell_type": "code",
   "execution_count": 75,
   "metadata": {},
   "outputs": [
    {
     "data": {
      "text/html": [
       "<table class=\"dataframe\">\n",
       "<caption>A data.frame: 27203 × 15</caption>\n",
       "<thead>\n",
       "\t<tr><th></th><th scope=col>age</th><th scope=col>workclass</th><th scope=col>fnlwgt</th><th scope=col>eduaction</th><th scope=col>education_num</th><th scope=col>marital_status</th><th scope=col>occupation</th><th scope=col>relationship</th><th scope=col>race</th><th scope=col>sex</th><th scope=col>capital_gain</th><th scope=col>capital_loss</th><th scope=col>hours_per_week</th><th scope=col>native_country</th><th scope=col>income</th></tr>\n",
       "\t<tr><th></th><th scope=col>&lt;int&gt;</th><th scope=col>&lt;chr&gt;</th><th scope=col>&lt;int&gt;</th><th scope=col>&lt;chr&gt;</th><th scope=col>&lt;int&gt;</th><th scope=col>&lt;chr&gt;</th><th scope=col>&lt;chr&gt;</th><th scope=col>&lt;chr&gt;</th><th scope=col>&lt;chr&gt;</th><th scope=col>&lt;chr&gt;</th><th scope=col>&lt;int&gt;</th><th scope=col>&lt;int&gt;</th><th scope=col>&lt;int&gt;</th><th scope=col>&lt;chr&gt;</th><th scope=col>&lt;dbl&gt;</th></tr>\n",
       "</thead>\n",
       "<tbody>\n",
       "\t<tr><th scope=row>1</th><td>39</td><td> State-gov       </td><td> 77516</td><td> Bachelors   </td><td>13</td><td> Never-married        </td><td> Adm-clerical     </td><td> Not-in-family</td><td> White             </td><td> Male  </td><td>2174</td><td>0</td><td>40</td><td> United-States</td><td>1</td></tr>\n",
       "\t<tr><th scope=row>2</th><td>50</td><td> Self-emp-not-inc</td><td> 83311</td><td> Bachelors   </td><td>13</td><td> Married-civ-spouse   </td><td> Exec-managerial  </td><td> Husband      </td><td> White             </td><td> Male  </td><td>   0</td><td>0</td><td>13</td><td> United-States</td><td>1</td></tr>\n",
       "\t<tr><th scope=row>3</th><td>38</td><td> Private         </td><td>215646</td><td> HS-grad     </td><td> 9</td><td> Divorced             </td><td> Handlers-cleaners</td><td> Not-in-family</td><td> White             </td><td> Male  </td><td>   0</td><td>0</td><td>40</td><td> United-States</td><td>1</td></tr>\n",
       "\t<tr><th scope=row>4</th><td>53</td><td> Private         </td><td>234721</td><td> 11th        </td><td> 7</td><td> Married-civ-spouse   </td><td> Handlers-cleaners</td><td> Husband      </td><td> Black             </td><td> Male  </td><td>   0</td><td>0</td><td>40</td><td> United-States</td><td>1</td></tr>\n",
       "\t<tr><th scope=row>5</th><td>28</td><td> Private         </td><td>338409</td><td> Bachelors   </td><td>13</td><td> Married-civ-spouse   </td><td> Prof-specialty   </td><td> Wife         </td><td> Black             </td><td> Female</td><td>   0</td><td>0</td><td>40</td><td> Cuba         </td><td>1</td></tr>\n",
       "\t<tr><th scope=row>6</th><td>37</td><td> Private         </td><td>284582</td><td> Masters     </td><td>14</td><td> Married-civ-spouse   </td><td> Exec-managerial  </td><td> Wife         </td><td> White             </td><td> Female</td><td>   0</td><td>0</td><td>40</td><td> United-States</td><td>1</td></tr>\n",
       "\t<tr><th scope=row>7</th><td>49</td><td> Private         </td><td>160187</td><td> 9th         </td><td> 5</td><td> Married-spouse-absent</td><td> Other-service    </td><td> Not-in-family</td><td> Black             </td><td> Female</td><td>   0</td><td>0</td><td>16</td><td> Jamaica      </td><td>1</td></tr>\n",
       "\t<tr><th scope=row>8</th><td>52</td><td> Self-emp-not-inc</td><td>209642</td><td> HS-grad     </td><td> 9</td><td> Married-civ-spouse   </td><td> Exec-managerial  </td><td> Husband      </td><td> White             </td><td> Male  </td><td>   0</td><td>0</td><td>45</td><td> United-States</td><td>0</td></tr>\n",
       "\t<tr><th scope=row>11</th><td>37</td><td> Private         </td><td>280464</td><td> Some-college</td><td>10</td><td> Married-civ-spouse   </td><td> Exec-managerial  </td><td> Husband      </td><td> Black             </td><td> Male  </td><td>   0</td><td>0</td><td>80</td><td> United-States</td><td>0</td></tr>\n",
       "\t<tr><th scope=row>12</th><td>30</td><td> State-gov       </td><td>141297</td><td> Bachelors   </td><td>13</td><td> Married-civ-spouse   </td><td> Prof-specialty   </td><td> Husband      </td><td> Asian-Pac-Islander</td><td> Male  </td><td>   0</td><td>0</td><td>40</td><td> India        </td><td>0</td></tr>\n",
       "\t<tr><th scope=row>13</th><td>23</td><td> Private         </td><td>122272</td><td> Bachelors   </td><td>13</td><td> Never-married        </td><td> Adm-clerical     </td><td> Own-child    </td><td> White             </td><td> Female</td><td>   0</td><td>0</td><td>30</td><td> United-States</td><td>1</td></tr>\n",
       "\t<tr><th scope=row>14</th><td>32</td><td> Private         </td><td>205019</td><td> Assoc-acdm  </td><td>12</td><td> Never-married        </td><td> Sales            </td><td> Not-in-family</td><td> Black             </td><td> Male  </td><td>   0</td><td>0</td><td>50</td><td> United-States</td><td>1</td></tr>\n",
       "\t<tr><th scope=row>16</th><td>34</td><td> Private         </td><td>245487</td><td> 7th-8th     </td><td> 4</td><td> Married-civ-spouse   </td><td> Transport-moving </td><td> Husband      </td><td> Amer-Indian-Eskimo</td><td> Male  </td><td>   0</td><td>0</td><td>45</td><td> Mexico       </td><td>1</td></tr>\n",
       "\t<tr><th scope=row>17</th><td>25</td><td> Self-emp-not-inc</td><td>176756</td><td> HS-grad     </td><td> 9</td><td> Never-married        </td><td> Farming-fishing  </td><td> Own-child    </td><td> White             </td><td> Male  </td><td>   0</td><td>0</td><td>35</td><td> United-States</td><td>1</td></tr>\n",
       "\t<tr><th scope=row>18</th><td>32</td><td> Private         </td><td>186824</td><td> HS-grad     </td><td> 9</td><td> Never-married        </td><td> Machine-op-inspct</td><td> Unmarried    </td><td> White             </td><td> Male  </td><td>   0</td><td>0</td><td>40</td><td> United-States</td><td>1</td></tr>\n",
       "\t<tr><th scope=row>19</th><td>38</td><td> Private         </td><td> 28887</td><td> 11th        </td><td> 7</td><td> Married-civ-spouse   </td><td> Sales            </td><td> Husband      </td><td> White             </td><td> Male  </td><td>   0</td><td>0</td><td>50</td><td> United-States</td><td>1</td></tr>\n",
       "\t<tr><th scope=row>20</th><td>43</td><td> Self-emp-not-inc</td><td>292175</td><td> Masters     </td><td>14</td><td> Divorced             </td><td> Exec-managerial  </td><td> Unmarried    </td><td> White             </td><td> Female</td><td>   0</td><td>0</td><td>45</td><td> United-States</td><td>0</td></tr>\n",
       "\t<tr><th scope=row>21</th><td>40</td><td> Private         </td><td>193524</td><td> Doctorate   </td><td>16</td><td> Married-civ-spouse   </td><td> Prof-specialty   </td><td> Husband      </td><td> White             </td><td> Male  </td><td>   0</td><td>0</td><td>60</td><td> United-States</td><td>0</td></tr>\n",
       "\t<tr><th scope=row>22</th><td>54</td><td> Private         </td><td>302146</td><td> HS-grad     </td><td> 9</td><td> Separated            </td><td> Other-service    </td><td> Unmarried    </td><td> Black             </td><td> Female</td><td>   0</td><td>0</td><td>20</td><td> United-States</td><td>1</td></tr>\n",
       "\t<tr><th scope=row>23</th><td>35</td><td> Federal-gov     </td><td> 76845</td><td> 9th         </td><td> 5</td><td> Married-civ-spouse   </td><td> Farming-fishing  </td><td> Husband      </td><td> Black             </td><td> Male  </td><td>   0</td><td>0</td><td>40</td><td> United-States</td><td>1</td></tr>\n",
       "\t<tr><th scope=row>25</th><td>59</td><td> Private         </td><td>109015</td><td> HS-grad     </td><td> 9</td><td> Divorced             </td><td> Tech-support     </td><td> Unmarried    </td><td> White             </td><td> Female</td><td>   0</td><td>0</td><td>40</td><td> United-States</td><td>1</td></tr>\n",
       "\t<tr><th scope=row>26</th><td>56</td><td> Local-gov       </td><td>216851</td><td> Bachelors   </td><td>13</td><td> Married-civ-spouse   </td><td> Tech-support     </td><td> Husband      </td><td> White             </td><td> Male  </td><td>   0</td><td>0</td><td>40</td><td> United-States</td><td>0</td></tr>\n",
       "\t<tr><th scope=row>27</th><td>19</td><td> Private         </td><td>168294</td><td> HS-grad     </td><td> 9</td><td> Never-married        </td><td> Craft-repair     </td><td> Own-child    </td><td> White             </td><td> Male  </td><td>   0</td><td>0</td><td>40</td><td> United-States</td><td>1</td></tr>\n",
       "\t<tr><th scope=row>29</th><td>39</td><td> Private         </td><td>367260</td><td> HS-grad     </td><td> 9</td><td> Divorced             </td><td> Exec-managerial  </td><td> Not-in-family</td><td> White             </td><td> Male  </td><td>   0</td><td>0</td><td>80</td><td> United-States</td><td>1</td></tr>\n",
       "\t<tr><th scope=row>30</th><td>49</td><td> Private         </td><td>193366</td><td> HS-grad     </td><td> 9</td><td> Married-civ-spouse   </td><td> Craft-repair     </td><td> Husband      </td><td> White             </td><td> Male  </td><td>   0</td><td>0</td><td>40</td><td> United-States</td><td>1</td></tr>\n",
       "\t<tr><th scope=row>31</th><td>23</td><td> Local-gov       </td><td>190709</td><td> Assoc-acdm  </td><td>12</td><td> Never-married        </td><td> Protective-serv  </td><td> Not-in-family</td><td> White             </td><td> Male  </td><td>   0</td><td>0</td><td>52</td><td> United-States</td><td>1</td></tr>\n",
       "\t<tr><th scope=row>32</th><td>20</td><td> Private         </td><td>266015</td><td> Some-college</td><td>10</td><td> Never-married        </td><td> Sales            </td><td> Own-child    </td><td> Black             </td><td> Male  </td><td>   0</td><td>0</td><td>44</td><td> United-States</td><td>1</td></tr>\n",
       "\t<tr><th scope=row>34</th><td>30</td><td> Federal-gov     </td><td> 59951</td><td> Some-college</td><td>10</td><td> Married-civ-spouse   </td><td> Adm-clerical     </td><td> Own-child    </td><td> White             </td><td> Male  </td><td>   0</td><td>0</td><td>40</td><td> United-States</td><td>1</td></tr>\n",
       "\t<tr><th scope=row>35</th><td>22</td><td> State-gov       </td><td>311512</td><td> Some-college</td><td>10</td><td> Married-civ-spouse   </td><td> Other-service    </td><td> Husband      </td><td> Black             </td><td> Male  </td><td>   0</td><td>0</td><td>15</td><td> United-States</td><td>1</td></tr>\n",
       "\t<tr><th scope=row>36</th><td>48</td><td> Private         </td><td>242406</td><td> 11th        </td><td> 7</td><td> Never-married        </td><td> Machine-op-inspct</td><td> Unmarried    </td><td> White             </td><td> Male  </td><td>   0</td><td>0</td><td>40</td><td> Puerto-Rico  </td><td>1</td></tr>\n",
       "\t<tr><th scope=row>⋮</th><td>⋮</td><td>⋮</td><td>⋮</td><td>⋮</td><td>⋮</td><td>⋮</td><td>⋮</td><td>⋮</td><td>⋮</td><td>⋮</td><td>⋮</td><td>⋮</td><td>⋮</td><td>⋮</td><td>⋮</td></tr>\n",
       "\t<tr><th scope=row>32524</th><td>30</td><td> Private         </td><td> 77266</td><td> HS-grad     </td><td> 9</td><td> Divorced          </td><td> Transport-moving </td><td> Not-in-family </td><td> White             </td><td> Male  </td><td>   0</td><td>0</td><td>55</td><td> United-States</td><td>1</td></tr>\n",
       "\t<tr><th scope=row>32525</th><td>26</td><td> Private         </td><td>191648</td><td> Assoc-acdm  </td><td>12</td><td> Never-married     </td><td> Machine-op-inspct</td><td> Other-relative</td><td> White             </td><td> Female</td><td>   0</td><td>0</td><td>15</td><td> United-States</td><td>1</td></tr>\n",
       "\t<tr><th scope=row>32527</th><td>32</td><td> Private         </td><td>211349</td><td> 10th        </td><td> 6</td><td> Married-civ-spouse</td><td> Transport-moving </td><td> Husband       </td><td> White             </td><td> Male  </td><td>   0</td><td>0</td><td>40</td><td> United-States</td><td>1</td></tr>\n",
       "\t<tr><th scope=row>32528</th><td>22</td><td> Private         </td><td>203715</td><td> Some-college</td><td>10</td><td> Never-married     </td><td> Adm-clerical     </td><td> Own-child     </td><td> White             </td><td> Male  </td><td>   0</td><td>0</td><td>40</td><td> United-States</td><td>1</td></tr>\n",
       "\t<tr><th scope=row>32529</th><td>31</td><td> Private         </td><td>292592</td><td> HS-grad     </td><td> 9</td><td> Married-civ-spouse</td><td> Machine-op-inspct</td><td> Wife          </td><td> White             </td><td> Female</td><td>   0</td><td>0</td><td>40</td><td> United-States</td><td>1</td></tr>\n",
       "\t<tr><th scope=row>32530</th><td>29</td><td> Private         </td><td>125976</td><td> HS-grad     </td><td> 9</td><td> Separated         </td><td> Sales            </td><td> Unmarried     </td><td> White             </td><td> Female</td><td>   0</td><td>0</td><td>35</td><td> United-States</td><td>1</td></tr>\n",
       "\t<tr><th scope=row>32533</th><td>34</td><td> Private         </td><td>204461</td><td> Doctorate   </td><td>16</td><td> Married-civ-spouse</td><td> Prof-specialty   </td><td> Husband       </td><td> White             </td><td> Male  </td><td>   0</td><td>0</td><td>60</td><td> United-States</td><td>0</td></tr>\n",
       "\t<tr><th scope=row>32534</th><td>54</td><td> Private         </td><td>337992</td><td> Bachelors   </td><td>13</td><td> Married-civ-spouse</td><td> Exec-managerial  </td><td> Husband       </td><td> Asian-Pac-Islander</td><td> Male  </td><td>   0</td><td>0</td><td>50</td><td> Japan        </td><td>0</td></tr>\n",
       "\t<tr><th scope=row>32535</th><td>37</td><td> Private         </td><td>179137</td><td> Some-college</td><td>10</td><td> Divorced          </td><td> Adm-clerical     </td><td> Unmarried     </td><td> White             </td><td> Female</td><td>   0</td><td>0</td><td>39</td><td> United-States</td><td>1</td></tr>\n",
       "\t<tr><th scope=row>32536</th><td>22</td><td> Private         </td><td>325033</td><td> 12th        </td><td> 8</td><td> Never-married     </td><td> Protective-serv  </td><td> Own-child     </td><td> Black             </td><td> Male  </td><td>   0</td><td>0</td><td>35</td><td> United-States</td><td>1</td></tr>\n",
       "\t<tr><th scope=row>32537</th><td>34</td><td> Private         </td><td>160216</td><td> Bachelors   </td><td>13</td><td> Never-married     </td><td> Exec-managerial  </td><td> Not-in-family </td><td> White             </td><td> Female</td><td>   0</td><td>0</td><td>55</td><td> United-States</td><td>0</td></tr>\n",
       "\t<tr><th scope=row>32538</th><td>30</td><td> Private         </td><td>345898</td><td> HS-grad     </td><td> 9</td><td> Never-married     </td><td> Craft-repair     </td><td> Not-in-family </td><td> Black             </td><td> Male  </td><td>   0</td><td>0</td><td>46</td><td> United-States</td><td>1</td></tr>\n",
       "\t<tr><th scope=row>32541</th><td>45</td><td> State-gov       </td><td>252208</td><td> HS-grad     </td><td> 9</td><td> Separated         </td><td> Adm-clerical     </td><td> Own-child     </td><td> White             </td><td> Female</td><td>   0</td><td>0</td><td>40</td><td> United-States</td><td>1</td></tr>\n",
       "\t<tr><th scope=row>32544</th><td>45</td><td> Local-gov       </td><td>119199</td><td> Assoc-acdm  </td><td>12</td><td> Divorced          </td><td> Prof-specialty   </td><td> Unmarried     </td><td> White             </td><td> Female</td><td>   0</td><td>0</td><td>48</td><td> United-States</td><td>1</td></tr>\n",
       "\t<tr><th scope=row>32545</th><td>31</td><td> Private         </td><td>199655</td><td> Masters     </td><td>14</td><td> Divorced          </td><td> Other-service    </td><td> Not-in-family </td><td> Other             </td><td> Female</td><td>   0</td><td>0</td><td>30</td><td> United-States</td><td>1</td></tr>\n",
       "\t<tr><th scope=row>32546</th><td>39</td><td> Local-gov       </td><td>111499</td><td> Assoc-acdm  </td><td>12</td><td> Married-civ-spouse</td><td> Adm-clerical     </td><td> Wife          </td><td> White             </td><td> Female</td><td>   0</td><td>0</td><td>20</td><td> United-States</td><td>0</td></tr>\n",
       "\t<tr><th scope=row>32547</th><td>37</td><td> Private         </td><td>198216</td><td> Assoc-acdm  </td><td>12</td><td> Divorced          </td><td> Tech-support     </td><td> Not-in-family </td><td> White             </td><td> Female</td><td>   0</td><td>0</td><td>40</td><td> United-States</td><td>1</td></tr>\n",
       "\t<tr><th scope=row>32548</th><td>43</td><td> Private         </td><td>260761</td><td> HS-grad     </td><td> 9</td><td> Married-civ-spouse</td><td> Machine-op-inspct</td><td> Husband       </td><td> White             </td><td> Male  </td><td>   0</td><td>0</td><td>40</td><td> Mexico       </td><td>1</td></tr>\n",
       "\t<tr><th scope=row>32549</th><td>65</td><td> Self-emp-not-inc</td><td> 99359</td><td> Prof-school </td><td>15</td><td> Never-married     </td><td> Prof-specialty   </td><td> Not-in-family </td><td> White             </td><td> Male  </td><td>1086</td><td>0</td><td>60</td><td> United-States</td><td>1</td></tr>\n",
       "\t<tr><th scope=row>32550</th><td>43</td><td> State-gov       </td><td>255835</td><td> Some-college</td><td>10</td><td> Divorced          </td><td> Adm-clerical     </td><td> Other-relative</td><td> White             </td><td> Female</td><td>   0</td><td>0</td><td>40</td><td> United-States</td><td>1</td></tr>\n",
       "\t<tr><th scope=row>32551</th><td>43</td><td> Self-emp-not-inc</td><td> 27242</td><td> Some-college</td><td>10</td><td> Married-civ-spouse</td><td> Craft-repair     </td><td> Husband       </td><td> White             </td><td> Male  </td><td>   0</td><td>0</td><td>50</td><td> United-States</td><td>1</td></tr>\n",
       "\t<tr><th scope=row>32552</th><td>32</td><td> Private         </td><td> 34066</td><td> 10th        </td><td> 6</td><td> Married-civ-spouse</td><td> Handlers-cleaners</td><td> Husband       </td><td> Amer-Indian-Eskimo</td><td> Male  </td><td>   0</td><td>0</td><td>40</td><td> United-States</td><td>1</td></tr>\n",
       "\t<tr><th scope=row>32553</th><td>43</td><td> Private         </td><td> 84661</td><td> Assoc-voc   </td><td>11</td><td> Married-civ-spouse</td><td> Sales            </td><td> Husband       </td><td> White             </td><td> Male  </td><td>   0</td><td>0</td><td>45</td><td> United-States</td><td>1</td></tr>\n",
       "\t<tr><th scope=row>32554</th><td>32</td><td> Private         </td><td>116138</td><td> Masters     </td><td>14</td><td> Never-married     </td><td> Tech-support     </td><td> Not-in-family </td><td> Asian-Pac-Islander</td><td> Male  </td><td>   0</td><td>0</td><td>11</td><td> Taiwan       </td><td>1</td></tr>\n",
       "\t<tr><th scope=row>32555</th><td>53</td><td> Private         </td><td>321865</td><td> Masters     </td><td>14</td><td> Married-civ-spouse</td><td> Exec-managerial  </td><td> Husband       </td><td> White             </td><td> Male  </td><td>   0</td><td>0</td><td>40</td><td> United-States</td><td>0</td></tr>\n",
       "\t<tr><th scope=row>32556</th><td>22</td><td> Private         </td><td>310152</td><td> Some-college</td><td>10</td><td> Never-married     </td><td> Protective-serv  </td><td> Not-in-family </td><td> White             </td><td> Male  </td><td>   0</td><td>0</td><td>40</td><td> United-States</td><td>1</td></tr>\n",
       "\t<tr><th scope=row>32557</th><td>27</td><td> Private         </td><td>257302</td><td> Assoc-acdm  </td><td>12</td><td> Married-civ-spouse</td><td> Tech-support     </td><td> Wife          </td><td> White             </td><td> Female</td><td>   0</td><td>0</td><td>38</td><td> United-States</td><td>1</td></tr>\n",
       "\t<tr><th scope=row>32558</th><td>40</td><td> Private         </td><td>154374</td><td> HS-grad     </td><td> 9</td><td> Married-civ-spouse</td><td> Machine-op-inspct</td><td> Husband       </td><td> White             </td><td> Male  </td><td>   0</td><td>0</td><td>40</td><td> United-States</td><td>0</td></tr>\n",
       "\t<tr><th scope=row>32559</th><td>58</td><td> Private         </td><td>151910</td><td> HS-grad     </td><td> 9</td><td> Widowed           </td><td> Adm-clerical     </td><td> Unmarried     </td><td> White             </td><td> Female</td><td>   0</td><td>0</td><td>40</td><td> United-States</td><td>1</td></tr>\n",
       "\t<tr><th scope=row>32560</th><td>22</td><td> Private         </td><td>201490</td><td> HS-grad     </td><td> 9</td><td> Never-married     </td><td> Adm-clerical     </td><td> Own-child     </td><td> White             </td><td> Male  </td><td>   0</td><td>0</td><td>20</td><td> United-States</td><td>1</td></tr>\n",
       "</tbody>\n",
       "</table>\n"
      ],
      "text/latex": [
       "A data.frame: 27203 × 15\n",
       "\\begin{tabular}{r|lllllllllllllll}\n",
       "  & age & workclass & fnlwgt & eduaction & education\\_num & marital\\_status & occupation & relationship & race & sex & capital\\_gain & capital\\_loss & hours\\_per\\_week & native\\_country & income\\\\\n",
       "  & <int> & <chr> & <int> & <chr> & <int> & <chr> & <chr> & <chr> & <chr> & <chr> & <int> & <int> & <int> & <chr> & <dbl>\\\\\n",
       "\\hline\n",
       "\t1 & 39 &  State-gov        &  77516 &  Bachelors    & 13 &  Never-married         &  Adm-clerical      &  Not-in-family &  White              &  Male   & 2174 & 0 & 40 &  United-States & 1\\\\\n",
       "\t2 & 50 &  Self-emp-not-inc &  83311 &  Bachelors    & 13 &  Married-civ-spouse    &  Exec-managerial   &  Husband       &  White              &  Male   &    0 & 0 & 13 &  United-States & 1\\\\\n",
       "\t3 & 38 &  Private          & 215646 &  HS-grad      &  9 &  Divorced              &  Handlers-cleaners &  Not-in-family &  White              &  Male   &    0 & 0 & 40 &  United-States & 1\\\\\n",
       "\t4 & 53 &  Private          & 234721 &  11th         &  7 &  Married-civ-spouse    &  Handlers-cleaners &  Husband       &  Black              &  Male   &    0 & 0 & 40 &  United-States & 1\\\\\n",
       "\t5 & 28 &  Private          & 338409 &  Bachelors    & 13 &  Married-civ-spouse    &  Prof-specialty    &  Wife          &  Black              &  Female &    0 & 0 & 40 &  Cuba          & 1\\\\\n",
       "\t6 & 37 &  Private          & 284582 &  Masters      & 14 &  Married-civ-spouse    &  Exec-managerial   &  Wife          &  White              &  Female &    0 & 0 & 40 &  United-States & 1\\\\\n",
       "\t7 & 49 &  Private          & 160187 &  9th          &  5 &  Married-spouse-absent &  Other-service     &  Not-in-family &  Black              &  Female &    0 & 0 & 16 &  Jamaica       & 1\\\\\n",
       "\t8 & 52 &  Self-emp-not-inc & 209642 &  HS-grad      &  9 &  Married-civ-spouse    &  Exec-managerial   &  Husband       &  White              &  Male   &    0 & 0 & 45 &  United-States & 0\\\\\n",
       "\t11 & 37 &  Private          & 280464 &  Some-college & 10 &  Married-civ-spouse    &  Exec-managerial   &  Husband       &  Black              &  Male   &    0 & 0 & 80 &  United-States & 0\\\\\n",
       "\t12 & 30 &  State-gov        & 141297 &  Bachelors    & 13 &  Married-civ-spouse    &  Prof-specialty    &  Husband       &  Asian-Pac-Islander &  Male   &    0 & 0 & 40 &  India         & 0\\\\\n",
       "\t13 & 23 &  Private          & 122272 &  Bachelors    & 13 &  Never-married         &  Adm-clerical      &  Own-child     &  White              &  Female &    0 & 0 & 30 &  United-States & 1\\\\\n",
       "\t14 & 32 &  Private          & 205019 &  Assoc-acdm   & 12 &  Never-married         &  Sales             &  Not-in-family &  Black              &  Male   &    0 & 0 & 50 &  United-States & 1\\\\\n",
       "\t16 & 34 &  Private          & 245487 &  7th-8th      &  4 &  Married-civ-spouse    &  Transport-moving  &  Husband       &  Amer-Indian-Eskimo &  Male   &    0 & 0 & 45 &  Mexico        & 1\\\\\n",
       "\t17 & 25 &  Self-emp-not-inc & 176756 &  HS-grad      &  9 &  Never-married         &  Farming-fishing   &  Own-child     &  White              &  Male   &    0 & 0 & 35 &  United-States & 1\\\\\n",
       "\t18 & 32 &  Private          & 186824 &  HS-grad      &  9 &  Never-married         &  Machine-op-inspct &  Unmarried     &  White              &  Male   &    0 & 0 & 40 &  United-States & 1\\\\\n",
       "\t19 & 38 &  Private          &  28887 &  11th         &  7 &  Married-civ-spouse    &  Sales             &  Husband       &  White              &  Male   &    0 & 0 & 50 &  United-States & 1\\\\\n",
       "\t20 & 43 &  Self-emp-not-inc & 292175 &  Masters      & 14 &  Divorced              &  Exec-managerial   &  Unmarried     &  White              &  Female &    0 & 0 & 45 &  United-States & 0\\\\\n",
       "\t21 & 40 &  Private          & 193524 &  Doctorate    & 16 &  Married-civ-spouse    &  Prof-specialty    &  Husband       &  White              &  Male   &    0 & 0 & 60 &  United-States & 0\\\\\n",
       "\t22 & 54 &  Private          & 302146 &  HS-grad      &  9 &  Separated             &  Other-service     &  Unmarried     &  Black              &  Female &    0 & 0 & 20 &  United-States & 1\\\\\n",
       "\t23 & 35 &  Federal-gov      &  76845 &  9th          &  5 &  Married-civ-spouse    &  Farming-fishing   &  Husband       &  Black              &  Male   &    0 & 0 & 40 &  United-States & 1\\\\\n",
       "\t25 & 59 &  Private          & 109015 &  HS-grad      &  9 &  Divorced              &  Tech-support      &  Unmarried     &  White              &  Female &    0 & 0 & 40 &  United-States & 1\\\\\n",
       "\t26 & 56 &  Local-gov        & 216851 &  Bachelors    & 13 &  Married-civ-spouse    &  Tech-support      &  Husband       &  White              &  Male   &    0 & 0 & 40 &  United-States & 0\\\\\n",
       "\t27 & 19 &  Private          & 168294 &  HS-grad      &  9 &  Never-married         &  Craft-repair      &  Own-child     &  White              &  Male   &    0 & 0 & 40 &  United-States & 1\\\\\n",
       "\t29 & 39 &  Private          & 367260 &  HS-grad      &  9 &  Divorced              &  Exec-managerial   &  Not-in-family &  White              &  Male   &    0 & 0 & 80 &  United-States & 1\\\\\n",
       "\t30 & 49 &  Private          & 193366 &  HS-grad      &  9 &  Married-civ-spouse    &  Craft-repair      &  Husband       &  White              &  Male   &    0 & 0 & 40 &  United-States & 1\\\\\n",
       "\t31 & 23 &  Local-gov        & 190709 &  Assoc-acdm   & 12 &  Never-married         &  Protective-serv   &  Not-in-family &  White              &  Male   &    0 & 0 & 52 &  United-States & 1\\\\\n",
       "\t32 & 20 &  Private          & 266015 &  Some-college & 10 &  Never-married         &  Sales             &  Own-child     &  Black              &  Male   &    0 & 0 & 44 &  United-States & 1\\\\\n",
       "\t34 & 30 &  Federal-gov      &  59951 &  Some-college & 10 &  Married-civ-spouse    &  Adm-clerical      &  Own-child     &  White              &  Male   &    0 & 0 & 40 &  United-States & 1\\\\\n",
       "\t35 & 22 &  State-gov        & 311512 &  Some-college & 10 &  Married-civ-spouse    &  Other-service     &  Husband       &  Black              &  Male   &    0 & 0 & 15 &  United-States & 1\\\\\n",
       "\t36 & 48 &  Private          & 242406 &  11th         &  7 &  Never-married         &  Machine-op-inspct &  Unmarried     &  White              &  Male   &    0 & 0 & 40 &  Puerto-Rico   & 1\\\\\n",
       "\t⋮ & ⋮ & ⋮ & ⋮ & ⋮ & ⋮ & ⋮ & ⋮ & ⋮ & ⋮ & ⋮ & ⋮ & ⋮ & ⋮ & ⋮ & ⋮\\\\\n",
       "\t32524 & 30 &  Private          &  77266 &  HS-grad      &  9 &  Divorced           &  Transport-moving  &  Not-in-family  &  White              &  Male   &    0 & 0 & 55 &  United-States & 1\\\\\n",
       "\t32525 & 26 &  Private          & 191648 &  Assoc-acdm   & 12 &  Never-married      &  Machine-op-inspct &  Other-relative &  White              &  Female &    0 & 0 & 15 &  United-States & 1\\\\\n",
       "\t32527 & 32 &  Private          & 211349 &  10th         &  6 &  Married-civ-spouse &  Transport-moving  &  Husband        &  White              &  Male   &    0 & 0 & 40 &  United-States & 1\\\\\n",
       "\t32528 & 22 &  Private          & 203715 &  Some-college & 10 &  Never-married      &  Adm-clerical      &  Own-child      &  White              &  Male   &    0 & 0 & 40 &  United-States & 1\\\\\n",
       "\t32529 & 31 &  Private          & 292592 &  HS-grad      &  9 &  Married-civ-spouse &  Machine-op-inspct &  Wife           &  White              &  Female &    0 & 0 & 40 &  United-States & 1\\\\\n",
       "\t32530 & 29 &  Private          & 125976 &  HS-grad      &  9 &  Separated          &  Sales             &  Unmarried      &  White              &  Female &    0 & 0 & 35 &  United-States & 1\\\\\n",
       "\t32533 & 34 &  Private          & 204461 &  Doctorate    & 16 &  Married-civ-spouse &  Prof-specialty    &  Husband        &  White              &  Male   &    0 & 0 & 60 &  United-States & 0\\\\\n",
       "\t32534 & 54 &  Private          & 337992 &  Bachelors    & 13 &  Married-civ-spouse &  Exec-managerial   &  Husband        &  Asian-Pac-Islander &  Male   &    0 & 0 & 50 &  Japan         & 0\\\\\n",
       "\t32535 & 37 &  Private          & 179137 &  Some-college & 10 &  Divorced           &  Adm-clerical      &  Unmarried      &  White              &  Female &    0 & 0 & 39 &  United-States & 1\\\\\n",
       "\t32536 & 22 &  Private          & 325033 &  12th         &  8 &  Never-married      &  Protective-serv   &  Own-child      &  Black              &  Male   &    0 & 0 & 35 &  United-States & 1\\\\\n",
       "\t32537 & 34 &  Private          & 160216 &  Bachelors    & 13 &  Never-married      &  Exec-managerial   &  Not-in-family  &  White              &  Female &    0 & 0 & 55 &  United-States & 0\\\\\n",
       "\t32538 & 30 &  Private          & 345898 &  HS-grad      &  9 &  Never-married      &  Craft-repair      &  Not-in-family  &  Black              &  Male   &    0 & 0 & 46 &  United-States & 1\\\\\n",
       "\t32541 & 45 &  State-gov        & 252208 &  HS-grad      &  9 &  Separated          &  Adm-clerical      &  Own-child      &  White              &  Female &    0 & 0 & 40 &  United-States & 1\\\\\n",
       "\t32544 & 45 &  Local-gov        & 119199 &  Assoc-acdm   & 12 &  Divorced           &  Prof-specialty    &  Unmarried      &  White              &  Female &    0 & 0 & 48 &  United-States & 1\\\\\n",
       "\t32545 & 31 &  Private          & 199655 &  Masters      & 14 &  Divorced           &  Other-service     &  Not-in-family  &  Other              &  Female &    0 & 0 & 30 &  United-States & 1\\\\\n",
       "\t32546 & 39 &  Local-gov        & 111499 &  Assoc-acdm   & 12 &  Married-civ-spouse &  Adm-clerical      &  Wife           &  White              &  Female &    0 & 0 & 20 &  United-States & 0\\\\\n",
       "\t32547 & 37 &  Private          & 198216 &  Assoc-acdm   & 12 &  Divorced           &  Tech-support      &  Not-in-family  &  White              &  Female &    0 & 0 & 40 &  United-States & 1\\\\\n",
       "\t32548 & 43 &  Private          & 260761 &  HS-grad      &  9 &  Married-civ-spouse &  Machine-op-inspct &  Husband        &  White              &  Male   &    0 & 0 & 40 &  Mexico        & 1\\\\\n",
       "\t32549 & 65 &  Self-emp-not-inc &  99359 &  Prof-school  & 15 &  Never-married      &  Prof-specialty    &  Not-in-family  &  White              &  Male   & 1086 & 0 & 60 &  United-States & 1\\\\\n",
       "\t32550 & 43 &  State-gov        & 255835 &  Some-college & 10 &  Divorced           &  Adm-clerical      &  Other-relative &  White              &  Female &    0 & 0 & 40 &  United-States & 1\\\\\n",
       "\t32551 & 43 &  Self-emp-not-inc &  27242 &  Some-college & 10 &  Married-civ-spouse &  Craft-repair      &  Husband        &  White              &  Male   &    0 & 0 & 50 &  United-States & 1\\\\\n",
       "\t32552 & 32 &  Private          &  34066 &  10th         &  6 &  Married-civ-spouse &  Handlers-cleaners &  Husband        &  Amer-Indian-Eskimo &  Male   &    0 & 0 & 40 &  United-States & 1\\\\\n",
       "\t32553 & 43 &  Private          &  84661 &  Assoc-voc    & 11 &  Married-civ-spouse &  Sales             &  Husband        &  White              &  Male   &    0 & 0 & 45 &  United-States & 1\\\\\n",
       "\t32554 & 32 &  Private          & 116138 &  Masters      & 14 &  Never-married      &  Tech-support      &  Not-in-family  &  Asian-Pac-Islander &  Male   &    0 & 0 & 11 &  Taiwan        & 1\\\\\n",
       "\t32555 & 53 &  Private          & 321865 &  Masters      & 14 &  Married-civ-spouse &  Exec-managerial   &  Husband        &  White              &  Male   &    0 & 0 & 40 &  United-States & 0\\\\\n",
       "\t32556 & 22 &  Private          & 310152 &  Some-college & 10 &  Never-married      &  Protective-serv   &  Not-in-family  &  White              &  Male   &    0 & 0 & 40 &  United-States & 1\\\\\n",
       "\t32557 & 27 &  Private          & 257302 &  Assoc-acdm   & 12 &  Married-civ-spouse &  Tech-support      &  Wife           &  White              &  Female &    0 & 0 & 38 &  United-States & 1\\\\\n",
       "\t32558 & 40 &  Private          & 154374 &  HS-grad      &  9 &  Married-civ-spouse &  Machine-op-inspct &  Husband        &  White              &  Male   &    0 & 0 & 40 &  United-States & 0\\\\\n",
       "\t32559 & 58 &  Private          & 151910 &  HS-grad      &  9 &  Widowed            &  Adm-clerical      &  Unmarried      &  White              &  Female &    0 & 0 & 40 &  United-States & 1\\\\\n",
       "\t32560 & 22 &  Private          & 201490 &  HS-grad      &  9 &  Never-married      &  Adm-clerical      &  Own-child      &  White              &  Male   &    0 & 0 & 20 &  United-States & 1\\\\\n",
       "\\end{tabular}\n"
      ],
      "text/markdown": [
       "\n",
       "A data.frame: 27203 × 15\n",
       "\n",
       "| <!--/--> | age &lt;int&gt; | workclass &lt;chr&gt; | fnlwgt &lt;int&gt; | eduaction &lt;chr&gt; | education_num &lt;int&gt; | marital_status &lt;chr&gt; | occupation &lt;chr&gt; | relationship &lt;chr&gt; | race &lt;chr&gt; | sex &lt;chr&gt; | capital_gain &lt;int&gt; | capital_loss &lt;int&gt; | hours_per_week &lt;int&gt; | native_country &lt;chr&gt; | income &lt;dbl&gt; |\n",
       "|---|---|---|---|---|---|---|---|---|---|---|---|---|---|---|---|\n",
       "| 1 | 39 |  State-gov        |  77516 |  Bachelors    | 13 |  Never-married         |  Adm-clerical      |  Not-in-family |  White              |  Male   | 2174 | 0 | 40 |  United-States | 1 |\n",
       "| 2 | 50 |  Self-emp-not-inc |  83311 |  Bachelors    | 13 |  Married-civ-spouse    |  Exec-managerial   |  Husband       |  White              |  Male   |    0 | 0 | 13 |  United-States | 1 |\n",
       "| 3 | 38 |  Private          | 215646 |  HS-grad      |  9 |  Divorced              |  Handlers-cleaners |  Not-in-family |  White              |  Male   |    0 | 0 | 40 |  United-States | 1 |\n",
       "| 4 | 53 |  Private          | 234721 |  11th         |  7 |  Married-civ-spouse    |  Handlers-cleaners |  Husband       |  Black              |  Male   |    0 | 0 | 40 |  United-States | 1 |\n",
       "| 5 | 28 |  Private          | 338409 |  Bachelors    | 13 |  Married-civ-spouse    |  Prof-specialty    |  Wife          |  Black              |  Female |    0 | 0 | 40 |  Cuba          | 1 |\n",
       "| 6 | 37 |  Private          | 284582 |  Masters      | 14 |  Married-civ-spouse    |  Exec-managerial   |  Wife          |  White              |  Female |    0 | 0 | 40 |  United-States | 1 |\n",
       "| 7 | 49 |  Private          | 160187 |  9th          |  5 |  Married-spouse-absent |  Other-service     |  Not-in-family |  Black              |  Female |    0 | 0 | 16 |  Jamaica       | 1 |\n",
       "| 8 | 52 |  Self-emp-not-inc | 209642 |  HS-grad      |  9 |  Married-civ-spouse    |  Exec-managerial   |  Husband       |  White              |  Male   |    0 | 0 | 45 |  United-States | 0 |\n",
       "| 11 | 37 |  Private          | 280464 |  Some-college | 10 |  Married-civ-spouse    |  Exec-managerial   |  Husband       |  Black              |  Male   |    0 | 0 | 80 |  United-States | 0 |\n",
       "| 12 | 30 |  State-gov        | 141297 |  Bachelors    | 13 |  Married-civ-spouse    |  Prof-specialty    |  Husband       |  Asian-Pac-Islander |  Male   |    0 | 0 | 40 |  India         | 0 |\n",
       "| 13 | 23 |  Private          | 122272 |  Bachelors    | 13 |  Never-married         |  Adm-clerical      |  Own-child     |  White              |  Female |    0 | 0 | 30 |  United-States | 1 |\n",
       "| 14 | 32 |  Private          | 205019 |  Assoc-acdm   | 12 |  Never-married         |  Sales             |  Not-in-family |  Black              |  Male   |    0 | 0 | 50 |  United-States | 1 |\n",
       "| 16 | 34 |  Private          | 245487 |  7th-8th      |  4 |  Married-civ-spouse    |  Transport-moving  |  Husband       |  Amer-Indian-Eskimo |  Male   |    0 | 0 | 45 |  Mexico        | 1 |\n",
       "| 17 | 25 |  Self-emp-not-inc | 176756 |  HS-grad      |  9 |  Never-married         |  Farming-fishing   |  Own-child     |  White              |  Male   |    0 | 0 | 35 |  United-States | 1 |\n",
       "| 18 | 32 |  Private          | 186824 |  HS-grad      |  9 |  Never-married         |  Machine-op-inspct |  Unmarried     |  White              |  Male   |    0 | 0 | 40 |  United-States | 1 |\n",
       "| 19 | 38 |  Private          |  28887 |  11th         |  7 |  Married-civ-spouse    |  Sales             |  Husband       |  White              |  Male   |    0 | 0 | 50 |  United-States | 1 |\n",
       "| 20 | 43 |  Self-emp-not-inc | 292175 |  Masters      | 14 |  Divorced              |  Exec-managerial   |  Unmarried     |  White              |  Female |    0 | 0 | 45 |  United-States | 0 |\n",
       "| 21 | 40 |  Private          | 193524 |  Doctorate    | 16 |  Married-civ-spouse    |  Prof-specialty    |  Husband       |  White              |  Male   |    0 | 0 | 60 |  United-States | 0 |\n",
       "| 22 | 54 |  Private          | 302146 |  HS-grad      |  9 |  Separated             |  Other-service     |  Unmarried     |  Black              |  Female |    0 | 0 | 20 |  United-States | 1 |\n",
       "| 23 | 35 |  Federal-gov      |  76845 |  9th          |  5 |  Married-civ-spouse    |  Farming-fishing   |  Husband       |  Black              |  Male   |    0 | 0 | 40 |  United-States | 1 |\n",
       "| 25 | 59 |  Private          | 109015 |  HS-grad      |  9 |  Divorced              |  Tech-support      |  Unmarried     |  White              |  Female |    0 | 0 | 40 |  United-States | 1 |\n",
       "| 26 | 56 |  Local-gov        | 216851 |  Bachelors    | 13 |  Married-civ-spouse    |  Tech-support      |  Husband       |  White              |  Male   |    0 | 0 | 40 |  United-States | 0 |\n",
       "| 27 | 19 |  Private          | 168294 |  HS-grad      |  9 |  Never-married         |  Craft-repair      |  Own-child     |  White              |  Male   |    0 | 0 | 40 |  United-States | 1 |\n",
       "| 29 | 39 |  Private          | 367260 |  HS-grad      |  9 |  Divorced              |  Exec-managerial   |  Not-in-family |  White              |  Male   |    0 | 0 | 80 |  United-States | 1 |\n",
       "| 30 | 49 |  Private          | 193366 |  HS-grad      |  9 |  Married-civ-spouse    |  Craft-repair      |  Husband       |  White              |  Male   |    0 | 0 | 40 |  United-States | 1 |\n",
       "| 31 | 23 |  Local-gov        | 190709 |  Assoc-acdm   | 12 |  Never-married         |  Protective-serv   |  Not-in-family |  White              |  Male   |    0 | 0 | 52 |  United-States | 1 |\n",
       "| 32 | 20 |  Private          | 266015 |  Some-college | 10 |  Never-married         |  Sales             |  Own-child     |  Black              |  Male   |    0 | 0 | 44 |  United-States | 1 |\n",
       "| 34 | 30 |  Federal-gov      |  59951 |  Some-college | 10 |  Married-civ-spouse    |  Adm-clerical      |  Own-child     |  White              |  Male   |    0 | 0 | 40 |  United-States | 1 |\n",
       "| 35 | 22 |  State-gov        | 311512 |  Some-college | 10 |  Married-civ-spouse    |  Other-service     |  Husband       |  Black              |  Male   |    0 | 0 | 15 |  United-States | 1 |\n",
       "| 36 | 48 |  Private          | 242406 |  11th         |  7 |  Never-married         |  Machine-op-inspct |  Unmarried     |  White              |  Male   |    0 | 0 | 40 |  Puerto-Rico   | 1 |\n",
       "| ⋮ | ⋮ | ⋮ | ⋮ | ⋮ | ⋮ | ⋮ | ⋮ | ⋮ | ⋮ | ⋮ | ⋮ | ⋮ | ⋮ | ⋮ | ⋮ |\n",
       "| 32524 | 30 |  Private          |  77266 |  HS-grad      |  9 |  Divorced           |  Transport-moving  |  Not-in-family  |  White              |  Male   |    0 | 0 | 55 |  United-States | 1 |\n",
       "| 32525 | 26 |  Private          | 191648 |  Assoc-acdm   | 12 |  Never-married      |  Machine-op-inspct |  Other-relative |  White              |  Female |    0 | 0 | 15 |  United-States | 1 |\n",
       "| 32527 | 32 |  Private          | 211349 |  10th         |  6 |  Married-civ-spouse |  Transport-moving  |  Husband        |  White              |  Male   |    0 | 0 | 40 |  United-States | 1 |\n",
       "| 32528 | 22 |  Private          | 203715 |  Some-college | 10 |  Never-married      |  Adm-clerical      |  Own-child      |  White              |  Male   |    0 | 0 | 40 |  United-States | 1 |\n",
       "| 32529 | 31 |  Private          | 292592 |  HS-grad      |  9 |  Married-civ-spouse |  Machine-op-inspct |  Wife           |  White              |  Female |    0 | 0 | 40 |  United-States | 1 |\n",
       "| 32530 | 29 |  Private          | 125976 |  HS-grad      |  9 |  Separated          |  Sales             |  Unmarried      |  White              |  Female |    0 | 0 | 35 |  United-States | 1 |\n",
       "| 32533 | 34 |  Private          | 204461 |  Doctorate    | 16 |  Married-civ-spouse |  Prof-specialty    |  Husband        |  White              |  Male   |    0 | 0 | 60 |  United-States | 0 |\n",
       "| 32534 | 54 |  Private          | 337992 |  Bachelors    | 13 |  Married-civ-spouse |  Exec-managerial   |  Husband        |  Asian-Pac-Islander |  Male   |    0 | 0 | 50 |  Japan         | 0 |\n",
       "| 32535 | 37 |  Private          | 179137 |  Some-college | 10 |  Divorced           |  Adm-clerical      |  Unmarried      |  White              |  Female |    0 | 0 | 39 |  United-States | 1 |\n",
       "| 32536 | 22 |  Private          | 325033 |  12th         |  8 |  Never-married      |  Protective-serv   |  Own-child      |  Black              |  Male   |    0 | 0 | 35 |  United-States | 1 |\n",
       "| 32537 | 34 |  Private          | 160216 |  Bachelors    | 13 |  Never-married      |  Exec-managerial   |  Not-in-family  |  White              |  Female |    0 | 0 | 55 |  United-States | 0 |\n",
       "| 32538 | 30 |  Private          | 345898 |  HS-grad      |  9 |  Never-married      |  Craft-repair      |  Not-in-family  |  Black              |  Male   |    0 | 0 | 46 |  United-States | 1 |\n",
       "| 32541 | 45 |  State-gov        | 252208 |  HS-grad      |  9 |  Separated          |  Adm-clerical      |  Own-child      |  White              |  Female |    0 | 0 | 40 |  United-States | 1 |\n",
       "| 32544 | 45 |  Local-gov        | 119199 |  Assoc-acdm   | 12 |  Divorced           |  Prof-specialty    |  Unmarried      |  White              |  Female |    0 | 0 | 48 |  United-States | 1 |\n",
       "| 32545 | 31 |  Private          | 199655 |  Masters      | 14 |  Divorced           |  Other-service     |  Not-in-family  |  Other              |  Female |    0 | 0 | 30 |  United-States | 1 |\n",
       "| 32546 | 39 |  Local-gov        | 111499 |  Assoc-acdm   | 12 |  Married-civ-spouse |  Adm-clerical      |  Wife           |  White              |  Female |    0 | 0 | 20 |  United-States | 0 |\n",
       "| 32547 | 37 |  Private          | 198216 |  Assoc-acdm   | 12 |  Divorced           |  Tech-support      |  Not-in-family  |  White              |  Female |    0 | 0 | 40 |  United-States | 1 |\n",
       "| 32548 | 43 |  Private          | 260761 |  HS-grad      |  9 |  Married-civ-spouse |  Machine-op-inspct |  Husband        |  White              |  Male   |    0 | 0 | 40 |  Mexico        | 1 |\n",
       "| 32549 | 65 |  Self-emp-not-inc |  99359 |  Prof-school  | 15 |  Never-married      |  Prof-specialty    |  Not-in-family  |  White              |  Male   | 1086 | 0 | 60 |  United-States | 1 |\n",
       "| 32550 | 43 |  State-gov        | 255835 |  Some-college | 10 |  Divorced           |  Adm-clerical      |  Other-relative |  White              |  Female |    0 | 0 | 40 |  United-States | 1 |\n",
       "| 32551 | 43 |  Self-emp-not-inc |  27242 |  Some-college | 10 |  Married-civ-spouse |  Craft-repair      |  Husband        |  White              |  Male   |    0 | 0 | 50 |  United-States | 1 |\n",
       "| 32552 | 32 |  Private          |  34066 |  10th         |  6 |  Married-civ-spouse |  Handlers-cleaners |  Husband        |  Amer-Indian-Eskimo |  Male   |    0 | 0 | 40 |  United-States | 1 |\n",
       "| 32553 | 43 |  Private          |  84661 |  Assoc-voc    | 11 |  Married-civ-spouse |  Sales             |  Husband        |  White              |  Male   |    0 | 0 | 45 |  United-States | 1 |\n",
       "| 32554 | 32 |  Private          | 116138 |  Masters      | 14 |  Never-married      |  Tech-support      |  Not-in-family  |  Asian-Pac-Islander |  Male   |    0 | 0 | 11 |  Taiwan        | 1 |\n",
       "| 32555 | 53 |  Private          | 321865 |  Masters      | 14 |  Married-civ-spouse |  Exec-managerial   |  Husband        |  White              |  Male   |    0 | 0 | 40 |  United-States | 0 |\n",
       "| 32556 | 22 |  Private          | 310152 |  Some-college | 10 |  Never-married      |  Protective-serv   |  Not-in-family  |  White              |  Male   |    0 | 0 | 40 |  United-States | 1 |\n",
       "| 32557 | 27 |  Private          | 257302 |  Assoc-acdm   | 12 |  Married-civ-spouse |  Tech-support      |  Wife           |  White              |  Female |    0 | 0 | 38 |  United-States | 1 |\n",
       "| 32558 | 40 |  Private          | 154374 |  HS-grad      |  9 |  Married-civ-spouse |  Machine-op-inspct |  Husband        |  White              |  Male   |    0 | 0 | 40 |  United-States | 0 |\n",
       "| 32559 | 58 |  Private          | 151910 |  HS-grad      |  9 |  Widowed            |  Adm-clerical      |  Unmarried      |  White              |  Female |    0 | 0 | 40 |  United-States | 1 |\n",
       "| 32560 | 22 |  Private          | 201490 |  HS-grad      |  9 |  Never-married      |  Adm-clerical      |  Own-child      |  White              |  Male   |    0 | 0 | 20 |  United-States | 1 |\n",
       "\n"
      ],
      "text/plain": [
       "      age workclass         fnlwgt eduaction     education_num\n",
       "1     39   State-gov         77516  Bachelors    13           \n",
       "2     50   Self-emp-not-inc  83311  Bachelors    13           \n",
       "3     38   Private          215646  HS-grad       9           \n",
       "4     53   Private          234721  11th          7           \n",
       "5     28   Private          338409  Bachelors    13           \n",
       "6     37   Private          284582  Masters      14           \n",
       "7     49   Private          160187  9th           5           \n",
       "8     52   Self-emp-not-inc 209642  HS-grad       9           \n",
       "11    37   Private          280464  Some-college 10           \n",
       "12    30   State-gov        141297  Bachelors    13           \n",
       "13    23   Private          122272  Bachelors    13           \n",
       "14    32   Private          205019  Assoc-acdm   12           \n",
       "16    34   Private          245487  7th-8th       4           \n",
       "17    25   Self-emp-not-inc 176756  HS-grad       9           \n",
       "18    32   Private          186824  HS-grad       9           \n",
       "19    38   Private           28887  11th          7           \n",
       "20    43   Self-emp-not-inc 292175  Masters      14           \n",
       "21    40   Private          193524  Doctorate    16           \n",
       "22    54   Private          302146  HS-grad       9           \n",
       "23    35   Federal-gov       76845  9th           5           \n",
       "25    59   Private          109015  HS-grad       9           \n",
       "26    56   Local-gov        216851  Bachelors    13           \n",
       "27    19   Private          168294  HS-grad       9           \n",
       "29    39   Private          367260  HS-grad       9           \n",
       "30    49   Private          193366  HS-grad       9           \n",
       "31    23   Local-gov        190709  Assoc-acdm   12           \n",
       "32    20   Private          266015  Some-college 10           \n",
       "34    30   Federal-gov       59951  Some-college 10           \n",
       "35    22   State-gov        311512  Some-college 10           \n",
       "36    48   Private          242406  11th          7           \n",
       "<U+22EE>     <U+22EE> <U+22EE>          <U+22EE> <U+22EE>      <U+22EE>     \n",
       "32524 30   Private           77266  HS-grad       9           \n",
       "32525 26   Private          191648  Assoc-acdm   12           \n",
       "32527 32   Private          211349  10th          6           \n",
       "32528 22   Private          203715  Some-college 10           \n",
       "32529 31   Private          292592  HS-grad       9           \n",
       "32530 29   Private          125976  HS-grad       9           \n",
       "32533 34   Private          204461  Doctorate    16           \n",
       "32534 54   Private          337992  Bachelors    13           \n",
       "32535 37   Private          179137  Some-college 10           \n",
       "32536 22   Private          325033  12th          8           \n",
       "32537 34   Private          160216  Bachelors    13           \n",
       "32538 30   Private          345898  HS-grad       9           \n",
       "32541 45   State-gov        252208  HS-grad       9           \n",
       "32544 45   Local-gov        119199  Assoc-acdm   12           \n",
       "32545 31   Private          199655  Masters      14           \n",
       "32546 39   Local-gov        111499  Assoc-acdm   12           \n",
       "32547 37   Private          198216  Assoc-acdm   12           \n",
       "32548 43   Private          260761  HS-grad       9           \n",
       "32549 65   Self-emp-not-inc  99359  Prof-school  15           \n",
       "32550 43   State-gov        255835  Some-college 10           \n",
       "32551 43   Self-emp-not-inc  27242  Some-college 10           \n",
       "32552 32   Private           34066  10th          6           \n",
       "32553 43   Private           84661  Assoc-voc    11           \n",
       "32554 32   Private          116138  Masters      14           \n",
       "32555 53   Private          321865  Masters      14           \n",
       "32556 22   Private          310152  Some-college 10           \n",
       "32557 27   Private          257302  Assoc-acdm   12           \n",
       "32558 40   Private          154374  HS-grad       9           \n",
       "32559 58   Private          151910  HS-grad       9           \n",
       "32560 22   Private          201490  HS-grad       9           \n",
       "      marital_status         occupation         relationship   \n",
       "1      Never-married          Adm-clerical       Not-in-family \n",
       "2      Married-civ-spouse     Exec-managerial    Husband       \n",
       "3      Divorced               Handlers-cleaners  Not-in-family \n",
       "4      Married-civ-spouse     Handlers-cleaners  Husband       \n",
       "5      Married-civ-spouse     Prof-specialty     Wife          \n",
       "6      Married-civ-spouse     Exec-managerial    Wife          \n",
       "7      Married-spouse-absent  Other-service      Not-in-family \n",
       "8      Married-civ-spouse     Exec-managerial    Husband       \n",
       "11     Married-civ-spouse     Exec-managerial    Husband       \n",
       "12     Married-civ-spouse     Prof-specialty     Husband       \n",
       "13     Never-married          Adm-clerical       Own-child     \n",
       "14     Never-married          Sales              Not-in-family \n",
       "16     Married-civ-spouse     Transport-moving   Husband       \n",
       "17     Never-married          Farming-fishing    Own-child     \n",
       "18     Never-married          Machine-op-inspct  Unmarried     \n",
       "19     Married-civ-spouse     Sales              Husband       \n",
       "20     Divorced               Exec-managerial    Unmarried     \n",
       "21     Married-civ-spouse     Prof-specialty     Husband       \n",
       "22     Separated              Other-service      Unmarried     \n",
       "23     Married-civ-spouse     Farming-fishing    Husband       \n",
       "25     Divorced               Tech-support       Unmarried     \n",
       "26     Married-civ-spouse     Tech-support       Husband       \n",
       "27     Never-married          Craft-repair       Own-child     \n",
       "29     Divorced               Exec-managerial    Not-in-family \n",
       "30     Married-civ-spouse     Craft-repair       Husband       \n",
       "31     Never-married          Protective-serv    Not-in-family \n",
       "32     Never-married          Sales              Own-child     \n",
       "34     Married-civ-spouse     Adm-clerical       Own-child     \n",
       "35     Married-civ-spouse     Other-service      Husband       \n",
       "36     Never-married          Machine-op-inspct  Unmarried     \n",
       "<U+22EE>     <U+22EE>               <U+22EE>           <U+22EE>       \n",
       "32524  Divorced               Transport-moving   Not-in-family \n",
       "32525  Never-married          Machine-op-inspct  Other-relative\n",
       "32527  Married-civ-spouse     Transport-moving   Husband       \n",
       "32528  Never-married          Adm-clerical       Own-child     \n",
       "32529  Married-civ-spouse     Machine-op-inspct  Wife          \n",
       "32530  Separated              Sales              Unmarried     \n",
       "32533  Married-civ-spouse     Prof-specialty     Husband       \n",
       "32534  Married-civ-spouse     Exec-managerial    Husband       \n",
       "32535  Divorced               Adm-clerical       Unmarried     \n",
       "32536  Never-married          Protective-serv    Own-child     \n",
       "32537  Never-married          Exec-managerial    Not-in-family \n",
       "32538  Never-married          Craft-repair       Not-in-family \n",
       "32541  Separated              Adm-clerical       Own-child     \n",
       "32544  Divorced               Prof-specialty     Unmarried     \n",
       "32545  Divorced               Other-service      Not-in-family \n",
       "32546  Married-civ-spouse     Adm-clerical       Wife          \n",
       "32547  Divorced               Tech-support       Not-in-family \n",
       "32548  Married-civ-spouse     Machine-op-inspct  Husband       \n",
       "32549  Never-married          Prof-specialty     Not-in-family \n",
       "32550  Divorced               Adm-clerical       Other-relative\n",
       "32551  Married-civ-spouse     Craft-repair       Husband       \n",
       "32552  Married-civ-spouse     Handlers-cleaners  Husband       \n",
       "32553  Married-civ-spouse     Sales              Husband       \n",
       "32554  Never-married          Tech-support       Not-in-family \n",
       "32555  Married-civ-spouse     Exec-managerial    Husband       \n",
       "32556  Never-married          Protective-serv    Not-in-family \n",
       "32557  Married-civ-spouse     Tech-support       Wife          \n",
       "32558  Married-civ-spouse     Machine-op-inspct  Husband       \n",
       "32559  Widowed                Adm-clerical       Unmarried     \n",
       "32560  Never-married          Adm-clerical       Own-child     \n",
       "      race                sex     capital_gain capital_loss hours_per_week\n",
       "1      White               Male   2174         0            40            \n",
       "2      White               Male      0         0            13            \n",
       "3      White               Male      0         0            40            \n",
       "4      Black               Male      0         0            40            \n",
       "5      Black               Female    0         0            40            \n",
       "6      White               Female    0         0            40            \n",
       "7      Black               Female    0         0            16            \n",
       "8      White               Male      0         0            45            \n",
       "11     Black               Male      0         0            80            \n",
       "12     Asian-Pac-Islander  Male      0         0            40            \n",
       "13     White               Female    0         0            30            \n",
       "14     Black               Male      0         0            50            \n",
       "16     Amer-Indian-Eskimo  Male      0         0            45            \n",
       "17     White               Male      0         0            35            \n",
       "18     White               Male      0         0            40            \n",
       "19     White               Male      0         0            50            \n",
       "20     White               Female    0         0            45            \n",
       "21     White               Male      0         0            60            \n",
       "22     Black               Female    0         0            20            \n",
       "23     Black               Male      0         0            40            \n",
       "25     White               Female    0         0            40            \n",
       "26     White               Male      0         0            40            \n",
       "27     White               Male      0         0            40            \n",
       "29     White               Male      0         0            80            \n",
       "30     White               Male      0         0            40            \n",
       "31     White               Male      0         0            52            \n",
       "32     Black               Male      0         0            44            \n",
       "34     White               Male      0         0            40            \n",
       "35     Black               Male      0         0            15            \n",
       "36     White               Male      0         0            40            \n",
       "<U+22EE>     <U+22EE>            <U+22EE> <U+22EE>     <U+22EE>     <U+22EE>      \n",
       "32524  White               Male      0         0            55            \n",
       "32525  White               Female    0         0            15            \n",
       "32527  White               Male      0         0            40            \n",
       "32528  White               Male      0         0            40            \n",
       "32529  White               Female    0         0            40            \n",
       "32530  White               Female    0         0            35            \n",
       "32533  White               Male      0         0            60            \n",
       "32534  Asian-Pac-Islander  Male      0         0            50            \n",
       "32535  White               Female    0         0            39            \n",
       "32536  Black               Male      0         0            35            \n",
       "32537  White               Female    0         0            55            \n",
       "32538  Black               Male      0         0            46            \n",
       "32541  White               Female    0         0            40            \n",
       "32544  White               Female    0         0            48            \n",
       "32545  Other               Female    0         0            30            \n",
       "32546  White               Female    0         0            20            \n",
       "32547  White               Female    0         0            40            \n",
       "32548  White               Male      0         0            40            \n",
       "32549  White               Male   1086         0            60            \n",
       "32550  White               Female    0         0            40            \n",
       "32551  White               Male      0         0            50            \n",
       "32552  Amer-Indian-Eskimo  Male      0         0            40            \n",
       "32553  White               Male      0         0            45            \n",
       "32554  Asian-Pac-Islander  Male      0         0            11            \n",
       "32555  White               Male      0         0            40            \n",
       "32556  White               Male      0         0            40            \n",
       "32557  White               Female    0         0            38            \n",
       "32558  White               Male      0         0            40            \n",
       "32559  White               Female    0         0            40            \n",
       "32560  White               Male      0         0            20            \n",
       "      native_country income\n",
       "1      United-States 1     \n",
       "2      United-States 1     \n",
       "3      United-States 1     \n",
       "4      United-States 1     \n",
       "5      Cuba          1     \n",
       "6      United-States 1     \n",
       "7      Jamaica       1     \n",
       "8      United-States 0     \n",
       "11     United-States 0     \n",
       "12     India         0     \n",
       "13     United-States 1     \n",
       "14     United-States 1     \n",
       "16     Mexico        1     \n",
       "17     United-States 1     \n",
       "18     United-States 1     \n",
       "19     United-States 1     \n",
       "20     United-States 0     \n",
       "21     United-States 0     \n",
       "22     United-States 1     \n",
       "23     United-States 1     \n",
       "25     United-States 1     \n",
       "26     United-States 0     \n",
       "27     United-States 1     \n",
       "29     United-States 1     \n",
       "30     United-States 1     \n",
       "31     United-States 1     \n",
       "32     United-States 1     \n",
       "34     United-States 1     \n",
       "35     United-States 1     \n",
       "36     Puerto-Rico   1     \n",
       "<U+22EE>     <U+22EE>       <U+22EE>\n",
       "32524  United-States 1     \n",
       "32525  United-States 1     \n",
       "32527  United-States 1     \n",
       "32528  United-States 1     \n",
       "32529  United-States 1     \n",
       "32530  United-States 1     \n",
       "32533  United-States 0     \n",
       "32534  Japan         0     \n",
       "32535  United-States 1     \n",
       "32536  United-States 1     \n",
       "32537  United-States 0     \n",
       "32538  United-States 1     \n",
       "32541  United-States 1     \n",
       "32544  United-States 1     \n",
       "32545  United-States 1     \n",
       "32546  United-States 0     \n",
       "32547  United-States 1     \n",
       "32548  Mexico        1     \n",
       "32549  United-States 1     \n",
       "32550  United-States 1     \n",
       "32551  United-States 1     \n",
       "32552  United-States 1     \n",
       "32553  United-States 1     \n",
       "32554  Taiwan        1     \n",
       "32555  United-States 0     \n",
       "32556  United-States 1     \n",
       "32557  United-States 1     \n",
       "32558  United-States 0     \n",
       "32559  United-States 1     \n",
       "32560  United-States 1     "
      ]
     },
     "metadata": {},
     "output_type": "display_data"
    }
   ],
   "source": [
    "z=c()\n",
    "for (i in 1:nrow(adult)){\n",
    "  if(adult[i,11] > 5000 || adult[i,12] > 1000){\n",
    "    z = append(z,i)\n",
    "  }\n",
    "}\n",
    "adult = adult[-z, ]\n",
    "adult"
   ]
  },
  {
   "cell_type": "code",
   "execution_count": 76,
   "metadata": {},
   "outputs": [],
   "source": [
    "n = nrow(adult)\n",
    "z = sample(n, n*0.8)"
   ]
  },
  {
   "cell_type": "code",
   "execution_count": 86,
   "metadata": {},
   "outputs": [
    {
     "data": {
      "text/plain": [
       "\n",
       "Call:\n",
       " randomForest(formula = as.factor(income) ~ ., data = adult[z,      ]) \n",
       "               Type of random forest: classification\n",
       "                     Number of trees: 500\n",
       "No. of variables tried at each split: 3\n",
       "\n",
       "        OOB estimate of  error rate: 14.69%\n",
       "Confusion matrix:\n",
       "     0     1 class.error\n",
       "0 2119  2151  0.50374707\n",
       "1 1046 16446  0.05979877"
      ]
     },
     "metadata": {},
     "output_type": "display_data"
    }
   ],
   "source": [
    "library(randomForest)\n",
    "train_RF = randomForest(as.factor(income)~., data= adult[z,])\n",
    "train_RF"
   ]
  },
  {
   "cell_type": "code",
   "execution_count": 84,
   "metadata": {},
   "outputs": [
    {
     "data": {
      "text/plain": [
       "    \n",
       "yhat    0    1\n",
       "   0  541  253\n",
       "   1  543 4104"
      ]
     },
     "metadata": {},
     "output_type": "display_data"
    },
    {
     "data": {
      "text/html": [
       "0.146296636647675"
      ],
      "text/latex": [
       "0.146296636647675"
      ],
      "text/markdown": [
       "0.146296636647675"
      ],
      "text/plain": [
       "[1] 0.1462966"
      ]
     },
     "metadata": {},
     "output_type": "display_data"
    }
   ],
   "source": [
    "yhat = predict(train_RF, newdata= adult[-z,])\n",
    "\n",
    "table(yhat, adult$income[-z])\n",
    "mean(yhat!= adult[-z,]$income) "
   ]
  },
  {
   "cell_type": "markdown",
   "metadata": {},
   "source": [
    "## Tuning"
   ]
  },
  {
   "cell_type": "markdown",
   "metadata": {},
   "source": [
    "- Choose the best variables numbers to select in each split and how many trees should be built.\n",
    "- 3 variables, 1271 trees are our best parameters.\n",
    "- Error rate is 14.66%\n",
    "- Use variable important plot to show age, fnlwgt, relationship, education number, and marital status are top 5 important variables."
   ]
  },
  {
   "cell_type": "code",
   "execution_count": 85,
   "metadata": {},
   "outputs": [],
   "source": [
    "p = ncol(adult) -1\n",
    "\n",
    "ERRORRATE = rep(0,p) # p = 11 predictors. try every predictors to find the best random forest\n",
    "optimaltrees = rep(0,p)\n",
    "\n",
    "for(k in 1:p){\n",
    "  train_RF = randomForest(as.factor(income)~., data= adult[z,], mtry= k)\n",
    "  optimaltrees[k] = which.min(train_RF$err.rate) # In each variables selection, number with lowest error rate = optimal trees.\n",
    "  \n",
    "  train_RF = randomForest(as.factor(income)~., data= adult[z,], mtry= k, ntree= optimaltrees[k])\n",
    "  yhat = predict(train_RF, newdata = adult[-z,])\n",
    "  \n",
    "  ERRORRATE[k] = mean(yhat!= adult$income[-z])\n",
    "  #plot(train_RF$err.rate)\n",
    "}"
   ]
  },
  {
   "cell_type": "code",
   "execution_count": 87,
   "metadata": {},
   "outputs": [
    {
     "data": {
      "text/html": [
       "3"
      ],
      "text/latex": [
       "3"
      ],
      "text/markdown": [
       "3"
      ],
      "text/plain": [
       "[1] 3"
      ]
     },
     "metadata": {},
     "output_type": "display_data"
    }
   ],
   "source": [
    "which.min(ERRORRATE)"
   ]
  },
  {
   "cell_type": "code",
   "execution_count": 88,
   "metadata": {},
   "outputs": [
    {
     "data": {
      "text/html": [
       "1271"
      ],
      "text/latex": [
       "1271"
      ],
      "text/markdown": [
       "1271"
      ],
      "text/plain": [
       "[1] 1271"
      ]
     },
     "metadata": {},
     "output_type": "display_data"
    }
   ],
   "source": [
    "optimaltrees[3]"
   ]
  },
  {
   "cell_type": "code",
   "execution_count": 89,
   "metadata": {},
   "outputs": [
    {
     "data": {
      "text/plain": [
       "\n",
       "Call:\n",
       " randomForest(formula = as.factor(income) ~ ., data = adult[z,      ], mtry = 3, ntree = 1271) \n",
       "               Type of random forest: classification\n",
       "                     Number of trees: 1271\n",
       "No. of variables tried at each split: 3\n",
       "\n",
       "        OOB estimate of  error rate: 14.7%\n",
       "Confusion matrix:\n",
       "     0     1 class.error\n",
       "0 2114  2156  0.50491803\n",
       "1 1044 16448  0.05968443"
      ]
     },
     "metadata": {},
     "output_type": "display_data"
    }
   ],
   "source": [
    "best_RF = randomForest(as.factor(income)~., data= adult[z,], mtry= 3, ntree= 1271) \n",
    "best_RF"
   ]
  },
  {
   "cell_type": "code",
   "execution_count": 90,
   "metadata": {},
   "outputs": [
    {
     "data": {
      "text/plain": [
       "    \n",
       "yhat    0    1\n",
       "   0  540  254\n",
       "   1  544 4103"
      ]
     },
     "metadata": {},
     "output_type": "display_data"
    },
    {
     "data": {
      "text/html": [
       "0.14666421613674"
      ],
      "text/latex": [
       "0.14666421613674"
      ],
      "text/markdown": [
       "0.14666421613674"
      ],
      "text/plain": [
       "[1] 0.1466642"
      ]
     },
     "metadata": {},
     "output_type": "display_data"
    }
   ],
   "source": [
    "yhat = predict(best_RF, newdata= adult[-z,], type=\"class\")\n",
    "\n",
    "table(yhat, adult$income[-z])\n",
    "mean(yhat!= adult$income[-z])"
   ]
  },
  {
   "cell_type": "code",
   "execution_count": 91,
   "metadata": {},
   "outputs": [
    {
     "data": {
      "text/html": [
       "<table class=\"dataframe\">\n",
       "<caption>A matrix: 14 × 1 of type dbl</caption>\n",
       "<thead>\n",
       "\t<tr><th></th><th scope=col>MeanDecreaseGini</th></tr>\n",
       "</thead>\n",
       "<tbody>\n",
       "\t<tr><th scope=row>age</th><td>760.2988440</td></tr>\n",
       "\t<tr><th scope=row>workclass</th><td>224.4892391</td></tr>\n",
       "\t<tr><th scope=row>fnlwgt</th><td>700.6377169</td></tr>\n",
       "\t<tr><th scope=row>eduaction</th><td>241.6179451</td></tr>\n",
       "\t<tr><th scope=row>education_num</th><td>607.8620596</td></tr>\n",
       "\t<tr><th scope=row>marital_status</th><td>475.3466311</td></tr>\n",
       "\t<tr><th scope=row>occupation</th><td>383.3235026</td></tr>\n",
       "\t<tr><th scope=row>relationship</th><td>672.2021983</td></tr>\n",
       "\t<tr><th scope=row>race</th><td> 84.4814170</td></tr>\n",
       "\t<tr><th scope=row>sex</th><td> 97.4852073</td></tr>\n",
       "\t<tr><th scope=row>capital_gain</th><td> 96.0042455</td></tr>\n",
       "\t<tr><th scope=row>capital_loss</th><td>  0.3559301</td></tr>\n",
       "\t<tr><th scope=row>hours_per_week</th><td>463.1853892</td></tr>\n",
       "\t<tr><th scope=row>native_country</th><td>100.3694208</td></tr>\n",
       "</tbody>\n",
       "</table>\n"
      ],
      "text/latex": [
       "A matrix: 14 × 1 of type dbl\n",
       "\\begin{tabular}{r|l}\n",
       "  & MeanDecreaseGini\\\\\n",
       "\\hline\n",
       "\tage & 760.2988440\\\\\n",
       "\tworkclass & 224.4892391\\\\\n",
       "\tfnlwgt & 700.6377169\\\\\n",
       "\teduaction & 241.6179451\\\\\n",
       "\teducation\\_num & 607.8620596\\\\\n",
       "\tmarital\\_status & 475.3466311\\\\\n",
       "\toccupation & 383.3235026\\\\\n",
       "\trelationship & 672.2021983\\\\\n",
       "\trace &  84.4814170\\\\\n",
       "\tsex &  97.4852073\\\\\n",
       "\tcapital\\_gain &  96.0042455\\\\\n",
       "\tcapital\\_loss &   0.3559301\\\\\n",
       "\thours\\_per\\_week & 463.1853892\\\\\n",
       "\tnative\\_country & 100.3694208\\\\\n",
       "\\end{tabular}\n"
      ],
      "text/markdown": [
       "\n",
       "A matrix: 14 × 1 of type dbl\n",
       "\n",
       "| <!--/--> | MeanDecreaseGini |\n",
       "|---|---|\n",
       "| age | 760.2988440 |\n",
       "| workclass | 224.4892391 |\n",
       "| fnlwgt | 700.6377169 |\n",
       "| eduaction | 241.6179451 |\n",
       "| education_num | 607.8620596 |\n",
       "| marital_status | 475.3466311 |\n",
       "| occupation | 383.3235026 |\n",
       "| relationship | 672.2021983 |\n",
       "| race |  84.4814170 |\n",
       "| sex |  97.4852073 |\n",
       "| capital_gain |  96.0042455 |\n",
       "| capital_loss |   0.3559301 |\n",
       "| hours_per_week | 463.1853892 |\n",
       "| native_country | 100.3694208 |\n",
       "\n"
      ],
      "text/plain": [
       "               MeanDecreaseGini\n",
       "age            760.2988440     \n",
       "workclass      224.4892391     \n",
       "fnlwgt         700.6377169     \n",
       "eduaction      241.6179451     \n",
       "education_num  607.8620596     \n",
       "marital_status 475.3466311     \n",
       "occupation     383.3235026     \n",
       "relationship   672.2021983     \n",
       "race            84.4814170     \n",
       "sex             97.4852073     \n",
       "capital_gain    96.0042455     \n",
       "capital_loss     0.3559301     \n",
       "hours_per_week 463.1853892     \n",
       "native_country 100.3694208     "
      ]
     },
     "metadata": {},
     "output_type": "display_data"
    },
    {
     "data": {
      "image/png": "[encoded data removed]",
      "text/plain": [
       "Plot with title \"best_RF\""
      ]
     },
     "metadata": {
      "image/png": {
       "height": 420,
       "width": 420
      }
     },
     "output_type": "display_data"
    }
   ],
   "source": [
    "importance(best_RF) \n",
    "varImpPlot(best_RF)"
   ]
  },
  {
   "cell_type": "code",
   "execution_count": null,
   "metadata": {},
   "outputs": [],
   "source": []
  }
 ],
 "metadata": {
  "kernelspec": {
   "display_name": "R",
   "language": "R",
   "name": "ir"
  },
  "language_info": {
   "codemirror_mode": "r",
   "file_extension": ".r",
   "mimetype": "text/x-r-source",
   "name": "R",
   "pygments_lexer": "r",
   "version": "4.0.5"
  }
 },
 "nbformat": 4,
 "nbformat_minor": 4
}
